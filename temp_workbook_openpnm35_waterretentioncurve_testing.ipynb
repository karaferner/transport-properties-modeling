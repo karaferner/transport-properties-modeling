{
 "cells": [
  {
   "cell_type": "code",
   "execution_count": 2,
   "id": "65cabc71",
   "metadata": {},
   "outputs": [],
   "source": [
    "# import time\n",
    "import os\n",
    "from skimage import io\n",
    "import scipy as sp\n",
    "import numpy as np\n",
    "# import sys\n",
    "import openpnm as op\n",
    "import porespy as ps\n",
    "import pandas as pd\n",
    "import matplotlib.pyplot as plt \n",
    "from matplotlib import rcParams\n",
    "np.set_printoptions(precision=4)\n",
    "from scipy.optimize import curve_fit\n",
    "from scipy.interpolate import interp1d\n",
    "import math\n",
    "import pickle\n",
    "import seaborn as sns"
   ]
  },
  {
   "cell_type": "code",
   "execution_count": 3,
   "id": "62428633",
   "metadata": {},
   "outputs": [],
   "source": [
    "# Matplotlib plotting controls\n",
    "plt.rc('axes', linewidth=2)\n",
    "plt.rc('font', weight='bold')\n",
    "params = {'figure.autolayout': True,\n",
    "          'figure.titleweight': 'bold',\n",
    "          'font.weight': 'bold',\n",
    "          'font.size': 14,\n",
    "          'font.family': 'sans-serif',\n",
    "          'font.sans-serif': 'Arial',\n",
    "          'legend.fontsize': 12,\n",
    "#           'legend.title_fontsize':10,\n",
    "          'figure.figsize': (6, 5),\n",
    "          'figure.titlesize': 14,\n",
    "          'axes.labelsize': 12,\n",
    "          'axes.labelweight': 'bold',\n",
    "          'axes.titlesize': 14,\n",
    "          'axes.linewidth': 2,\n",
    "          'xtick.labelsize': 12,\n",
    "          'ytick.labelsize': 12,\n",
    "          'xtick.direction': 'in',\n",
    "          'ytick.direction': 'in',\n",
    "          'xtick.top': True,\n",
    "          'xtick.bottom': True,\n",
    "          'xtick.labeltop': False,\n",
    "          'xtick.labelbottom': True,\n",
    "          'ytick.left': True,\n",
    "          'ytick.right': True,\n",
    "          'ytick.labelright': False,\n",
    "          'ytick.labelleft': True,\n",
    "          'ytick.major.size': 5.5,\n",
    "          'ytick.major.width': 0.8,\n",
    "          'xtick.major.size': 5.5,\n",
    "          'xtick.major.width': 0.8,\n",
    "          'ytick.minor.size': 3.5,\n",
    "          'ytick.minor.width': 0.6,\n",
    "          'xtick.minor.size': 3.5,\n",
    "          'xtick.minor.width': 0.6,\n",
    "        'xtick.minor.visible':True,\n",
    "         'ytick.minor.visible':True}\n",
    "rcParams.update(params)"
   ]
  },
  {
   "cell_type": "code",
   "execution_count": 50,
   "id": "40ab7585",
   "metadata": {},
   "outputs": [],
   "source": [
    "path = './data/1p2um volumes/'\n",
    "\n",
    "with open(path+\"snow_solid_1p2um_networks.pkl\", \"rb\") as f:\n",
    "    snow_solid_networks = pickle.load(f)\n",
    "\n",
    "with open(path+\"snow_void_1p2um_networks.pkl\", \"rb\") as f:\n",
    "    snow_void_networks = pickle.load(f)\n",
    "\n",
    "snow_total_networks = [snow_solid_networks,snow_void_networks]"
   ]
  },
  {
   "cell_type": "code",
   "execution_count": 103,
   "id": "1c176019",
   "metadata": {},
   "outputs": [
    {
     "name": "stdout",
     "output_type": "stream",
     "text": [
      "pore volume:\n",
      "[5.8752e-23 1.1858e-22 5.3486e-21 ... 1.2312e-23 4.3416e-23 3.8880e-24]\n",
      "[5.8752e-23 1.1858e-22 5.3486e-21 ... 1.2312e-23 4.3416e-23 3.8880e-24]\n",
      "[5.8752e-23 1.1858e-22 5.3486e-21 ... 1.2312e-23 4.3416e-23 3.8880e-24]\n",
      "\n",
      "pore surface area:\n",
      "[3.8520e-15 6.4800e-15 3.6432e-14 ... 1.8360e-15 6.1560e-15 6.4800e-16]\n",
      "[5.2206e-15 4.7966e-15 0.0000e+00 ... 1.8945e-15 3.5618e-15 9.7974e-16]\n",
      "\n"
     ]
    }
   ],
   "source": [
    "test_snow = snow_total_networks[1][1][1]\n",
    "\n",
    "print('pore volume:')\n",
    "print(test_snow['pore.volume'])\n",
    "print(test_snow['pore.region_volume'])\n",
    "test_volume = op.models.geometry.pore_volume.sphere(test_region,pore_diameter='pore.equivalent_diameter')\n",
    "test_volume = test_snow['pore.equivalent_diameter']**3 * np.pi/6\n",
    "print(test_volume)\n",
    "print()\n",
    "\n",
    "print('pore surface area:')\n",
    "print(test_snow['pore.surface_area'])\n",
    "test_pore_surface_area = op.models.geometry.pore_surface_area.sphere(test_region,pore_diameter='pore.equivalent_diameter')\n",
    "print(test_pore_surface_area)\n",
    "print()\n"
   ]
  },
  {
   "cell_type": "markdown",
   "id": "c95bc63f",
   "metadata": {},
   "source": [
    "# Water retention curves - old - testing "
   ]
  },
  {
   "cell_type": "code",
   "execution_count": 77,
   "id": "d5ce7ab4",
   "metadata": {},
   "outputs": [],
   "source": [
    "#Create OpenPNM project objects\n",
    "pn_solid = []\n",
    "pn_void = []\n",
    "\n",
    "for x in snow_solid_networks:\n",
    "    pn_temp = []\n",
    "    for y in x:\n",
    "        pn_temp.append(op.io.network_from_porespy(y))\n",
    "    pn_solid.append(pn_temp)\n",
    "    \n",
    "for x in snow_void_networks:\n",
    "    pn_temp = []\n",
    "    for y in x:\n",
    "        pn_temp.append(op.io.network_from_porespy(y))\n",
    "    pn_void.append(pn_temp)\n",
    "    \n",
    "\n",
    "pn_total = [pn_solid, pn_void]\n"
   ]
  },
  {
   "cell_type": "code",
   "execution_count": null,
   "id": "8b418640",
   "metadata": {},
   "outputs": [
    {
     "name": "stdout",
     "output_type": "stream",
     "text": [
      "\n",
      "══════════════════════════════════════════════════════════════════════════════\n",
      "net : <openpnm.network.Network at 0x1819be840>\n",
      "――――――――――――――――――――――――――――――――――――――――――――――――――――――――――――――――――――――――――――――\n",
      "  #  Properties                                                   Valid Values\n",
      "――――――――――――――――――――――――――――――――――――――――――――――――――――――――――――――――――――――――――――――\n",
      "  2  throat.conns                                                  2159 / 2159\n",
      "  3  pore.coords                                                   1194 / 1194\n",
      "  4  pore.region_label                                             1194 / 1194\n",
      "  5  pore.phase                                                    1194 / 1194\n",
      "  6  throat.phases                                                 2159 / 2159\n",
      "  7  pore.region_volume                                            1194 / 1194\n",
      "  8  pore.equivalent_diameter                                      1194 / 1194\n",
      "  9  pore.local_peak                                               1194 / 1194\n",
      " 10  pore.global_peak                                              1194 / 1194\n",
      " 11  pore.geometric_centroid                                       1194 / 1194\n",
      " 12  throat.global_peak                                            2159 / 2159\n",
      " 13  pore.inscribed_diameter                                       1194 / 1194\n",
      " 14  pore.extended_diameter                                        1194 / 1194\n",
      " 15  throat.inscribed_diameter                                     2159 / 2159\n",
      " 16  throat.total_length                                           2159 / 2159\n",
      " 17  throat.direct_length                                          2159 / 2159\n",
      " 18  throat.perimeter                                              2159 / 2159\n",
      " 19  pore.volume                                                   1194 / 1194\n",
      " 20  pore.surface_area                                             1194 / 1194\n",
      " 21  throat.cross_sectional_area                                   2159 / 2159\n",
      " 22  throat.equivalent_diameter                                    2159 / 2159\n",
      "――――――――――――――――――――――――――――――――――――――――――――――――――――――――――――――――――――――――――――――\n",
      "  #  Labels                                                 Assigned Locations\n",
      "――――――――――――――――――――――――――――――――――――――――――――――――――――――――――――――――――――――――――――――\n",
      "  2  pore.all                                                             1194\n",
      "  3  throat.all                                                           2159\n",
      "  4  pore.boundary                                                         414\n",
      "  5  pore.xmin                                                              68\n",
      "  6  pore.xmax                                                              74\n",
      "  7  pore.ymin                                                              81\n",
      "  8  pore.ymax                                                              64\n",
      "  9  pore.zmin                                                              70\n",
      " 10  pore.zmax                                                              57\n",
      "――――――――――――――――――――――――――――――――――――――――――――――――――――――――――――――――――――――――――――――\n"
     ]
    }
   ],
   "source": [
    "test_region = pn_total[1][1][1]\n",
    "print(test_region)\n"
   ]
  },
  {
   "cell_type": "code",
   "execution_count": null,
   "id": "5bb65a10",
   "metadata": {},
   "outputs": [
    {
     "name": "stdout",
     "output_type": "stream",
     "text": [
      "throat length\n",
      "[6.9358e-08 5.0318e-08 4.2017e-08 ... 2.4888e-08 2.5995e-08 1.8637e-08]\n",
      "[1.1169e-08 1.0000e-15 1.0000e-15 ... 1.0000e-15 1.0000e-15 1.0000e-15]\n",
      "\n"
     ]
    }
   ],
   "source": [
    "test_region = pn_total[1][1][1]\n",
    "\n",
    "print('throat length')\n",
    "print(test_region['throat.total_length'])\n",
    "conduit_lengths = op.models.geometry.conduit_lengths.cones_and_cylinders(test_region,\n",
    "    pore_diameter='pore.equivalent_diameter',throat_diameter = 'throat.inscribed_diameter')\n",
    "test_throat_length = conduit_lengths[:,1]\n",
    "print(test_throat_length)\n",
    "print()\n",
    "\n",
    "# print('diffusive_size_factors')\n",
    "# print(test_geo['throat.diffusive_size_factors.pore1'])\n",
    "# diffusive_size_factors = op.models.geometry.diffusive_size_factors.cones_and_cylinders(test_geo)\n",
    "# print(diffusive_size_factors['pore1'])\n",
    "\n",
    "\n",
    "print(test_region)"
   ]
  },
  {
   "cell_type": "code",
   "execution_count": 54,
   "id": "60c68a47",
   "metadata": {},
   "outputs": [],
   "source": [
    "for s,sample in enumerate(pn_total[1]):\n",
    "    for r,region in enumerate(sample):\n",
    "\n",
    "        h = op.utils.check_network_health(region)\n",
    "        op.topotools.trim(network=region, pores=h['disconnected_pores'])\n",
    "        region.regenerate_models()\n",
    "\n",
    "\n",
    "        region['pore.diameter'] = region['pore.extended_diameter']\n",
    "        region['throat.diameter'] = region['throat.inscribed_diameter']\n",
    "        \n",
    "        region.add_model(propname='throat.coords',model=op.models.geometry.throat_centroid.pore_coords)\n",
    "       \n",
    "        region.add_model(propname='throat.length',model=op.models.geometry.throat_length.hybrid_cones_and_cylinders)\n",
    "        region.add_model(propname='throat.volume',model=op.models.geometry.throat_volume.cylinder)\n",
    "\n",
    "        region.regenerate_models()"
   ]
  },
  {
   "cell_type": "code",
   "execution_count": 55,
   "id": "a1fd17ec",
   "metadata": {},
   "outputs": [],
   "source": [
    "phases = []       \n",
    "for s,sample in enumerate(pn_total[1]):\n",
    "        sample_phases = []\n",
    "        for r,region in enumerate(sample):\n",
    "                phase = op.phase.Phase(network=region, name='phase_{}_{}'.format(s,r))\n",
    "                phase['pore.contact_angle'] =  105  \n",
    "                phase['pore.surface_tension'] = 0.0626 \n",
    "                # phase['throat.contact_angle'] =  105\n",
    "                # phase['throat.surface_tension'] = 0.0626\n",
    "\n",
    "                # phase.add_model_collection(op.models.collections.phase.water)\n",
    "                # phase.add_model_collection(op.models.collections.physics.basic)\n",
    "\n",
    "\n",
    "                phase.add_model(propname='throat.entry_pressure',model=op.models.physics.capillary_pressure.washburn,\n",
    "                                # surface_tension='throat.surface_tension',\n",
    "                                # contact_angle='thraot.contact_angle',\n",
    "                                # diameter='throat.diameter'\n",
    "                                )\n",
    "                phase.regenerate_models()\n",
    "\n",
    "                sample_phases.append(phase)\n",
    "        phases.append(sample_phases)\n",
    "\n"
   ]
  },
  {
   "cell_type": "code",
   "execution_count": 56,
   "id": "6ed8653e",
   "metadata": {},
   "outputs": [
    {
     "name": "stdout",
     "output_type": "stream",
     "text": [
      "[105. 105. 105. ... 105. 105. 105.]\n",
      "[0.0626 0.0626 0.0626 ... 0.0626 0.0626 0.0626]\n"
     ]
    }
   ],
   "source": [
    "print(phases[0][0]['throat.contact_angle'])\n",
    "print(phases[0][0]['throat.surface_tension'])"
   ]
  },
  {
   "cell_type": "code",
   "execution_count": 68,
   "id": "e61e13cd",
   "metadata": {},
   "outputs": [
    {
     "data": {
      "text/html": [
       "<pre style=\"white-space:pre;overflow-x:auto;line-height:normal;font-family:Menlo,'DejaVu Sans Mono',consolas,'Courier New',monospace\"><span style=\"color: #7fbfbf; text-decoration-color: #7fbfbf\">[12:56:15] </span><span style=\"color: #808000; text-decoration-color: #808000\">WARNING </span> perc_0_0 is already taken, using perc_0_01 instead                              <a href=\"file:///Users/karaferner/opt/anaconda3/envs/openpnm35/lib/python3.10/site-packages/openpnm/utils/_project.py\" target=\"_blank\"><span style=\"color: #7f7f7f; text-decoration-color: #7f7f7f\">_project.py</span></a><span style=\"color: #7f7f7f; text-decoration-color: #7f7f7f\">:</span><a href=\"file:///Users/karaferner/opt/anaconda3/envs/openpnm35/lib/python3.10/site-packages/openpnm/utils/_project.py#154\" target=\"_blank\"><span style=\"color: #7f7f7f; text-decoration-color: #7f7f7f\">154</span></a>\n",
       "</pre>\n"
      ],
      "text/plain": [
       "\u001b[2;36m[12:56:15]\u001b[0m\u001b[2;36m \u001b[0m\u001b[33mWARNING \u001b[0m perc_0_0 is already taken, using perc_0_01 instead                              \u001b]8;id=362087;file:///Users/karaferner/opt/anaconda3/envs/openpnm35/lib/python3.10/site-packages/openpnm/utils/_project.py\u001b\\\u001b[2m_project.py\u001b[0m\u001b]8;;\u001b\\\u001b[2m:\u001b[0m\u001b]8;id=444422;file:///Users/karaferner/opt/anaconda3/envs/openpnm35/lib/python3.10/site-packages/openpnm/utils/_project.py#154\u001b\\\u001b[2m154\u001b[0m\u001b]8;;\u001b\\\n"
      ]
     },
     "metadata": {},
     "output_type": "display_data"
    },
    {
     "data": {
      "text/html": [
       "<pre style=\"white-space:pre;overflow-x:auto;line-height:normal;font-family:Menlo,'DejaVu Sans Mono',consolas,'Courier New',monospace\"><span style=\"color: #7fbfbf; text-decoration-color: #7fbfbf\">           </span><span style=\"color: #808000; text-decoration-color: #808000\">WARNING </span> drain_0_0 is already taken, using drain_0_01 instead                            <a href=\"file:///Users/karaferner/opt/anaconda3/envs/openpnm35/lib/python3.10/site-packages/openpnm/utils/_project.py\" target=\"_blank\"><span style=\"color: #7f7f7f; text-decoration-color: #7f7f7f\">_project.py</span></a><span style=\"color: #7f7f7f; text-decoration-color: #7f7f7f\">:</span><a href=\"file:///Users/karaferner/opt/anaconda3/envs/openpnm35/lib/python3.10/site-packages/openpnm/utils/_project.py#154\" target=\"_blank\"><span style=\"color: #7f7f7f; text-decoration-color: #7f7f7f\">154</span></a>\n",
       "</pre>\n"
      ],
      "text/plain": [
       "\u001b[2;36m          \u001b[0m\u001b[2;36m \u001b[0m\u001b[33mWARNING \u001b[0m drain_0_0 is already taken, using drain_0_01 instead                            \u001b]8;id=581100;file:///Users/karaferner/opt/anaconda3/envs/openpnm35/lib/python3.10/site-packages/openpnm/utils/_project.py\u001b\\\u001b[2m_project.py\u001b[0m\u001b]8;;\u001b\\\u001b[2m:\u001b[0m\u001b]8;id=255142;file:///Users/karaferner/opt/anaconda3/envs/openpnm35/lib/python3.10/site-packages/openpnm/utils/_project.py#154\u001b\\\u001b[2m154\u001b[0m\u001b]8;;\u001b\\\n"
      ]
     },
     "metadata": {},
     "output_type": "display_data"
    },
    {
     "data": {
      "application/vnd.jupyter.widget-view+json": {
       "model_id": "e76be66270f34b6ebaad240456fc69f0",
       "version_major": 2,
       "version_minor": 0
      },
      "text/plain": [
       "Performing drainage simulation:   0%|          | 0/25 [00:00<?, ?it/s]"
      ]
     },
     "metadata": {},
     "output_type": "display_data"
    },
    {
     "data": {
      "text/html": [
       "<pre style=\"white-space:pre;overflow-x:auto;line-height:normal;font-family:Menlo,'DejaVu Sans Mono',consolas,'Courier New',monospace\"><span style=\"color: #7fbfbf; text-decoration-color: #7fbfbf\">           </span><span style=\"color: #808000; text-decoration-color: #808000\">WARNING </span> perc_0_1 is already taken, using perc_0_02 instead                              <a href=\"file:///Users/karaferner/opt/anaconda3/envs/openpnm35/lib/python3.10/site-packages/openpnm/utils/_project.py\" target=\"_blank\"><span style=\"color: #7f7f7f; text-decoration-color: #7f7f7f\">_project.py</span></a><span style=\"color: #7f7f7f; text-decoration-color: #7f7f7f\">:</span><a href=\"file:///Users/karaferner/opt/anaconda3/envs/openpnm35/lib/python3.10/site-packages/openpnm/utils/_project.py#154\" target=\"_blank\"><span style=\"color: #7f7f7f; text-decoration-color: #7f7f7f\">154</span></a>\n",
       "</pre>\n"
      ],
      "text/plain": [
       "\u001b[2;36m          \u001b[0m\u001b[2;36m \u001b[0m\u001b[33mWARNING \u001b[0m perc_0_1 is already taken, using perc_0_02 instead                              \u001b]8;id=52323;file:///Users/karaferner/opt/anaconda3/envs/openpnm35/lib/python3.10/site-packages/openpnm/utils/_project.py\u001b\\\u001b[2m_project.py\u001b[0m\u001b]8;;\u001b\\\u001b[2m:\u001b[0m\u001b]8;id=962120;file:///Users/karaferner/opt/anaconda3/envs/openpnm35/lib/python3.10/site-packages/openpnm/utils/_project.py#154\u001b\\\u001b[2m154\u001b[0m\u001b]8;;\u001b\\\n"
      ]
     },
     "metadata": {},
     "output_type": "display_data"
    },
    {
     "data": {
      "text/html": [
       "<pre style=\"white-space:pre;overflow-x:auto;line-height:normal;font-family:Menlo,'DejaVu Sans Mono',consolas,'Courier New',monospace\"><span style=\"color: #7fbfbf; text-decoration-color: #7fbfbf\">           </span><span style=\"color: #808000; text-decoration-color: #808000\">WARNING </span> drain_0_1 is already taken, using drain_0_02 instead                            <a href=\"file:///Users/karaferner/opt/anaconda3/envs/openpnm35/lib/python3.10/site-packages/openpnm/utils/_project.py\" target=\"_blank\"><span style=\"color: #7f7f7f; text-decoration-color: #7f7f7f\">_project.py</span></a><span style=\"color: #7f7f7f; text-decoration-color: #7f7f7f\">:</span><a href=\"file:///Users/karaferner/opt/anaconda3/envs/openpnm35/lib/python3.10/site-packages/openpnm/utils/_project.py#154\" target=\"_blank\"><span style=\"color: #7f7f7f; text-decoration-color: #7f7f7f\">154</span></a>\n",
       "</pre>\n"
      ],
      "text/plain": [
       "\u001b[2;36m          \u001b[0m\u001b[2;36m \u001b[0m\u001b[33mWARNING \u001b[0m drain_0_1 is already taken, using drain_0_02 instead                            \u001b]8;id=677447;file:///Users/karaferner/opt/anaconda3/envs/openpnm35/lib/python3.10/site-packages/openpnm/utils/_project.py\u001b\\\u001b[2m_project.py\u001b[0m\u001b]8;;\u001b\\\u001b[2m:\u001b[0m\u001b]8;id=469104;file:///Users/karaferner/opt/anaconda3/envs/openpnm35/lib/python3.10/site-packages/openpnm/utils/_project.py#154\u001b\\\u001b[2m154\u001b[0m\u001b]8;;\u001b\\\n"
      ]
     },
     "metadata": {},
     "output_type": "display_data"
    },
    {
     "data": {
      "application/vnd.jupyter.widget-view+json": {
       "model_id": "0e9952ecd1d1450c842b07b25cca61b0",
       "version_major": 2,
       "version_minor": 0
      },
      "text/plain": [
       "Performing drainage simulation:   0%|          | 0/25 [00:00<?, ?it/s]"
      ]
     },
     "metadata": {},
     "output_type": "display_data"
    },
    {
     "data": {
      "text/html": [
       "<pre style=\"white-space:pre;overflow-x:auto;line-height:normal;font-family:Menlo,'DejaVu Sans Mono',consolas,'Courier New',monospace\"><span style=\"color: #7fbfbf; text-decoration-color: #7fbfbf\">           </span><span style=\"color: #808000; text-decoration-color: #808000\">WARNING </span> perc_0_2 is already taken, using perc_0_03 instead                              <a href=\"file:///Users/karaferner/opt/anaconda3/envs/openpnm35/lib/python3.10/site-packages/openpnm/utils/_project.py\" target=\"_blank\"><span style=\"color: #7f7f7f; text-decoration-color: #7f7f7f\">_project.py</span></a><span style=\"color: #7f7f7f; text-decoration-color: #7f7f7f\">:</span><a href=\"file:///Users/karaferner/opt/anaconda3/envs/openpnm35/lib/python3.10/site-packages/openpnm/utils/_project.py#154\" target=\"_blank\"><span style=\"color: #7f7f7f; text-decoration-color: #7f7f7f\">154</span></a>\n",
       "</pre>\n"
      ],
      "text/plain": [
       "\u001b[2;36m          \u001b[0m\u001b[2;36m \u001b[0m\u001b[33mWARNING \u001b[0m perc_0_2 is already taken, using perc_0_03 instead                              \u001b]8;id=972830;file:///Users/karaferner/opt/anaconda3/envs/openpnm35/lib/python3.10/site-packages/openpnm/utils/_project.py\u001b\\\u001b[2m_project.py\u001b[0m\u001b]8;;\u001b\\\u001b[2m:\u001b[0m\u001b]8;id=306303;file:///Users/karaferner/opt/anaconda3/envs/openpnm35/lib/python3.10/site-packages/openpnm/utils/_project.py#154\u001b\\\u001b[2m154\u001b[0m\u001b]8;;\u001b\\\n"
      ]
     },
     "metadata": {},
     "output_type": "display_data"
    },
    {
     "data": {
      "text/html": [
       "<pre style=\"white-space:pre;overflow-x:auto;line-height:normal;font-family:Menlo,'DejaVu Sans Mono',consolas,'Courier New',monospace\"><span style=\"color: #7fbfbf; text-decoration-color: #7fbfbf\">           </span><span style=\"color: #808000; text-decoration-color: #808000\">WARNING </span> drain_0_2 is already taken, using drain_0_03 instead                            <a href=\"file:///Users/karaferner/opt/anaconda3/envs/openpnm35/lib/python3.10/site-packages/openpnm/utils/_project.py\" target=\"_blank\"><span style=\"color: #7f7f7f; text-decoration-color: #7f7f7f\">_project.py</span></a><span style=\"color: #7f7f7f; text-decoration-color: #7f7f7f\">:</span><a href=\"file:///Users/karaferner/opt/anaconda3/envs/openpnm35/lib/python3.10/site-packages/openpnm/utils/_project.py#154\" target=\"_blank\"><span style=\"color: #7f7f7f; text-decoration-color: #7f7f7f\">154</span></a>\n",
       "</pre>\n"
      ],
      "text/plain": [
       "\u001b[2;36m          \u001b[0m\u001b[2;36m \u001b[0m\u001b[33mWARNING \u001b[0m drain_0_2 is already taken, using drain_0_03 instead                            \u001b]8;id=321331;file:///Users/karaferner/opt/anaconda3/envs/openpnm35/lib/python3.10/site-packages/openpnm/utils/_project.py\u001b\\\u001b[2m_project.py\u001b[0m\u001b]8;;\u001b\\\u001b[2m:\u001b[0m\u001b]8;id=285306;file:///Users/karaferner/opt/anaconda3/envs/openpnm35/lib/python3.10/site-packages/openpnm/utils/_project.py#154\u001b\\\u001b[2m154\u001b[0m\u001b]8;;\u001b\\\n"
      ]
     },
     "metadata": {},
     "output_type": "display_data"
    },
    {
     "data": {
      "application/vnd.jupyter.widget-view+json": {
       "model_id": "0a877361749b400fbd33251bc336f0db",
       "version_major": 2,
       "version_minor": 0
      },
      "text/plain": [
       "Performing drainage simulation:   0%|          | 0/25 [00:00<?, ?it/s]"
      ]
     },
     "metadata": {},
     "output_type": "display_data"
    },
    {
     "data": {
      "text/html": [
       "<pre style=\"white-space:pre;overflow-x:auto;line-height:normal;font-family:Menlo,'DejaVu Sans Mono',consolas,'Courier New',monospace\"><span style=\"color: #7fbfbf; text-decoration-color: #7fbfbf\">           </span><span style=\"color: #808000; text-decoration-color: #808000\">WARNING </span> perc_0_3 is already taken, using perc_0_04 instead                              <a href=\"file:///Users/karaferner/opt/anaconda3/envs/openpnm35/lib/python3.10/site-packages/openpnm/utils/_project.py\" target=\"_blank\"><span style=\"color: #7f7f7f; text-decoration-color: #7f7f7f\">_project.py</span></a><span style=\"color: #7f7f7f; text-decoration-color: #7f7f7f\">:</span><a href=\"file:///Users/karaferner/opt/anaconda3/envs/openpnm35/lib/python3.10/site-packages/openpnm/utils/_project.py#154\" target=\"_blank\"><span style=\"color: #7f7f7f; text-decoration-color: #7f7f7f\">154</span></a>\n",
       "</pre>\n"
      ],
      "text/plain": [
       "\u001b[2;36m          \u001b[0m\u001b[2;36m \u001b[0m\u001b[33mWARNING \u001b[0m perc_0_3 is already taken, using perc_0_04 instead                              \u001b]8;id=803873;file:///Users/karaferner/opt/anaconda3/envs/openpnm35/lib/python3.10/site-packages/openpnm/utils/_project.py\u001b\\\u001b[2m_project.py\u001b[0m\u001b]8;;\u001b\\\u001b[2m:\u001b[0m\u001b]8;id=632994;file:///Users/karaferner/opt/anaconda3/envs/openpnm35/lib/python3.10/site-packages/openpnm/utils/_project.py#154\u001b\\\u001b[2m154\u001b[0m\u001b]8;;\u001b\\\n"
      ]
     },
     "metadata": {},
     "output_type": "display_data"
    },
    {
     "data": {
      "text/html": [
       "<pre style=\"white-space:pre;overflow-x:auto;line-height:normal;font-family:Menlo,'DejaVu Sans Mono',consolas,'Courier New',monospace\"><span style=\"color: #7fbfbf; text-decoration-color: #7fbfbf\">           </span><span style=\"color: #808000; text-decoration-color: #808000\">WARNING </span> drain_0_3 is already taken, using drain_0_04 instead                            <a href=\"file:///Users/karaferner/opt/anaconda3/envs/openpnm35/lib/python3.10/site-packages/openpnm/utils/_project.py\" target=\"_blank\"><span style=\"color: #7f7f7f; text-decoration-color: #7f7f7f\">_project.py</span></a><span style=\"color: #7f7f7f; text-decoration-color: #7f7f7f\">:</span><a href=\"file:///Users/karaferner/opt/anaconda3/envs/openpnm35/lib/python3.10/site-packages/openpnm/utils/_project.py#154\" target=\"_blank\"><span style=\"color: #7f7f7f; text-decoration-color: #7f7f7f\">154</span></a>\n",
       "</pre>\n"
      ],
      "text/plain": [
       "\u001b[2;36m          \u001b[0m\u001b[2;36m \u001b[0m\u001b[33mWARNING \u001b[0m drain_0_3 is already taken, using drain_0_04 instead                            \u001b]8;id=451375;file:///Users/karaferner/opt/anaconda3/envs/openpnm35/lib/python3.10/site-packages/openpnm/utils/_project.py\u001b\\\u001b[2m_project.py\u001b[0m\u001b]8;;\u001b\\\u001b[2m:\u001b[0m\u001b]8;id=930351;file:///Users/karaferner/opt/anaconda3/envs/openpnm35/lib/python3.10/site-packages/openpnm/utils/_project.py#154\u001b\\\u001b[2m154\u001b[0m\u001b]8;;\u001b\\\n"
      ]
     },
     "metadata": {},
     "output_type": "display_data"
    },
    {
     "data": {
      "application/vnd.jupyter.widget-view+json": {
       "model_id": "2570d63bdfae4b1aba0411fd949ef7a9",
       "version_major": 2,
       "version_minor": 0
      },
      "text/plain": [
       "Performing drainage simulation:   0%|          | 0/25 [00:00<?, ?it/s]"
      ]
     },
     "metadata": {},
     "output_type": "display_data"
    },
    {
     "data": {
      "text/html": [
       "<pre style=\"white-space:pre;overflow-x:auto;line-height:normal;font-family:Menlo,'DejaVu Sans Mono',consolas,'Courier New',monospace\"><span style=\"color: #7fbfbf; text-decoration-color: #7fbfbf\">           </span><span style=\"color: #808000; text-decoration-color: #808000\">WARNING </span> perc_0_4 is already taken, using perc_0_05 instead                              <a href=\"file:///Users/karaferner/opt/anaconda3/envs/openpnm35/lib/python3.10/site-packages/openpnm/utils/_project.py\" target=\"_blank\"><span style=\"color: #7f7f7f; text-decoration-color: #7f7f7f\">_project.py</span></a><span style=\"color: #7f7f7f; text-decoration-color: #7f7f7f\">:</span><a href=\"file:///Users/karaferner/opt/anaconda3/envs/openpnm35/lib/python3.10/site-packages/openpnm/utils/_project.py#154\" target=\"_blank\"><span style=\"color: #7f7f7f; text-decoration-color: #7f7f7f\">154</span></a>\n",
       "</pre>\n"
      ],
      "text/plain": [
       "\u001b[2;36m          \u001b[0m\u001b[2;36m \u001b[0m\u001b[33mWARNING \u001b[0m perc_0_4 is already taken, using perc_0_05 instead                              \u001b]8;id=272881;file:///Users/karaferner/opt/anaconda3/envs/openpnm35/lib/python3.10/site-packages/openpnm/utils/_project.py\u001b\\\u001b[2m_project.py\u001b[0m\u001b]8;;\u001b\\\u001b[2m:\u001b[0m\u001b]8;id=998992;file:///Users/karaferner/opt/anaconda3/envs/openpnm35/lib/python3.10/site-packages/openpnm/utils/_project.py#154\u001b\\\u001b[2m154\u001b[0m\u001b]8;;\u001b\\\n"
      ]
     },
     "metadata": {},
     "output_type": "display_data"
    },
    {
     "data": {
      "text/html": [
       "<pre style=\"white-space:pre;overflow-x:auto;line-height:normal;font-family:Menlo,'DejaVu Sans Mono',consolas,'Courier New',monospace\"><span style=\"color: #7fbfbf; text-decoration-color: #7fbfbf\">           </span><span style=\"color: #808000; text-decoration-color: #808000\">WARNING </span> drain_0_4 is already taken, using drain_0_05 instead                            <a href=\"file:///Users/karaferner/opt/anaconda3/envs/openpnm35/lib/python3.10/site-packages/openpnm/utils/_project.py\" target=\"_blank\"><span style=\"color: #7f7f7f; text-decoration-color: #7f7f7f\">_project.py</span></a><span style=\"color: #7f7f7f; text-decoration-color: #7f7f7f\">:</span><a href=\"file:///Users/karaferner/opt/anaconda3/envs/openpnm35/lib/python3.10/site-packages/openpnm/utils/_project.py#154\" target=\"_blank\"><span style=\"color: #7f7f7f; text-decoration-color: #7f7f7f\">154</span></a>\n",
       "</pre>\n"
      ],
      "text/plain": [
       "\u001b[2;36m          \u001b[0m\u001b[2;36m \u001b[0m\u001b[33mWARNING \u001b[0m drain_0_4 is already taken, using drain_0_05 instead                            \u001b]8;id=674044;file:///Users/karaferner/opt/anaconda3/envs/openpnm35/lib/python3.10/site-packages/openpnm/utils/_project.py\u001b\\\u001b[2m_project.py\u001b[0m\u001b]8;;\u001b\\\u001b[2m:\u001b[0m\u001b]8;id=416756;file:///Users/karaferner/opt/anaconda3/envs/openpnm35/lib/python3.10/site-packages/openpnm/utils/_project.py#154\u001b\\\u001b[2m154\u001b[0m\u001b]8;;\u001b\\\n"
      ]
     },
     "metadata": {},
     "output_type": "display_data"
    },
    {
     "data": {
      "application/vnd.jupyter.widget-view+json": {
       "model_id": "4692981e9f0845c28c2a58fa07805e06",
       "version_major": 2,
       "version_minor": 0
      },
      "text/plain": [
       "Performing drainage simulation:   0%|          | 0/25 [00:00<?, ?it/s]"
      ]
     },
     "metadata": {},
     "output_type": "display_data"
    },
    {
     "data": {
      "text/html": [
       "<pre style=\"white-space:pre;overflow-x:auto;line-height:normal;font-family:Menlo,'DejaVu Sans Mono',consolas,'Courier New',monospace\"><span style=\"color: #7fbfbf; text-decoration-color: #7fbfbf\">           </span><span style=\"color: #808000; text-decoration-color: #808000\">WARNING </span> perc_0_5 is already taken, using perc_0_06 instead                              <a href=\"file:///Users/karaferner/opt/anaconda3/envs/openpnm35/lib/python3.10/site-packages/openpnm/utils/_project.py\" target=\"_blank\"><span style=\"color: #7f7f7f; text-decoration-color: #7f7f7f\">_project.py</span></a><span style=\"color: #7f7f7f; text-decoration-color: #7f7f7f\">:</span><a href=\"file:///Users/karaferner/opt/anaconda3/envs/openpnm35/lib/python3.10/site-packages/openpnm/utils/_project.py#154\" target=\"_blank\"><span style=\"color: #7f7f7f; text-decoration-color: #7f7f7f\">154</span></a>\n",
       "</pre>\n"
      ],
      "text/plain": [
       "\u001b[2;36m          \u001b[0m\u001b[2;36m \u001b[0m\u001b[33mWARNING \u001b[0m perc_0_5 is already taken, using perc_0_06 instead                              \u001b]8;id=332052;file:///Users/karaferner/opt/anaconda3/envs/openpnm35/lib/python3.10/site-packages/openpnm/utils/_project.py\u001b\\\u001b[2m_project.py\u001b[0m\u001b]8;;\u001b\\\u001b[2m:\u001b[0m\u001b]8;id=719845;file:///Users/karaferner/opt/anaconda3/envs/openpnm35/lib/python3.10/site-packages/openpnm/utils/_project.py#154\u001b\\\u001b[2m154\u001b[0m\u001b]8;;\u001b\\\n"
      ]
     },
     "metadata": {},
     "output_type": "display_data"
    },
    {
     "data": {
      "text/html": [
       "<pre style=\"white-space:pre;overflow-x:auto;line-height:normal;font-family:Menlo,'DejaVu Sans Mono',consolas,'Courier New',monospace\"><span style=\"color: #7fbfbf; text-decoration-color: #7fbfbf\">           </span><span style=\"color: #808000; text-decoration-color: #808000\">WARNING </span> drain_0_5 is already taken, using drain_0_06 instead                            <a href=\"file:///Users/karaferner/opt/anaconda3/envs/openpnm35/lib/python3.10/site-packages/openpnm/utils/_project.py\" target=\"_blank\"><span style=\"color: #7f7f7f; text-decoration-color: #7f7f7f\">_project.py</span></a><span style=\"color: #7f7f7f; text-decoration-color: #7f7f7f\">:</span><a href=\"file:///Users/karaferner/opt/anaconda3/envs/openpnm35/lib/python3.10/site-packages/openpnm/utils/_project.py#154\" target=\"_blank\"><span style=\"color: #7f7f7f; text-decoration-color: #7f7f7f\">154</span></a>\n",
       "</pre>\n"
      ],
      "text/plain": [
       "\u001b[2;36m          \u001b[0m\u001b[2;36m \u001b[0m\u001b[33mWARNING \u001b[0m drain_0_5 is already taken, using drain_0_06 instead                            \u001b]8;id=758774;file:///Users/karaferner/opt/anaconda3/envs/openpnm35/lib/python3.10/site-packages/openpnm/utils/_project.py\u001b\\\u001b[2m_project.py\u001b[0m\u001b]8;;\u001b\\\u001b[2m:\u001b[0m\u001b]8;id=986870;file:///Users/karaferner/opt/anaconda3/envs/openpnm35/lib/python3.10/site-packages/openpnm/utils/_project.py#154\u001b\\\u001b[2m154\u001b[0m\u001b]8;;\u001b\\\n"
      ]
     },
     "metadata": {},
     "output_type": "display_data"
    },
    {
     "data": {
      "application/vnd.jupyter.widget-view+json": {
       "model_id": "b20031ec6acc447a8a7664c0057c4034",
       "version_major": 2,
       "version_minor": 0
      },
      "text/plain": [
       "Performing drainage simulation:   0%|          | 0/25 [00:00<?, ?it/s]"
      ]
     },
     "metadata": {},
     "output_type": "display_data"
    },
    {
     "data": {
      "text/html": [
       "<pre style=\"white-space:pre;overflow-x:auto;line-height:normal;font-family:Menlo,'DejaVu Sans Mono',consolas,'Courier New',monospace\"><span style=\"color: #7fbfbf; text-decoration-color: #7fbfbf\">           </span><span style=\"color: #808000; text-decoration-color: #808000\">WARNING </span> perc_1_0 is already taken, using perc_1_01 instead                              <a href=\"file:///Users/karaferner/opt/anaconda3/envs/openpnm35/lib/python3.10/site-packages/openpnm/utils/_project.py\" target=\"_blank\"><span style=\"color: #7f7f7f; text-decoration-color: #7f7f7f\">_project.py</span></a><span style=\"color: #7f7f7f; text-decoration-color: #7f7f7f\">:</span><a href=\"file:///Users/karaferner/opt/anaconda3/envs/openpnm35/lib/python3.10/site-packages/openpnm/utils/_project.py#154\" target=\"_blank\"><span style=\"color: #7f7f7f; text-decoration-color: #7f7f7f\">154</span></a>\n",
       "</pre>\n"
      ],
      "text/plain": [
       "\u001b[2;36m          \u001b[0m\u001b[2;36m \u001b[0m\u001b[33mWARNING \u001b[0m perc_1_0 is already taken, using perc_1_01 instead                              \u001b]8;id=162208;file:///Users/karaferner/opt/anaconda3/envs/openpnm35/lib/python3.10/site-packages/openpnm/utils/_project.py\u001b\\\u001b[2m_project.py\u001b[0m\u001b]8;;\u001b\\\u001b[2m:\u001b[0m\u001b]8;id=310582;file:///Users/karaferner/opt/anaconda3/envs/openpnm35/lib/python3.10/site-packages/openpnm/utils/_project.py#154\u001b\\\u001b[2m154\u001b[0m\u001b]8;;\u001b\\\n"
      ]
     },
     "metadata": {},
     "output_type": "display_data"
    },
    {
     "data": {
      "text/html": [
       "<pre style=\"white-space:pre;overflow-x:auto;line-height:normal;font-family:Menlo,'DejaVu Sans Mono',consolas,'Courier New',monospace\"><span style=\"color: #7fbfbf; text-decoration-color: #7fbfbf\">           </span><span style=\"color: #808000; text-decoration-color: #808000\">WARNING </span> drain_1_0 is already taken, using drain_1_01 instead                            <a href=\"file:///Users/karaferner/opt/anaconda3/envs/openpnm35/lib/python3.10/site-packages/openpnm/utils/_project.py\" target=\"_blank\"><span style=\"color: #7f7f7f; text-decoration-color: #7f7f7f\">_project.py</span></a><span style=\"color: #7f7f7f; text-decoration-color: #7f7f7f\">:</span><a href=\"file:///Users/karaferner/opt/anaconda3/envs/openpnm35/lib/python3.10/site-packages/openpnm/utils/_project.py#154\" target=\"_blank\"><span style=\"color: #7f7f7f; text-decoration-color: #7f7f7f\">154</span></a>\n",
       "</pre>\n"
      ],
      "text/plain": [
       "\u001b[2;36m          \u001b[0m\u001b[2;36m \u001b[0m\u001b[33mWARNING \u001b[0m drain_1_0 is already taken, using drain_1_01 instead                            \u001b]8;id=634824;file:///Users/karaferner/opt/anaconda3/envs/openpnm35/lib/python3.10/site-packages/openpnm/utils/_project.py\u001b\\\u001b[2m_project.py\u001b[0m\u001b]8;;\u001b\\\u001b[2m:\u001b[0m\u001b]8;id=258370;file:///Users/karaferner/opt/anaconda3/envs/openpnm35/lib/python3.10/site-packages/openpnm/utils/_project.py#154\u001b\\\u001b[2m154\u001b[0m\u001b]8;;\u001b\\\n"
      ]
     },
     "metadata": {},
     "output_type": "display_data"
    },
    {
     "data": {
      "application/vnd.jupyter.widget-view+json": {
       "model_id": "81c4de862adb49ac858d0e4eff1469e5",
       "version_major": 2,
       "version_minor": 0
      },
      "text/plain": [
       "Performing drainage simulation:   0%|          | 0/25 [00:00<?, ?it/s]"
      ]
     },
     "metadata": {},
     "output_type": "display_data"
    },
    {
     "data": {
      "text/html": [
       "<pre style=\"white-space:pre;overflow-x:auto;line-height:normal;font-family:Menlo,'DejaVu Sans Mono',consolas,'Courier New',monospace\"><span style=\"color: #7fbfbf; text-decoration-color: #7fbfbf\">           </span><span style=\"color: #808000; text-decoration-color: #808000\">WARNING </span> perc_1_1 is already taken, using perc_1_02 instead                              <a href=\"file:///Users/karaferner/opt/anaconda3/envs/openpnm35/lib/python3.10/site-packages/openpnm/utils/_project.py\" target=\"_blank\"><span style=\"color: #7f7f7f; text-decoration-color: #7f7f7f\">_project.py</span></a><span style=\"color: #7f7f7f; text-decoration-color: #7f7f7f\">:</span><a href=\"file:///Users/karaferner/opt/anaconda3/envs/openpnm35/lib/python3.10/site-packages/openpnm/utils/_project.py#154\" target=\"_blank\"><span style=\"color: #7f7f7f; text-decoration-color: #7f7f7f\">154</span></a>\n",
       "</pre>\n"
      ],
      "text/plain": [
       "\u001b[2;36m          \u001b[0m\u001b[2;36m \u001b[0m\u001b[33mWARNING \u001b[0m perc_1_1 is already taken, using perc_1_02 instead                              \u001b]8;id=236729;file:///Users/karaferner/opt/anaconda3/envs/openpnm35/lib/python3.10/site-packages/openpnm/utils/_project.py\u001b\\\u001b[2m_project.py\u001b[0m\u001b]8;;\u001b\\\u001b[2m:\u001b[0m\u001b]8;id=141458;file:///Users/karaferner/opt/anaconda3/envs/openpnm35/lib/python3.10/site-packages/openpnm/utils/_project.py#154\u001b\\\u001b[2m154\u001b[0m\u001b]8;;\u001b\\\n"
      ]
     },
     "metadata": {},
     "output_type": "display_data"
    },
    {
     "data": {
      "text/html": [
       "<pre style=\"white-space:pre;overflow-x:auto;line-height:normal;font-family:Menlo,'DejaVu Sans Mono',consolas,'Courier New',monospace\"><span style=\"color: #7fbfbf; text-decoration-color: #7fbfbf\">           </span><span style=\"color: #808000; text-decoration-color: #808000\">WARNING </span> drain_1_1 is already taken, using drain_1_02 instead                            <a href=\"file:///Users/karaferner/opt/anaconda3/envs/openpnm35/lib/python3.10/site-packages/openpnm/utils/_project.py\" target=\"_blank\"><span style=\"color: #7f7f7f; text-decoration-color: #7f7f7f\">_project.py</span></a><span style=\"color: #7f7f7f; text-decoration-color: #7f7f7f\">:</span><a href=\"file:///Users/karaferner/opt/anaconda3/envs/openpnm35/lib/python3.10/site-packages/openpnm/utils/_project.py#154\" target=\"_blank\"><span style=\"color: #7f7f7f; text-decoration-color: #7f7f7f\">154</span></a>\n",
       "</pre>\n"
      ],
      "text/plain": [
       "\u001b[2;36m          \u001b[0m\u001b[2;36m \u001b[0m\u001b[33mWARNING \u001b[0m drain_1_1 is already taken, using drain_1_02 instead                            \u001b]8;id=768083;file:///Users/karaferner/opt/anaconda3/envs/openpnm35/lib/python3.10/site-packages/openpnm/utils/_project.py\u001b\\\u001b[2m_project.py\u001b[0m\u001b]8;;\u001b\\\u001b[2m:\u001b[0m\u001b]8;id=902397;file:///Users/karaferner/opt/anaconda3/envs/openpnm35/lib/python3.10/site-packages/openpnm/utils/_project.py#154\u001b\\\u001b[2m154\u001b[0m\u001b]8;;\u001b\\\n"
      ]
     },
     "metadata": {},
     "output_type": "display_data"
    },
    {
     "data": {
      "application/vnd.jupyter.widget-view+json": {
       "model_id": "250da26316514277baffb115ba98b80b",
       "version_major": 2,
       "version_minor": 0
      },
      "text/plain": [
       "Performing drainage simulation:   0%|          | 0/25 [00:00<?, ?it/s]"
      ]
     },
     "metadata": {},
     "output_type": "display_data"
    },
    {
     "data": {
      "text/html": [
       "<pre style=\"white-space:pre;overflow-x:auto;line-height:normal;font-family:Menlo,'DejaVu Sans Mono',consolas,'Courier New',monospace\"><span style=\"color: #7fbfbf; text-decoration-color: #7fbfbf\">           </span><span style=\"color: #808000; text-decoration-color: #808000\">WARNING </span> perc_1_2 is already taken, using perc_1_03 instead                              <a href=\"file:///Users/karaferner/opt/anaconda3/envs/openpnm35/lib/python3.10/site-packages/openpnm/utils/_project.py\" target=\"_blank\"><span style=\"color: #7f7f7f; text-decoration-color: #7f7f7f\">_project.py</span></a><span style=\"color: #7f7f7f; text-decoration-color: #7f7f7f\">:</span><a href=\"file:///Users/karaferner/opt/anaconda3/envs/openpnm35/lib/python3.10/site-packages/openpnm/utils/_project.py#154\" target=\"_blank\"><span style=\"color: #7f7f7f; text-decoration-color: #7f7f7f\">154</span></a>\n",
       "</pre>\n"
      ],
      "text/plain": [
       "\u001b[2;36m          \u001b[0m\u001b[2;36m \u001b[0m\u001b[33mWARNING \u001b[0m perc_1_2 is already taken, using perc_1_03 instead                              \u001b]8;id=733562;file:///Users/karaferner/opt/anaconda3/envs/openpnm35/lib/python3.10/site-packages/openpnm/utils/_project.py\u001b\\\u001b[2m_project.py\u001b[0m\u001b]8;;\u001b\\\u001b[2m:\u001b[0m\u001b]8;id=810916;file:///Users/karaferner/opt/anaconda3/envs/openpnm35/lib/python3.10/site-packages/openpnm/utils/_project.py#154\u001b\\\u001b[2m154\u001b[0m\u001b]8;;\u001b\\\n"
      ]
     },
     "metadata": {},
     "output_type": "display_data"
    },
    {
     "data": {
      "text/html": [
       "<pre style=\"white-space:pre;overflow-x:auto;line-height:normal;font-family:Menlo,'DejaVu Sans Mono',consolas,'Courier New',monospace\"><span style=\"color: #7fbfbf; text-decoration-color: #7fbfbf\">           </span><span style=\"color: #808000; text-decoration-color: #808000\">WARNING </span> drain_1_2 is already taken, using drain_1_03 instead                            <a href=\"file:///Users/karaferner/opt/anaconda3/envs/openpnm35/lib/python3.10/site-packages/openpnm/utils/_project.py\" target=\"_blank\"><span style=\"color: #7f7f7f; text-decoration-color: #7f7f7f\">_project.py</span></a><span style=\"color: #7f7f7f; text-decoration-color: #7f7f7f\">:</span><a href=\"file:///Users/karaferner/opt/anaconda3/envs/openpnm35/lib/python3.10/site-packages/openpnm/utils/_project.py#154\" target=\"_blank\"><span style=\"color: #7f7f7f; text-decoration-color: #7f7f7f\">154</span></a>\n",
       "</pre>\n"
      ],
      "text/plain": [
       "\u001b[2;36m          \u001b[0m\u001b[2;36m \u001b[0m\u001b[33mWARNING \u001b[0m drain_1_2 is already taken, using drain_1_03 instead                            \u001b]8;id=507761;file:///Users/karaferner/opt/anaconda3/envs/openpnm35/lib/python3.10/site-packages/openpnm/utils/_project.py\u001b\\\u001b[2m_project.py\u001b[0m\u001b]8;;\u001b\\\u001b[2m:\u001b[0m\u001b]8;id=17390;file:///Users/karaferner/opt/anaconda3/envs/openpnm35/lib/python3.10/site-packages/openpnm/utils/_project.py#154\u001b\\\u001b[2m154\u001b[0m\u001b]8;;\u001b\\\n"
      ]
     },
     "metadata": {},
     "output_type": "display_data"
    },
    {
     "data": {
      "application/vnd.jupyter.widget-view+json": {
       "model_id": "b2a55c142712449fa436d9ade9d347ae",
       "version_major": 2,
       "version_minor": 0
      },
      "text/plain": [
       "Performing drainage simulation:   0%|          | 0/25 [00:00<?, ?it/s]"
      ]
     },
     "metadata": {},
     "output_type": "display_data"
    },
    {
     "data": {
      "text/html": [
       "<pre style=\"white-space:pre;overflow-x:auto;line-height:normal;font-family:Menlo,'DejaVu Sans Mono',consolas,'Courier New',monospace\"><span style=\"color: #7fbfbf; text-decoration-color: #7fbfbf\">[12:56:16] </span><span style=\"color: #808000; text-decoration-color: #808000\">WARNING </span> perc_1_3 is already taken, using perc_1_04 instead                              <a href=\"file:///Users/karaferner/opt/anaconda3/envs/openpnm35/lib/python3.10/site-packages/openpnm/utils/_project.py\" target=\"_blank\"><span style=\"color: #7f7f7f; text-decoration-color: #7f7f7f\">_project.py</span></a><span style=\"color: #7f7f7f; text-decoration-color: #7f7f7f\">:</span><a href=\"file:///Users/karaferner/opt/anaconda3/envs/openpnm35/lib/python3.10/site-packages/openpnm/utils/_project.py#154\" target=\"_blank\"><span style=\"color: #7f7f7f; text-decoration-color: #7f7f7f\">154</span></a>\n",
       "</pre>\n"
      ],
      "text/plain": [
       "\u001b[2;36m[12:56:16]\u001b[0m\u001b[2;36m \u001b[0m\u001b[33mWARNING \u001b[0m perc_1_3 is already taken, using perc_1_04 instead                              \u001b]8;id=318356;file:///Users/karaferner/opt/anaconda3/envs/openpnm35/lib/python3.10/site-packages/openpnm/utils/_project.py\u001b\\\u001b[2m_project.py\u001b[0m\u001b]8;;\u001b\\\u001b[2m:\u001b[0m\u001b]8;id=697976;file:///Users/karaferner/opt/anaconda3/envs/openpnm35/lib/python3.10/site-packages/openpnm/utils/_project.py#154\u001b\\\u001b[2m154\u001b[0m\u001b]8;;\u001b\\\n"
      ]
     },
     "metadata": {},
     "output_type": "display_data"
    },
    {
     "data": {
      "text/html": [
       "<pre style=\"white-space:pre;overflow-x:auto;line-height:normal;font-family:Menlo,'DejaVu Sans Mono',consolas,'Courier New',monospace\"><span style=\"color: #7fbfbf; text-decoration-color: #7fbfbf\">           </span><span style=\"color: #808000; text-decoration-color: #808000\">WARNING </span> drain_1_3 is already taken, using drain_1_04 instead                            <a href=\"file:///Users/karaferner/opt/anaconda3/envs/openpnm35/lib/python3.10/site-packages/openpnm/utils/_project.py\" target=\"_blank\"><span style=\"color: #7f7f7f; text-decoration-color: #7f7f7f\">_project.py</span></a><span style=\"color: #7f7f7f; text-decoration-color: #7f7f7f\">:</span><a href=\"file:///Users/karaferner/opt/anaconda3/envs/openpnm35/lib/python3.10/site-packages/openpnm/utils/_project.py#154\" target=\"_blank\"><span style=\"color: #7f7f7f; text-decoration-color: #7f7f7f\">154</span></a>\n",
       "</pre>\n"
      ],
      "text/plain": [
       "\u001b[2;36m          \u001b[0m\u001b[2;36m \u001b[0m\u001b[33mWARNING \u001b[0m drain_1_3 is already taken, using drain_1_04 instead                            \u001b]8;id=778654;file:///Users/karaferner/opt/anaconda3/envs/openpnm35/lib/python3.10/site-packages/openpnm/utils/_project.py\u001b\\\u001b[2m_project.py\u001b[0m\u001b]8;;\u001b\\\u001b[2m:\u001b[0m\u001b]8;id=625857;file:///Users/karaferner/opt/anaconda3/envs/openpnm35/lib/python3.10/site-packages/openpnm/utils/_project.py#154\u001b\\\u001b[2m154\u001b[0m\u001b]8;;\u001b\\\n"
      ]
     },
     "metadata": {},
     "output_type": "display_data"
    },
    {
     "data": {
      "application/vnd.jupyter.widget-view+json": {
       "model_id": "a19630d377cb468487d9dc347bbca264",
       "version_major": 2,
       "version_minor": 0
      },
      "text/plain": [
       "Performing drainage simulation:   0%|          | 0/25 [00:00<?, ?it/s]"
      ]
     },
     "metadata": {},
     "output_type": "display_data"
    },
    {
     "data": {
      "text/html": [
       "<pre style=\"white-space:pre;overflow-x:auto;line-height:normal;font-family:Menlo,'DejaVu Sans Mono',consolas,'Courier New',monospace\"><span style=\"color: #7fbfbf; text-decoration-color: #7fbfbf\">           </span><span style=\"color: #808000; text-decoration-color: #808000\">WARNING </span> perc_1_4 is already taken, using perc_1_05 instead                              <a href=\"file:///Users/karaferner/opt/anaconda3/envs/openpnm35/lib/python3.10/site-packages/openpnm/utils/_project.py\" target=\"_blank\"><span style=\"color: #7f7f7f; text-decoration-color: #7f7f7f\">_project.py</span></a><span style=\"color: #7f7f7f; text-decoration-color: #7f7f7f\">:</span><a href=\"file:///Users/karaferner/opt/anaconda3/envs/openpnm35/lib/python3.10/site-packages/openpnm/utils/_project.py#154\" target=\"_blank\"><span style=\"color: #7f7f7f; text-decoration-color: #7f7f7f\">154</span></a>\n",
       "</pre>\n"
      ],
      "text/plain": [
       "\u001b[2;36m          \u001b[0m\u001b[2;36m \u001b[0m\u001b[33mWARNING \u001b[0m perc_1_4 is already taken, using perc_1_05 instead                              \u001b]8;id=694745;file:///Users/karaferner/opt/anaconda3/envs/openpnm35/lib/python3.10/site-packages/openpnm/utils/_project.py\u001b\\\u001b[2m_project.py\u001b[0m\u001b]8;;\u001b\\\u001b[2m:\u001b[0m\u001b]8;id=132248;file:///Users/karaferner/opt/anaconda3/envs/openpnm35/lib/python3.10/site-packages/openpnm/utils/_project.py#154\u001b\\\u001b[2m154\u001b[0m\u001b]8;;\u001b\\\n"
      ]
     },
     "metadata": {},
     "output_type": "display_data"
    },
    {
     "data": {
      "text/html": [
       "<pre style=\"white-space:pre;overflow-x:auto;line-height:normal;font-family:Menlo,'DejaVu Sans Mono',consolas,'Courier New',monospace\"><span style=\"color: #7fbfbf; text-decoration-color: #7fbfbf\">           </span><span style=\"color: #808000; text-decoration-color: #808000\">WARNING </span> drain_1_4 is already taken, using drain_1_05 instead                            <a href=\"file:///Users/karaferner/opt/anaconda3/envs/openpnm35/lib/python3.10/site-packages/openpnm/utils/_project.py\" target=\"_blank\"><span style=\"color: #7f7f7f; text-decoration-color: #7f7f7f\">_project.py</span></a><span style=\"color: #7f7f7f; text-decoration-color: #7f7f7f\">:</span><a href=\"file:///Users/karaferner/opt/anaconda3/envs/openpnm35/lib/python3.10/site-packages/openpnm/utils/_project.py#154\" target=\"_blank\"><span style=\"color: #7f7f7f; text-decoration-color: #7f7f7f\">154</span></a>\n",
       "</pre>\n"
      ],
      "text/plain": [
       "\u001b[2;36m          \u001b[0m\u001b[2;36m \u001b[0m\u001b[33mWARNING \u001b[0m drain_1_4 is already taken, using drain_1_05 instead                            \u001b]8;id=555661;file:///Users/karaferner/opt/anaconda3/envs/openpnm35/lib/python3.10/site-packages/openpnm/utils/_project.py\u001b\\\u001b[2m_project.py\u001b[0m\u001b]8;;\u001b\\\u001b[2m:\u001b[0m\u001b]8;id=300134;file:///Users/karaferner/opt/anaconda3/envs/openpnm35/lib/python3.10/site-packages/openpnm/utils/_project.py#154\u001b\\\u001b[2m154\u001b[0m\u001b]8;;\u001b\\\n"
      ]
     },
     "metadata": {},
     "output_type": "display_data"
    },
    {
     "data": {
      "application/vnd.jupyter.widget-view+json": {
       "model_id": "8cca98105ec04d83978514616d6982fe",
       "version_major": 2,
       "version_minor": 0
      },
      "text/plain": [
       "Performing drainage simulation:   0%|          | 0/25 [00:00<?, ?it/s]"
      ]
     },
     "metadata": {},
     "output_type": "display_data"
    },
    {
     "data": {
      "text/html": [
       "<pre style=\"white-space:pre;overflow-x:auto;line-height:normal;font-family:Menlo,'DejaVu Sans Mono',consolas,'Courier New',monospace\"><span style=\"color: #7fbfbf; text-decoration-color: #7fbfbf\">           </span><span style=\"color: #808000; text-decoration-color: #808000\">WARNING </span> perc_1_5 is already taken, using perc_1_06 instead                              <a href=\"file:///Users/karaferner/opt/anaconda3/envs/openpnm35/lib/python3.10/site-packages/openpnm/utils/_project.py\" target=\"_blank\"><span style=\"color: #7f7f7f; text-decoration-color: #7f7f7f\">_project.py</span></a><span style=\"color: #7f7f7f; text-decoration-color: #7f7f7f\">:</span><a href=\"file:///Users/karaferner/opt/anaconda3/envs/openpnm35/lib/python3.10/site-packages/openpnm/utils/_project.py#154\" target=\"_blank\"><span style=\"color: #7f7f7f; text-decoration-color: #7f7f7f\">154</span></a>\n",
       "</pre>\n"
      ],
      "text/plain": [
       "\u001b[2;36m          \u001b[0m\u001b[2;36m \u001b[0m\u001b[33mWARNING \u001b[0m perc_1_5 is already taken, using perc_1_06 instead                              \u001b]8;id=731063;file:///Users/karaferner/opt/anaconda3/envs/openpnm35/lib/python3.10/site-packages/openpnm/utils/_project.py\u001b\\\u001b[2m_project.py\u001b[0m\u001b]8;;\u001b\\\u001b[2m:\u001b[0m\u001b]8;id=894519;file:///Users/karaferner/opt/anaconda3/envs/openpnm35/lib/python3.10/site-packages/openpnm/utils/_project.py#154\u001b\\\u001b[2m154\u001b[0m\u001b]8;;\u001b\\\n"
      ]
     },
     "metadata": {},
     "output_type": "display_data"
    },
    {
     "data": {
      "text/html": [
       "<pre style=\"white-space:pre;overflow-x:auto;line-height:normal;font-family:Menlo,'DejaVu Sans Mono',consolas,'Courier New',monospace\"><span style=\"color: #7fbfbf; text-decoration-color: #7fbfbf\">           </span><span style=\"color: #808000; text-decoration-color: #808000\">WARNING </span> drain_1_5 is already taken, using drain_1_06 instead                            <a href=\"file:///Users/karaferner/opt/anaconda3/envs/openpnm35/lib/python3.10/site-packages/openpnm/utils/_project.py\" target=\"_blank\"><span style=\"color: #7f7f7f; text-decoration-color: #7f7f7f\">_project.py</span></a><span style=\"color: #7f7f7f; text-decoration-color: #7f7f7f\">:</span><a href=\"file:///Users/karaferner/opt/anaconda3/envs/openpnm35/lib/python3.10/site-packages/openpnm/utils/_project.py#154\" target=\"_blank\"><span style=\"color: #7f7f7f; text-decoration-color: #7f7f7f\">154</span></a>\n",
       "</pre>\n"
      ],
      "text/plain": [
       "\u001b[2;36m          \u001b[0m\u001b[2;36m \u001b[0m\u001b[33mWARNING \u001b[0m drain_1_5 is already taken, using drain_1_06 instead                            \u001b]8;id=522378;file:///Users/karaferner/opt/anaconda3/envs/openpnm35/lib/python3.10/site-packages/openpnm/utils/_project.py\u001b\\\u001b[2m_project.py\u001b[0m\u001b]8;;\u001b\\\u001b[2m:\u001b[0m\u001b]8;id=183895;file:///Users/karaferner/opt/anaconda3/envs/openpnm35/lib/python3.10/site-packages/openpnm/utils/_project.py#154\u001b\\\u001b[2m154\u001b[0m\u001b]8;;\u001b\\\n"
      ]
     },
     "metadata": {},
     "output_type": "display_data"
    },
    {
     "data": {
      "application/vnd.jupyter.widget-view+json": {
       "model_id": "859a8d1003c6442ab8c8ae04494a0296",
       "version_major": 2,
       "version_minor": 0
      },
      "text/plain": [
       "Performing drainage simulation:   0%|          | 0/25 [00:00<?, ?it/s]"
      ]
     },
     "metadata": {},
     "output_type": "display_data"
    },
    {
     "data": {
      "text/html": [
       "<pre style=\"white-space:pre;overflow-x:auto;line-height:normal;font-family:Menlo,'DejaVu Sans Mono',consolas,'Courier New',monospace\"><span style=\"color: #7fbfbf; text-decoration-color: #7fbfbf\">           </span><span style=\"color: #808000; text-decoration-color: #808000\">WARNING </span> perc_2_0 is already taken, using perc_2_01 instead                              <a href=\"file:///Users/karaferner/opt/anaconda3/envs/openpnm35/lib/python3.10/site-packages/openpnm/utils/_project.py\" target=\"_blank\"><span style=\"color: #7f7f7f; text-decoration-color: #7f7f7f\">_project.py</span></a><span style=\"color: #7f7f7f; text-decoration-color: #7f7f7f\">:</span><a href=\"file:///Users/karaferner/opt/anaconda3/envs/openpnm35/lib/python3.10/site-packages/openpnm/utils/_project.py#154\" target=\"_blank\"><span style=\"color: #7f7f7f; text-decoration-color: #7f7f7f\">154</span></a>\n",
       "</pre>\n"
      ],
      "text/plain": [
       "\u001b[2;36m          \u001b[0m\u001b[2;36m \u001b[0m\u001b[33mWARNING \u001b[0m perc_2_0 is already taken, using perc_2_01 instead                              \u001b]8;id=222266;file:///Users/karaferner/opt/anaconda3/envs/openpnm35/lib/python3.10/site-packages/openpnm/utils/_project.py\u001b\\\u001b[2m_project.py\u001b[0m\u001b]8;;\u001b\\\u001b[2m:\u001b[0m\u001b]8;id=40342;file:///Users/karaferner/opt/anaconda3/envs/openpnm35/lib/python3.10/site-packages/openpnm/utils/_project.py#154\u001b\\\u001b[2m154\u001b[0m\u001b]8;;\u001b\\\n"
      ]
     },
     "metadata": {},
     "output_type": "display_data"
    },
    {
     "data": {
      "text/html": [
       "<pre style=\"white-space:pre;overflow-x:auto;line-height:normal;font-family:Menlo,'DejaVu Sans Mono',consolas,'Courier New',monospace\"><span style=\"color: #7fbfbf; text-decoration-color: #7fbfbf\">           </span><span style=\"color: #808000; text-decoration-color: #808000\">WARNING </span> drain_2_0 is already taken, using drain_2_01 instead                            <a href=\"file:///Users/karaferner/opt/anaconda3/envs/openpnm35/lib/python3.10/site-packages/openpnm/utils/_project.py\" target=\"_blank\"><span style=\"color: #7f7f7f; text-decoration-color: #7f7f7f\">_project.py</span></a><span style=\"color: #7f7f7f; text-decoration-color: #7f7f7f\">:</span><a href=\"file:///Users/karaferner/opt/anaconda3/envs/openpnm35/lib/python3.10/site-packages/openpnm/utils/_project.py#154\" target=\"_blank\"><span style=\"color: #7f7f7f; text-decoration-color: #7f7f7f\">154</span></a>\n",
       "</pre>\n"
      ],
      "text/plain": [
       "\u001b[2;36m          \u001b[0m\u001b[2;36m \u001b[0m\u001b[33mWARNING \u001b[0m drain_2_0 is already taken, using drain_2_01 instead                            \u001b]8;id=862732;file:///Users/karaferner/opt/anaconda3/envs/openpnm35/lib/python3.10/site-packages/openpnm/utils/_project.py\u001b\\\u001b[2m_project.py\u001b[0m\u001b]8;;\u001b\\\u001b[2m:\u001b[0m\u001b]8;id=417342;file:///Users/karaferner/opt/anaconda3/envs/openpnm35/lib/python3.10/site-packages/openpnm/utils/_project.py#154\u001b\\\u001b[2m154\u001b[0m\u001b]8;;\u001b\\\n"
      ]
     },
     "metadata": {},
     "output_type": "display_data"
    },
    {
     "data": {
      "application/vnd.jupyter.widget-view+json": {
       "model_id": "616f329eceb240e3860736bf8bd6ded0",
       "version_major": 2,
       "version_minor": 0
      },
      "text/plain": [
       "Performing drainage simulation:   0%|          | 0/25 [00:00<?, ?it/s]"
      ]
     },
     "metadata": {},
     "output_type": "display_data"
    },
    {
     "data": {
      "text/html": [
       "<pre style=\"white-space:pre;overflow-x:auto;line-height:normal;font-family:Menlo,'DejaVu Sans Mono',consolas,'Courier New',monospace\"><span style=\"color: #7fbfbf; text-decoration-color: #7fbfbf\">           </span><span style=\"color: #808000; text-decoration-color: #808000\">WARNING </span> perc_2_1 is already taken, using perc_2_02 instead                              <a href=\"file:///Users/karaferner/opt/anaconda3/envs/openpnm35/lib/python3.10/site-packages/openpnm/utils/_project.py\" target=\"_blank\"><span style=\"color: #7f7f7f; text-decoration-color: #7f7f7f\">_project.py</span></a><span style=\"color: #7f7f7f; text-decoration-color: #7f7f7f\">:</span><a href=\"file:///Users/karaferner/opt/anaconda3/envs/openpnm35/lib/python3.10/site-packages/openpnm/utils/_project.py#154\" target=\"_blank\"><span style=\"color: #7f7f7f; text-decoration-color: #7f7f7f\">154</span></a>\n",
       "</pre>\n"
      ],
      "text/plain": [
       "\u001b[2;36m          \u001b[0m\u001b[2;36m \u001b[0m\u001b[33mWARNING \u001b[0m perc_2_1 is already taken, using perc_2_02 instead                              \u001b]8;id=213351;file:///Users/karaferner/opt/anaconda3/envs/openpnm35/lib/python3.10/site-packages/openpnm/utils/_project.py\u001b\\\u001b[2m_project.py\u001b[0m\u001b]8;;\u001b\\\u001b[2m:\u001b[0m\u001b]8;id=396076;file:///Users/karaferner/opt/anaconda3/envs/openpnm35/lib/python3.10/site-packages/openpnm/utils/_project.py#154\u001b\\\u001b[2m154\u001b[0m\u001b]8;;\u001b\\\n"
      ]
     },
     "metadata": {},
     "output_type": "display_data"
    },
    {
     "data": {
      "text/html": [
       "<pre style=\"white-space:pre;overflow-x:auto;line-height:normal;font-family:Menlo,'DejaVu Sans Mono',consolas,'Courier New',monospace\"><span style=\"color: #7fbfbf; text-decoration-color: #7fbfbf\">           </span><span style=\"color: #808000; text-decoration-color: #808000\">WARNING </span> drain_2_1 is already taken, using drain_2_02 instead                            <a href=\"file:///Users/karaferner/opt/anaconda3/envs/openpnm35/lib/python3.10/site-packages/openpnm/utils/_project.py\" target=\"_blank\"><span style=\"color: #7f7f7f; text-decoration-color: #7f7f7f\">_project.py</span></a><span style=\"color: #7f7f7f; text-decoration-color: #7f7f7f\">:</span><a href=\"file:///Users/karaferner/opt/anaconda3/envs/openpnm35/lib/python3.10/site-packages/openpnm/utils/_project.py#154\" target=\"_blank\"><span style=\"color: #7f7f7f; text-decoration-color: #7f7f7f\">154</span></a>\n",
       "</pre>\n"
      ],
      "text/plain": [
       "\u001b[2;36m          \u001b[0m\u001b[2;36m \u001b[0m\u001b[33mWARNING \u001b[0m drain_2_1 is already taken, using drain_2_02 instead                            \u001b]8;id=568598;file:///Users/karaferner/opt/anaconda3/envs/openpnm35/lib/python3.10/site-packages/openpnm/utils/_project.py\u001b\\\u001b[2m_project.py\u001b[0m\u001b]8;;\u001b\\\u001b[2m:\u001b[0m\u001b]8;id=5285;file:///Users/karaferner/opt/anaconda3/envs/openpnm35/lib/python3.10/site-packages/openpnm/utils/_project.py#154\u001b\\\u001b[2m154\u001b[0m\u001b]8;;\u001b\\\n"
      ]
     },
     "metadata": {},
     "output_type": "display_data"
    },
    {
     "data": {
      "application/vnd.jupyter.widget-view+json": {
       "model_id": "404e3e37d7d64cad9bb5d711280a8367",
       "version_major": 2,
       "version_minor": 0
      },
      "text/plain": [
       "Performing drainage simulation:   0%|          | 0/25 [00:00<?, ?it/s]"
      ]
     },
     "metadata": {},
     "output_type": "display_data"
    },
    {
     "data": {
      "text/html": [
       "<pre style=\"white-space:pre;overflow-x:auto;line-height:normal;font-family:Menlo,'DejaVu Sans Mono',consolas,'Courier New',monospace\"><span style=\"color: #7fbfbf; text-decoration-color: #7fbfbf\">           </span><span style=\"color: #808000; text-decoration-color: #808000\">WARNING </span> perc_2_2 is already taken, using perc_2_03 instead                              <a href=\"file:///Users/karaferner/opt/anaconda3/envs/openpnm35/lib/python3.10/site-packages/openpnm/utils/_project.py\" target=\"_blank\"><span style=\"color: #7f7f7f; text-decoration-color: #7f7f7f\">_project.py</span></a><span style=\"color: #7f7f7f; text-decoration-color: #7f7f7f\">:</span><a href=\"file:///Users/karaferner/opt/anaconda3/envs/openpnm35/lib/python3.10/site-packages/openpnm/utils/_project.py#154\" target=\"_blank\"><span style=\"color: #7f7f7f; text-decoration-color: #7f7f7f\">154</span></a>\n",
       "</pre>\n"
      ],
      "text/plain": [
       "\u001b[2;36m          \u001b[0m\u001b[2;36m \u001b[0m\u001b[33mWARNING \u001b[0m perc_2_2 is already taken, using perc_2_03 instead                              \u001b]8;id=913460;file:///Users/karaferner/opt/anaconda3/envs/openpnm35/lib/python3.10/site-packages/openpnm/utils/_project.py\u001b\\\u001b[2m_project.py\u001b[0m\u001b]8;;\u001b\\\u001b[2m:\u001b[0m\u001b]8;id=884788;file:///Users/karaferner/opt/anaconda3/envs/openpnm35/lib/python3.10/site-packages/openpnm/utils/_project.py#154\u001b\\\u001b[2m154\u001b[0m\u001b]8;;\u001b\\\n"
      ]
     },
     "metadata": {},
     "output_type": "display_data"
    },
    {
     "data": {
      "text/html": [
       "<pre style=\"white-space:pre;overflow-x:auto;line-height:normal;font-family:Menlo,'DejaVu Sans Mono',consolas,'Courier New',monospace\"><span style=\"color: #7fbfbf; text-decoration-color: #7fbfbf\">           </span><span style=\"color: #808000; text-decoration-color: #808000\">WARNING </span> drain_2_2 is already taken, using drain_2_03 instead                            <a href=\"file:///Users/karaferner/opt/anaconda3/envs/openpnm35/lib/python3.10/site-packages/openpnm/utils/_project.py\" target=\"_blank\"><span style=\"color: #7f7f7f; text-decoration-color: #7f7f7f\">_project.py</span></a><span style=\"color: #7f7f7f; text-decoration-color: #7f7f7f\">:</span><a href=\"file:///Users/karaferner/opt/anaconda3/envs/openpnm35/lib/python3.10/site-packages/openpnm/utils/_project.py#154\" target=\"_blank\"><span style=\"color: #7f7f7f; text-decoration-color: #7f7f7f\">154</span></a>\n",
       "</pre>\n"
      ],
      "text/plain": [
       "\u001b[2;36m          \u001b[0m\u001b[2;36m \u001b[0m\u001b[33mWARNING \u001b[0m drain_2_2 is already taken, using drain_2_03 instead                            \u001b]8;id=509382;file:///Users/karaferner/opt/anaconda3/envs/openpnm35/lib/python3.10/site-packages/openpnm/utils/_project.py\u001b\\\u001b[2m_project.py\u001b[0m\u001b]8;;\u001b\\\u001b[2m:\u001b[0m\u001b]8;id=925440;file:///Users/karaferner/opt/anaconda3/envs/openpnm35/lib/python3.10/site-packages/openpnm/utils/_project.py#154\u001b\\\u001b[2m154\u001b[0m\u001b]8;;\u001b\\\n"
      ]
     },
     "metadata": {},
     "output_type": "display_data"
    },
    {
     "data": {
      "application/vnd.jupyter.widget-view+json": {
       "model_id": "2c0e575b248644288600ba8a5891c969",
       "version_major": 2,
       "version_minor": 0
      },
      "text/plain": [
       "Performing drainage simulation:   0%|          | 0/25 [00:00<?, ?it/s]"
      ]
     },
     "metadata": {},
     "output_type": "display_data"
    },
    {
     "data": {
      "text/html": [
       "<pre style=\"white-space:pre;overflow-x:auto;line-height:normal;font-family:Menlo,'DejaVu Sans Mono',consolas,'Courier New',monospace\"><span style=\"color: #7fbfbf; text-decoration-color: #7fbfbf\">           </span><span style=\"color: #808000; text-decoration-color: #808000\">WARNING </span> perc_2_3 is already taken, using perc_2_04 instead                              <a href=\"file:///Users/karaferner/opt/anaconda3/envs/openpnm35/lib/python3.10/site-packages/openpnm/utils/_project.py\" target=\"_blank\"><span style=\"color: #7f7f7f; text-decoration-color: #7f7f7f\">_project.py</span></a><span style=\"color: #7f7f7f; text-decoration-color: #7f7f7f\">:</span><a href=\"file:///Users/karaferner/opt/anaconda3/envs/openpnm35/lib/python3.10/site-packages/openpnm/utils/_project.py#154\" target=\"_blank\"><span style=\"color: #7f7f7f; text-decoration-color: #7f7f7f\">154</span></a>\n",
       "</pre>\n"
      ],
      "text/plain": [
       "\u001b[2;36m          \u001b[0m\u001b[2;36m \u001b[0m\u001b[33mWARNING \u001b[0m perc_2_3 is already taken, using perc_2_04 instead                              \u001b]8;id=16229;file:///Users/karaferner/opt/anaconda3/envs/openpnm35/lib/python3.10/site-packages/openpnm/utils/_project.py\u001b\\\u001b[2m_project.py\u001b[0m\u001b]8;;\u001b\\\u001b[2m:\u001b[0m\u001b]8;id=605227;file:///Users/karaferner/opt/anaconda3/envs/openpnm35/lib/python3.10/site-packages/openpnm/utils/_project.py#154\u001b\\\u001b[2m154\u001b[0m\u001b]8;;\u001b\\\n"
      ]
     },
     "metadata": {},
     "output_type": "display_data"
    },
    {
     "data": {
      "text/html": [
       "<pre style=\"white-space:pre;overflow-x:auto;line-height:normal;font-family:Menlo,'DejaVu Sans Mono',consolas,'Courier New',monospace\"><span style=\"color: #7fbfbf; text-decoration-color: #7fbfbf\">           </span><span style=\"color: #808000; text-decoration-color: #808000\">WARNING </span> drain_2_3 is already taken, using drain_2_04 instead                            <a href=\"file:///Users/karaferner/opt/anaconda3/envs/openpnm35/lib/python3.10/site-packages/openpnm/utils/_project.py\" target=\"_blank\"><span style=\"color: #7f7f7f; text-decoration-color: #7f7f7f\">_project.py</span></a><span style=\"color: #7f7f7f; text-decoration-color: #7f7f7f\">:</span><a href=\"file:///Users/karaferner/opt/anaconda3/envs/openpnm35/lib/python3.10/site-packages/openpnm/utils/_project.py#154\" target=\"_blank\"><span style=\"color: #7f7f7f; text-decoration-color: #7f7f7f\">154</span></a>\n",
       "</pre>\n"
      ],
      "text/plain": [
       "\u001b[2;36m          \u001b[0m\u001b[2;36m \u001b[0m\u001b[33mWARNING \u001b[0m drain_2_3 is already taken, using drain_2_04 instead                            \u001b]8;id=983300;file:///Users/karaferner/opt/anaconda3/envs/openpnm35/lib/python3.10/site-packages/openpnm/utils/_project.py\u001b\\\u001b[2m_project.py\u001b[0m\u001b]8;;\u001b\\\u001b[2m:\u001b[0m\u001b]8;id=762088;file:///Users/karaferner/opt/anaconda3/envs/openpnm35/lib/python3.10/site-packages/openpnm/utils/_project.py#154\u001b\\\u001b[2m154\u001b[0m\u001b]8;;\u001b\\\n"
      ]
     },
     "metadata": {},
     "output_type": "display_data"
    },
    {
     "data": {
      "application/vnd.jupyter.widget-view+json": {
       "model_id": "a1a8be6faec44d04aaabf810ff75fc44",
       "version_major": 2,
       "version_minor": 0
      },
      "text/plain": [
       "Performing drainage simulation:   0%|          | 0/25 [00:00<?, ?it/s]"
      ]
     },
     "metadata": {},
     "output_type": "display_data"
    },
    {
     "data": {
      "text/html": [
       "<pre style=\"white-space:pre;overflow-x:auto;line-height:normal;font-family:Menlo,'DejaVu Sans Mono',consolas,'Courier New',monospace\"><span style=\"color: #7fbfbf; text-decoration-color: #7fbfbf\">           </span><span style=\"color: #808000; text-decoration-color: #808000\">WARNING </span> perc_2_4 is already taken, using perc_2_05 instead                              <a href=\"file:///Users/karaferner/opt/anaconda3/envs/openpnm35/lib/python3.10/site-packages/openpnm/utils/_project.py\" target=\"_blank\"><span style=\"color: #7f7f7f; text-decoration-color: #7f7f7f\">_project.py</span></a><span style=\"color: #7f7f7f; text-decoration-color: #7f7f7f\">:</span><a href=\"file:///Users/karaferner/opt/anaconda3/envs/openpnm35/lib/python3.10/site-packages/openpnm/utils/_project.py#154\" target=\"_blank\"><span style=\"color: #7f7f7f; text-decoration-color: #7f7f7f\">154</span></a>\n",
       "</pre>\n"
      ],
      "text/plain": [
       "\u001b[2;36m          \u001b[0m\u001b[2;36m \u001b[0m\u001b[33mWARNING \u001b[0m perc_2_4 is already taken, using perc_2_05 instead                              \u001b]8;id=780626;file:///Users/karaferner/opt/anaconda3/envs/openpnm35/lib/python3.10/site-packages/openpnm/utils/_project.py\u001b\\\u001b[2m_project.py\u001b[0m\u001b]8;;\u001b\\\u001b[2m:\u001b[0m\u001b]8;id=303158;file:///Users/karaferner/opt/anaconda3/envs/openpnm35/lib/python3.10/site-packages/openpnm/utils/_project.py#154\u001b\\\u001b[2m154\u001b[0m\u001b]8;;\u001b\\\n"
      ]
     },
     "metadata": {},
     "output_type": "display_data"
    },
    {
     "data": {
      "text/html": [
       "<pre style=\"white-space:pre;overflow-x:auto;line-height:normal;font-family:Menlo,'DejaVu Sans Mono',consolas,'Courier New',monospace\"><span style=\"color: #7fbfbf; text-decoration-color: #7fbfbf\">           </span><span style=\"color: #808000; text-decoration-color: #808000\">WARNING </span> drain_2_4 is already taken, using drain_2_05 instead                            <a href=\"file:///Users/karaferner/opt/anaconda3/envs/openpnm35/lib/python3.10/site-packages/openpnm/utils/_project.py\" target=\"_blank\"><span style=\"color: #7f7f7f; text-decoration-color: #7f7f7f\">_project.py</span></a><span style=\"color: #7f7f7f; text-decoration-color: #7f7f7f\">:</span><a href=\"file:///Users/karaferner/opt/anaconda3/envs/openpnm35/lib/python3.10/site-packages/openpnm/utils/_project.py#154\" target=\"_blank\"><span style=\"color: #7f7f7f; text-decoration-color: #7f7f7f\">154</span></a>\n",
       "</pre>\n"
      ],
      "text/plain": [
       "\u001b[2;36m          \u001b[0m\u001b[2;36m \u001b[0m\u001b[33mWARNING \u001b[0m drain_2_4 is already taken, using drain_2_05 instead                            \u001b]8;id=187022;file:///Users/karaferner/opt/anaconda3/envs/openpnm35/lib/python3.10/site-packages/openpnm/utils/_project.py\u001b\\\u001b[2m_project.py\u001b[0m\u001b]8;;\u001b\\\u001b[2m:\u001b[0m\u001b]8;id=578439;file:///Users/karaferner/opt/anaconda3/envs/openpnm35/lib/python3.10/site-packages/openpnm/utils/_project.py#154\u001b\\\u001b[2m154\u001b[0m\u001b]8;;\u001b\\\n"
      ]
     },
     "metadata": {},
     "output_type": "display_data"
    },
    {
     "data": {
      "application/vnd.jupyter.widget-view+json": {
       "model_id": "0e110db6b7ad4bc4be3e41a2a190aa88",
       "version_major": 2,
       "version_minor": 0
      },
      "text/plain": [
       "Performing drainage simulation:   0%|          | 0/25 [00:00<?, ?it/s]"
      ]
     },
     "metadata": {},
     "output_type": "display_data"
    },
    {
     "data": {
      "text/html": [
       "<pre style=\"white-space:pre;overflow-x:auto;line-height:normal;font-family:Menlo,'DejaVu Sans Mono',consolas,'Courier New',monospace\"><span style=\"color: #7fbfbf; text-decoration-color: #7fbfbf\">           </span><span style=\"color: #808000; text-decoration-color: #808000\">WARNING </span> perc_2_5 is already taken, using perc_2_06 instead                              <a href=\"file:///Users/karaferner/opt/anaconda3/envs/openpnm35/lib/python3.10/site-packages/openpnm/utils/_project.py\" target=\"_blank\"><span style=\"color: #7f7f7f; text-decoration-color: #7f7f7f\">_project.py</span></a><span style=\"color: #7f7f7f; text-decoration-color: #7f7f7f\">:</span><a href=\"file:///Users/karaferner/opt/anaconda3/envs/openpnm35/lib/python3.10/site-packages/openpnm/utils/_project.py#154\" target=\"_blank\"><span style=\"color: #7f7f7f; text-decoration-color: #7f7f7f\">154</span></a>\n",
       "</pre>\n"
      ],
      "text/plain": [
       "\u001b[2;36m          \u001b[0m\u001b[2;36m \u001b[0m\u001b[33mWARNING \u001b[0m perc_2_5 is already taken, using perc_2_06 instead                              \u001b]8;id=90819;file:///Users/karaferner/opt/anaconda3/envs/openpnm35/lib/python3.10/site-packages/openpnm/utils/_project.py\u001b\\\u001b[2m_project.py\u001b[0m\u001b]8;;\u001b\\\u001b[2m:\u001b[0m\u001b]8;id=951501;file:///Users/karaferner/opt/anaconda3/envs/openpnm35/lib/python3.10/site-packages/openpnm/utils/_project.py#154\u001b\\\u001b[2m154\u001b[0m\u001b]8;;\u001b\\\n"
      ]
     },
     "metadata": {},
     "output_type": "display_data"
    },
    {
     "data": {
      "text/html": [
       "<pre style=\"white-space:pre;overflow-x:auto;line-height:normal;font-family:Menlo,'DejaVu Sans Mono',consolas,'Courier New',monospace\"><span style=\"color: #7fbfbf; text-decoration-color: #7fbfbf\">           </span><span style=\"color: #808000; text-decoration-color: #808000\">WARNING </span> drain_2_5 is already taken, using drain_2_06 instead                            <a href=\"file:///Users/karaferner/opt/anaconda3/envs/openpnm35/lib/python3.10/site-packages/openpnm/utils/_project.py\" target=\"_blank\"><span style=\"color: #7f7f7f; text-decoration-color: #7f7f7f\">_project.py</span></a><span style=\"color: #7f7f7f; text-decoration-color: #7f7f7f\">:</span><a href=\"file:///Users/karaferner/opt/anaconda3/envs/openpnm35/lib/python3.10/site-packages/openpnm/utils/_project.py#154\" target=\"_blank\"><span style=\"color: #7f7f7f; text-decoration-color: #7f7f7f\">154</span></a>\n",
       "</pre>\n"
      ],
      "text/plain": [
       "\u001b[2;36m          \u001b[0m\u001b[2;36m \u001b[0m\u001b[33mWARNING \u001b[0m drain_2_5 is already taken, using drain_2_06 instead                            \u001b]8;id=632180;file:///Users/karaferner/opt/anaconda3/envs/openpnm35/lib/python3.10/site-packages/openpnm/utils/_project.py\u001b\\\u001b[2m_project.py\u001b[0m\u001b]8;;\u001b\\\u001b[2m:\u001b[0m\u001b]8;id=784507;file:///Users/karaferner/opt/anaconda3/envs/openpnm35/lib/python3.10/site-packages/openpnm/utils/_project.py#154\u001b\\\u001b[2m154\u001b[0m\u001b]8;;\u001b\\\n"
      ]
     },
     "metadata": {},
     "output_type": "display_data"
    },
    {
     "data": {
      "application/vnd.jupyter.widget-view+json": {
       "model_id": "c3fc8be6b23145789919cd0cd7b710bc",
       "version_major": 2,
       "version_minor": 0
      },
      "text/plain": [
       "Performing drainage simulation:   0%|          | 0/25 [00:00<?, ?it/s]"
      ]
     },
     "metadata": {},
     "output_type": "display_data"
    }
   ],
   "source": [
    "percs = []\n",
    "drains = []\n",
    "for s,sample in enumerate(pn_total[1]):\n",
    "    sample_percs = []\n",
    "    sample_drains = []\n",
    "    for r,region in enumerate(sample):\n",
    "\n",
    "        inlets = region.pores('ymax')\n",
    "        used_inlets = [inlets[y] for y in range(0, len(inlets), 1)]\n",
    "        op.algorithms.InvasionPercolation(network=region,phase=phases[s][r]).reset()\n",
    "        perc = op.algorithms.InvasionPercolation(network=region,phase=phases[s][r],name='perc_{}_{}'.format(s,r))\n",
    "        perc.set_inlet_BC(pores = used_inlets)\n",
    "        perc.run()\n",
    "\n",
    "\n",
    "        inlets = region.pores('ymax')\n",
    "        used_inlets = [inlets[y] for y in range(0, len(inlets), 1)]\n",
    "        op.algorithms.Drainage(network=region,phase=phases[s][r]).reset()\n",
    "        drain = op.algorithms.Drainage(network=region,phase=phases[s][r],name='drain_{}_{}'.format(s,r))\n",
    "        drain.set_inlet_BC(pores = used_inlets)\n",
    "        drain.run()\n",
    "\n",
    "        sample_percs.append(perc)\n",
    "        sample_drains.append(drain)\n",
    "    percs.append(sample_percs)\n",
    "    drains.append(sample_drains)"
   ]
  },
  {
   "cell_type": "code",
   "execution_count": 69,
   "id": "e2fd1887",
   "metadata": {},
   "outputs": [
    {
     "name": "stdout",
     "output_type": "stream",
     "text": [
      "\n",
      "══════════════════════════════════════════════════════════════════════════════\n",
      "drain_0_01 : <openpnm.algorithms.Drainage at 0x182aef420>\n",
      "――――――――――――――――――――――――――――――――――――――――――――――――――――――――――――――――――――――――――――――\n",
      "  #  Properties                                                   Valid Values\n",
      "――――――――――――――――――――――――――――――――――――――――――――――――――――――――――――――――――――――――――――――\n",
      "  2  pore.invasion_pressure                                        1669 / 1669\n",
      "  3  throat.invasion_pressure                                      3281 / 3281\n",
      "  4  pore.invasion_sequence                                        1669 / 1669\n",
      "  5  throat.invasion_sequence                                      3281 / 3281\n",
      "――――――――――――――――――――――――――――――――――――――――――――――――――――――――――――――――――――――――――――――\n",
      "  #  Labels                                                 Assigned Locations\n",
      "――――――――――――――――――――――――――――――――――――――――――――――――――――――――――――――――――――――――――――――\n",
      "  2  pore.all                                                             1669\n",
      "  3  throat.all                                                           3281\n",
      "  4  pore.bc.inlet                                                          95\n",
      "  5  pore.bc.outlet                                                          0\n",
      "  6  pore.invaded                                                         1669\n",
      "  7  throat.invaded                                                       3281\n",
      "  8  pore.trapped                                                            0\n",
      "  9  throat.trapped                                                          0\n",
      "――――――――――――――――――――――――――――――――――――――――――――――――――――――――――――――――――――――――――――――\n"
     ]
    }
   ],
   "source": [
    "print(drains[0][0])"
   ]
  },
  {
   "cell_type": "code",
   "execution_count": 70,
   "id": "db585d79",
   "metadata": {},
   "outputs": [],
   "source": [
    "perc_pcs = []\n",
    "perc_sats = []\n",
    "for s,sample in enumerate(percs):\n",
    "    sample_pcs = []\n",
    "    sample_sats = []\n",
    "    for r,region in enumerate(sample):\n",
    "        region_pc = []\n",
    "        region_sat_tot = []\n",
    "\n",
    "        pc = region.pc_curve().pc\n",
    "        sat = region.pc_curve().snwp\n",
    "\n",
    "        region_sat_tot.append(sat[0]) \n",
    "        region_pc.append(pc[0])\n",
    "        for i,x in enumerate(sat):\n",
    "            if  sat[i] - region_sat_tot[-1] > 0.0:\n",
    "                region_pc.append(pc[i])\n",
    "                region_sat_tot.append(sat[i])\n",
    "        sample_pcs.append(region_pc)\n",
    "        sample_sats.append(region_sat_tot)\n",
    "    perc_pcs.append(sample_pcs)\n",
    "    perc_sats.append(sample_sats)"
   ]
  },
  {
   "cell_type": "code",
   "execution_count": 71,
   "id": "afb1532a",
   "metadata": {},
   "outputs": [],
   "source": [
    "drain_pcs = []\n",
    "drain_sats = []\n",
    "for s,sample in enumerate(drains):\n",
    "    sample_pcs = []\n",
    "    sample_sats = []\n",
    "    for r,region in enumerate(sample):\n",
    "        region_pc = []\n",
    "        region_sat_tot = []\n",
    "\n",
    "        pc = region.pc_curve().pc\n",
    "        sat = region.pc_curve().snwp\n",
    "\n",
    "        region_sat_tot.append(sat[0]) \n",
    "        region_pc.append(pc[0])\n",
    "        for i,x in enumerate(sat):\n",
    "            if  sat[i] - region_sat_tot[-1] > 0.0:\n",
    "                region_pc.append(pc[i])\n",
    "                region_sat_tot.append(sat[i])\n",
    "        sample_pcs.append(region_pc)\n",
    "        sample_sats.append(region_sat_tot)\n",
    "    drain_pcs.append(sample_pcs)\n",
    "    drain_sats.append(sample_sats)"
   ]
  },
  {
   "cell_type": "code",
   "execution_count": 72,
   "id": "a5bf46ee",
   "metadata": {},
   "outputs": [
    {
     "name": "stdout",
     "output_type": "stream",
     "text": [
      "[348943.80156821513, 407822.7787525255, 476636.69084237196, 557061.9075081765, 651057.6603916414, 760913.7717757437, 889306.4367443266, 1039363.4177355577, 1214740.239688064, 1419709.2419629912, 1659263.6564280728, 1939239.2471407414, 2266456.4748839247, 2648886.6498123524, 3095846.1198393293, 3618223.2253702367, 4228743.549207166, 5776214.744772045]\n",
      "18\n"
     ]
    }
   ],
   "source": [
    "print(drain_pcs[0][0])\n",
    "print(len(drain_pcs[0][0]))"
   ]
  },
  {
   "cell_type": "code",
   "execution_count": 73,
   "id": "99d60480",
   "metadata": {},
   "outputs": [
    {
     "name": "stdout",
     "output_type": "stream",
     "text": [
      "ln_mu_rad:  [3.9634 4.2324 3.8784]\n",
      "Rm:  [6.4399e-08 9.0546e-08 5.8326e-08]\n"
     ]
    }
   ],
   "source": [
    "#log normal mean (diam [nm])\n",
    "ln_mu_diam = np.array([4.6565,4.9255,4.5715])\n",
    "#log normal std (same for diam or radius)\n",
    "ln_sigma = np.array([0.6352,0.7396,0.6127])\n",
    "\n",
    "ln_mu_rad = np.log(np.exp(ln_mu_diam)/2)\n",
    "print('ln_mu_rad: ',ln_mu_rad)\n",
    "\n",
    "rm = np.exp(ln_mu_rad + (ln_sigma**2/2))*10**-9\n",
    "print('Rm: ',rm)\n",
    "\n",
    "pcap = np.logspace(4,7,100)*1\n",
    "gamma = 0.0626\n",
    "theta = 105\n",
    "\n",
    "rcap = -2*gamma*np.cos(np.deg2rad(theta))/pcap\n"
   ]
  },
  {
   "cell_type": "code",
   "execution_count": 74,
   "id": "c8ae2fc3",
   "metadata": {},
   "outputs": [
    {
     "data": {
      "image/png": "[encoded data removed]",
      "text/plain": [
       "<Figure size 600x500 with 1 Axes>"
      ]
     },
     "metadata": {},
     "output_type": "display_data"
    }
   ],
   "source": [
    "fig, ax = plt.subplots()\n",
    "\n",
    "line_colors =['k','b','r']\n",
    "shapes = ['^','o','s','v','>','<']\n",
    "zorders = [100,99,98]\n",
    "\n",
    "for s,sample in enumerate(perc_pcs):\n",
    "    for r,region in enumerate(sample):\n",
    "        # if s==1 and r==4:\n",
    "        if True:\n",
    "            # ax.plot(region,1-np.array(perc_sats[s][r]),color = line_colors[s], marker = shapes[r], \n",
    "            #         markeredgewidth=0.5, markerfacecolor='white',zorder=zorders[s])\n",
    "            ax.plot(drain_pcs[s][r],1-np.array(drain_sats[s][r]),linewidth=4,color = line_colors[s], marker = shapes[r], \n",
    "                    markeredgewidth=1,markersize=8, markerfacecolor='white',zorder=zorders[s])\n",
    "            \n",
    "\n",
    "\n",
    "for i,sample in enumerate(rm):\n",
    "    rk = rm[i]\n",
    "    sk = ln_sigma[i]/2\n",
    "    x = np.log(rcap/rk)/(sk*np.sqrt(2))\n",
    "    s = 0.5*(1+sp.special.erf(x))\n",
    "    ax.plot(pcap*1,s,color=line_colors[i], linewidth=4,zorder=200)\n",
    "\n",
    "ax.set_xlabel(\"Negative Capillary Pressure [Pa]\")\n",
    "ax.set_ylabel(\"Saturation (Water)\")\n",
    "ax.set_xscale('log')\n",
    "# ax.set_xlim([10**7, 10**4])\n",
    "ax.invert_xaxis()\n",
    "plt.tick_params(axis='x', which='minor')\n",
    "\n"
   ]
  },
  {
   "cell_type": "code",
   "execution_count": 75,
   "id": "958e12da",
   "metadata": {},
   "outputs": [],
   "source": [
    "#interpolation to average water retention curves for each sample across regions\n",
    "\n",
    "x_interp = []\n",
    "y_interp = []\n",
    "\n",
    "x_all = []\n",
    "f_avg = []\n",
    "\n",
    "drain_pcs_cut = drain_pcs.copy()\n",
    "drain_sats_cut = drain_sats.copy()\n",
    "\n",
    "for s,sample in enumerate(drain_pcs_cut):\n",
    "    sample_x_data = []\n",
    "    sample_y_data = []\n",
    "    sample_x_min_vals = []\n",
    "    sample_x_max_vals = []\n",
    "    sample_interp_funcs = []\n",
    "    for r,region in enumerate(sample):\n",
    "        sample_x_data.append(region)\n",
    "        sample_y_data.append(drain_sats_cut[s][r])\n",
    "        sample_x_max_vals.append(max(region))\n",
    "        sample_x_min_vals.append(min(region))\n",
    "        sample_interp_funcs.append(interp1d(region, drain_sats_cut[s][r]))\n",
    "        \n",
    "    x_max = math.floor(min(sample_x_max_vals))\n",
    "    x_min = math.ceil(max(sample_x_min_vals))\n",
    "    \n",
    "    # define common carrier for calculation of average curve\n",
    "    sample_x_all   = np.geomspace(x_min, x_max, num=50)\n",
    "    \n",
    "    sample_f_int = []\n",
    "    for r,region in enumerate(sample):\n",
    "        # evaluation of fits on common carrier\n",
    "        sample_f_int.append(sample_interp_funcs[r](sample_x_all))\n",
    "        \n",
    "    # put all fits to one matrix for fast mean calculation\n",
    "    data_collection = np.vstack(sample_f_int)\n",
    "\n",
    "    # calculating mean value\n",
    "    sample_f_avg = np.average(data_collection, axis=0)\n",
    "\n",
    "    x_interp.append(sample_x_data)\n",
    "    y_interp.append(sample_y_data)\n",
    "    x_all.append(sample_x_all)\n",
    "    f_avg.append(sample_f_avg)\n"
   ]
  },
  {
   "cell_type": "code",
   "execution_count": 76,
   "id": "7d3a1d43",
   "metadata": {},
   "outputs": [
    {
     "data": {
      "image/png": "[encoded data removed]",
      "text/plain": [
       "<Figure size 600x500 with 1 Axes>"
      ]
     },
     "metadata": {},
     "output_type": "display_data"
    }
   ],
   "source": [
    "fig, ax = plt.subplots()\n",
    "\n",
    "colors =['k','b','r']\n",
    "shapes = ['^','o', 's']\n",
    "\n",
    "for s,sample in enumerate(f_avg):\n",
    "    ax.plot(x_all[s],1-np.array(f_avg[s]),' ',color=colors[s], marker=shapes[s], markerfacecolor='none')\n",
    "\n",
    "\n",
    "for i,sample in enumerate(rm):\n",
    "    rk = rm[i]\n",
    "    sk = ln_sigma[i]/2\n",
    "    x = np.log(rcap/rk)/(sk*np.sqrt(2))\n",
    "    s = 0.5*(1+sp.special.erf(x))\n",
    "    ax.plot(pcap*1,s,color=line_colors[i], linewidth=4,zorder=200)\n",
    "\n",
    "ax.set_xlabel(\"Negative Capillary Pressure [Pa]\")\n",
    "ax.set_ylabel(\"Saturation (Water)\")\n",
    "ax.set_xscale('log')\n",
    "ax.set_xlim([10**7, 10**4])\n",
    "ax.invert_xaxis()\n",
    "plt.tick_params(axis='x', which='minor')\n",
    "\n"
   ]
  },
  {
   "cell_type": "code",
   "execution_count": null,
   "id": "1516fb50",
   "metadata": {},
   "outputs": [],
   "source": []
  },
  {
   "cell_type": "code",
   "execution_count": null,
   "id": "20c1ac53",
   "metadata": {},
   "outputs": [],
   "source": []
  }
 ],
 "metadata": {
  "kernelspec": {
   "display_name": "openpnm35",
   "language": "python",
   "name": "python3"
  },
  "language_info": {
   "codemirror_mode": {
    "name": "ipython",
    "version": 3
   },
   "file_extension": ".py",
   "mimetype": "text/x-python",
   "name": "python",
   "nbconvert_exporter": "python",
   "pygments_lexer": "ipython3",
   "version": "3.10.18"
  }
 },
 "nbformat": 4,
 "nbformat_minor": 5
}

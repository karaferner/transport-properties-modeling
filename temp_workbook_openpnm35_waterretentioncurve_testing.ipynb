{
 "cells": [
  {
   "cell_type": "code",
   "execution_count": 1,
   "id": "65cabc71",
   "metadata": {},
   "outputs": [],
   "source": [
    "# import time\n",
    "import os\n",
    "from skimage import io\n",
    "import scipy as sp\n",
    "import numpy as np\n",
    "# import sys\n",
    "import openpnm as op\n",
    "import porespy as ps\n",
    "import pandas as pd\n",
    "import matplotlib.pyplot as plt \n",
    "from matplotlib import rcParams\n",
    "np.set_printoptions(precision=4)\n",
    "from scipy.optimize import curve_fit\n",
    "from scipy.interpolate import interp1d\n",
    "import math\n",
    "import pickle\n",
    "import seaborn as sns"
   ]
  },
  {
   "cell_type": "code",
   "execution_count": 2,
   "id": "62428633",
   "metadata": {},
   "outputs": [],
   "source": [
    "# Matplotlib plotting controls\n",
    "plt.rc('axes', linewidth=2)\n",
    "plt.rc('font', weight='bold')\n",
    "params = {'figure.autolayout': True,\n",
    "          'figure.titleweight': 'bold',\n",
    "          'font.weight': 'bold',\n",
    "          'font.size': 14,\n",
    "          'font.family': 'sans-serif',\n",
    "          'font.sans-serif': 'Arial',\n",
    "          'legend.fontsize': 12,\n",
    "#           'legend.title_fontsize':10,\n",
    "          'figure.figsize': (6, 5),\n",
    "          'figure.titlesize': 14,\n",
    "          'axes.labelsize': 12,\n",
    "          'axes.labelweight': 'bold',\n",
    "          'axes.titlesize': 14,\n",
    "          'axes.linewidth': 2,\n",
    "          'xtick.labelsize': 12,\n",
    "          'ytick.labelsize': 12,\n",
    "          'xtick.direction': 'in',\n",
    "          'ytick.direction': 'in',\n",
    "          'xtick.top': True,\n",
    "          'xtick.bottom': True,\n",
    "          'xtick.labeltop': False,\n",
    "          'xtick.labelbottom': True,\n",
    "          'ytick.left': True,\n",
    "          'ytick.right': True,\n",
    "          'ytick.labelright': False,\n",
    "          'ytick.labelleft': True,\n",
    "          'ytick.major.size': 5.5,\n",
    "          'ytick.major.width': 0.8,\n",
    "          'xtick.major.size': 5.5,\n",
    "          'xtick.major.width': 0.8,\n",
    "          'ytick.minor.size': 3.5,\n",
    "          'ytick.minor.width': 0.6,\n",
    "          'xtick.minor.size': 3.5,\n",
    "          'xtick.minor.width': 0.6,\n",
    "        'xtick.minor.visible':True,\n",
    "         'ytick.minor.visible':True}\n",
    "rcParams.update(params)"
   ]
  },
  {
   "cell_type": "code",
   "execution_count": 3,
   "id": "40ab7585",
   "metadata": {},
   "outputs": [],
   "source": [
    "path = './data/1p2um volumes/'\n",
    "\n",
    "with open(path+\"snow_solid_1p2um_networks.pkl\", \"rb\") as f:\n",
    "    snow_solid_networks = pickle.load(f)\n",
    "\n",
    "with open(path+\"snow_void_1p2um_networks.pkl\", \"rb\") as f:\n",
    "    snow_void_networks = pickle.load(f)\n",
    "\n",
    "snow_total_networks = [snow_solid_networks,snow_void_networks]"
   ]
  },
  {
   "cell_type": "markdown",
   "id": "c95bc63f",
   "metadata": {},
   "source": [
    "# Water retention curves - old - testing "
   ]
  },
  {
   "cell_type": "code",
   "execution_count": 4,
   "id": "d5ce7ab4",
   "metadata": {},
   "outputs": [],
   "source": [
    "#Create OpenPNM project objects\n",
    "pn_solid = []\n",
    "pn_void = []\n",
    "\n",
    "for x in snow_solid_networks:\n",
    "    pn_temp = []\n",
    "    for y in x:\n",
    "        pn_temp.append(op.io.network_from_porespy(y))\n",
    "    pn_solid.append(pn_temp)\n",
    "    \n",
    "for x in snow_void_networks:\n",
    "    pn_temp = []\n",
    "    for y in x:\n",
    "        pn_temp.append(op.io.network_from_porespy(y))\n",
    "    pn_void.append(pn_temp)\n",
    "    \n",
    "\n",
    "pn_total = [pn_solid, pn_void]\n"
   ]
  },
  {
   "cell_type": "code",
   "execution_count": 45,
   "id": "1c176019",
   "metadata": {},
   "outputs": [
    {
     "name": "stdout",
     "output_type": "stream",
     "text": [
      "pore volume:\n",
      "[5.8752e-23 1.1858e-22 5.3486e-21 ... 1.2312e-23 4.3416e-23 3.8880e-24]\n",
      "[5.8752e-23 1.1858e-22 5.3486e-21 ... 1.2312e-23 4.3416e-23 3.8880e-24]\n",
      "[5.8752e-23 1.1858e-22 5.3486e-21 ... 1.2312e-23 4.3416e-23 3.8880e-24]\n",
      "\n",
      "pore surface area:\n",
      "[3.8520e-15 6.4800e-15 3.6432e-14 ... 1.8360e-15 6.1560e-15 6.4800e-16]\n",
      "[5.2206e-15 4.7966e-15 0.0000e+00 ... 1.8945e-15 3.5618e-15 9.7974e-16]\n",
      "\n"
     ]
    }
   ],
   "source": [
    "test_snow = snow_total_networks[1][1][1]\n",
    "test_region = pn_total[1][1][1]\n",
    "\n",
    "\n",
    "print('pore volume:')\n",
    "print(test_snow['pore.volume'])\n",
    "print(test_snow['pore.region_volume'])\n",
    "test_volume = op.models.geometry.pore_volume.sphere(test_snow,pore_diameter='pore.equivalent_diameter')\n",
    "test_volume = test_snow['pore.equivalent_diameter']**3 * np.pi/6\n",
    "print(test_volume)\n",
    "print()\n",
    "\n",
    "print('pore surface area:')\n",
    "print(test_snow['pore.surface_area'])\n",
    "test_pore_surface_area = op.models.geometry.pore_surface_area.sphere(test_region,pore_diameter='pore.equivalent_diameter')\n",
    "print(test_pore_surface_area)\n",
    "print()\n"
   ]
  },
  {
   "cell_type": "code",
   "execution_count": 46,
   "id": "5bb65a10",
   "metadata": {},
   "outputs": [
    {
     "name": "stdout",
     "output_type": "stream",
     "text": [
      "throat length\n",
      "[6.9358e-08 5.0318e-08 4.2017e-08 ... 2.4888e-08 2.5995e-08 1.8637e-08]\n",
      "[1.1169e-08 1.0000e-15 1.0000e-15 ... 1.0000e-15 1.0000e-15 1.0000e-15]\n",
      "\n",
      "\n",
      "══════════════════════════════════════════════════════════════════════════════\n",
      "net : <openpnm.network.Network at 0x17dd4eac0>\n",
      "――――――――――――――――――――――――――――――――――――――――――――――――――――――――――――――――――――――――――――――\n",
      "  #  Properties                                                   Valid Values\n",
      "――――――――――――――――――――――――――――――――――――――――――――――――――――――――――――――――――――――――――――――\n",
      "  2  throat.conns                                                  2159 / 2159\n",
      "  3  pore.coords                                                   1194 / 1194\n",
      "  4  pore.region_label                                             1194 / 1194\n",
      "  5  pore.phase                                                    1194 / 1194\n",
      "  6  throat.phases                                                 2159 / 2159\n",
      "  7  pore.region_volume                                            1194 / 1194\n",
      "  8  pore.equivalent_diameter                                      1194 / 1194\n",
      "  9  pore.local_peak                                               1194 / 1194\n",
      " 10  pore.global_peak                                              1194 / 1194\n",
      " 11  pore.geometric_centroid                                       1194 / 1194\n",
      " 12  throat.global_peak                                            2159 / 2159\n",
      " 13  pore.inscribed_diameter                                       1194 / 1194\n",
      " 14  pore.extended_diameter                                        1194 / 1194\n",
      " 15  throat.inscribed_diameter                                     2159 / 2159\n",
      " 16  throat.total_length                                           2159 / 2159\n",
      " 17  throat.direct_length                                          2159 / 2159\n",
      " 18  throat.perimeter                                              2159 / 2159\n",
      " 19  pore.volume                                                   1194 / 1194\n",
      " 20  pore.surface_area                                             1194 / 1194\n",
      " 21  throat.cross_sectional_area                                   2159 / 2159\n",
      " 22  throat.equivalent_diameter                                    2159 / 2159\n",
      "――――――――――――――――――――――――――――――――――――――――――――――――――――――――――――――――――――――――――――――\n",
      "  #  Labels                                                 Assigned Locations\n",
      "――――――――――――――――――――――――――――――――――――――――――――――――――――――――――――――――――――――――――――――\n",
      "  2  pore.all                                                             1194\n",
      "  3  throat.all                                                           2159\n",
      "  4  pore.boundary                                                         414\n",
      "  5  pore.xmin                                                              68\n",
      "  6  pore.xmax                                                              74\n",
      "  7  pore.ymin                                                              81\n",
      "  8  pore.ymax                                                              64\n",
      "  9  pore.zmin                                                              70\n",
      " 10  pore.zmax                                                              57\n",
      "――――――――――――――――――――――――――――――――――――――――――――――――――――――――――――――――――――――――――――――\n"
     ]
    }
   ],
   "source": [
    "test_region = pn_total[1][1][1]\n",
    "\n",
    "print('throat length')\n",
    "print(test_region['throat.total_length'])\n",
    "conduit_lengths = op.models.geometry.conduit_lengths.cones_and_cylinders(test_region,\n",
    "    pore_diameter='pore.equivalent_diameter',throat_diameter = 'throat.inscribed_diameter')\n",
    "test_throat_length = conduit_lengths[:,1]\n",
    "print(test_throat_length)\n",
    "print()\n",
    "\n",
    "# print('diffusive_size_factors')\n",
    "# print(test_geo['throat.diffusive_size_factors.pore1'])\n",
    "# diffusive_size_factors = op.models.geometry.diffusive_size_factors.cones_and_cylinders(test_geo)\n",
    "# print(diffusive_size_factors['pore1'])\n",
    "\n",
    "\n",
    "print(test_region)"
   ]
  },
  {
   "cell_type": "code",
   "execution_count": 47,
   "id": "60c68a47",
   "metadata": {},
   "outputs": [],
   "source": [
    "for s,sample in enumerate(pn_total[1]):\n",
    "    for r,region in enumerate(sample):\n",
    "\n",
    "        h = op.utils.check_network_health(region)\n",
    "        op.topotools.trim(network=region, pores=h['disconnected_pores'])\n",
    "        region.regenerate_models()\n",
    "\n",
    "\n",
    "        region['pore.diameter'] = region['pore.equivalent_diameter']\n",
    "        region['throat.diameter'] = region['throat.equivalent_diameter']\n",
    "        \n",
    "        region.add_model(propname='throat.coords',model=op.models.geometry.throat_centroid.pore_coords)\n",
    "       \n",
    "        region.add_model(propname='throat.length',model=op.models.geometry.throat_length.hybrid_cones_and_cylinders)\n",
    "        region.add_model(propname='throat.volume',model=op.models.geometry.throat_volume.cylinder)\n",
    "\n",
    "        region.regenerate_models()"
   ]
  },
  {
   "cell_type": "code",
   "execution_count": 48,
   "id": "a1fd17ec",
   "metadata": {},
   "outputs": [],
   "source": [
    "phases = []       \n",
    "for s,sample in enumerate(pn_total[1]):\n",
    "        sample_phases = []\n",
    "        for r,region in enumerate(sample):\n",
    "                phase = op.phase.Phase(network=region, name='phase_{}_{}'.format(s,r))\n",
    "                phase['pore.contact_angle'] =  105  \n",
    "                phase['pore.surface_tension'] = 0.0626 \n",
    "                # phase['throat.contact_angle'] =  105\n",
    "                # phase['throat.surface_tension'] = 0.0626\n",
    "\n",
    "                # phase.add_model_collection(op.models.collections.phase.water)\n",
    "                # phase.add_model_collection(op.models.collections.physics.basic)\n",
    "\n",
    "\n",
    "                phase.add_model(propname='throat.entry_pressure',model=op.models.physics.capillary_pressure.washburn,\n",
    "                                # surface_tension='throat.surface_tension',\n",
    "                                # contact_angle='thraot.contact_angle',\n",
    "                                # diameter='throat.diameter'\n",
    "                                )\n",
    "                phase.regenerate_models()\n",
    "\n",
    "                sample_phases.append(phase)\n",
    "        phases.append(sample_phases)\n",
    "\n"
   ]
  },
  {
   "cell_type": "code",
   "execution_count": 49,
   "id": "6ed8653e",
   "metadata": {},
   "outputs": [
    {
     "name": "stdout",
     "output_type": "stream",
     "text": [
      "[105. 105. 105. ... 105. 105. 105.]\n",
      "[0.0626 0.0626 0.0626 ... 0.0626 0.0626 0.0626]\n"
     ]
    }
   ],
   "source": [
    "print(phases[0][0]['throat.contact_angle'])\n",
    "print(phases[0][0]['throat.surface_tension'])"
   ]
  },
  {
   "cell_type": "code",
   "execution_count": 73,
   "id": "e61e13cd",
   "metadata": {},
   "outputs": [
    {
     "data": {
      "text/html": [
       "<pre style=\"white-space:pre;overflow-x:auto;line-height:normal;font-family:Menlo,'DejaVu Sans Mono',consolas,'Courier New',monospace\"><span style=\"color: #7fbfbf; text-decoration-color: #7fbfbf\">[16:50:34] </span><span style=\"color: #808000; text-decoration-color: #808000\">WARNING </span> perc_0_0 is already taken, using perc_0_02 instead                              <a href=\"file:///Users/karaferner/opt/anaconda3/envs/openpnm35/lib/python3.10/site-packages/openpnm/utils/_project.py\" target=\"_blank\"><span style=\"color: #7f7f7f; text-decoration-color: #7f7f7f\">_project.py</span></a><span style=\"color: #7f7f7f; text-decoration-color: #7f7f7f\">:</span><a href=\"file:///Users/karaferner/opt/anaconda3/envs/openpnm35/lib/python3.10/site-packages/openpnm/utils/_project.py#154\" target=\"_blank\"><span style=\"color: #7f7f7f; text-decoration-color: #7f7f7f\">154</span></a>\n",
       "</pre>\n"
      ],
      "text/plain": [
       "\u001b[2;36m[16:50:34]\u001b[0m\u001b[2;36m \u001b[0m\u001b[33mWARNING \u001b[0m perc_0_0 is already taken, using perc_0_02 instead                              \u001b]8;id=62408;file:///Users/karaferner/opt/anaconda3/envs/openpnm35/lib/python3.10/site-packages/openpnm/utils/_project.py\u001b\\\u001b[2m_project.py\u001b[0m\u001b]8;;\u001b\\\u001b[2m:\u001b[0m\u001b]8;id=370704;file:///Users/karaferner/opt/anaconda3/envs/openpnm35/lib/python3.10/site-packages/openpnm/utils/_project.py#154\u001b\\\u001b[2m154\u001b[0m\u001b]8;;\u001b\\\n"
      ]
     },
     "metadata": {},
     "output_type": "display_data"
    },
    {
     "data": {
      "text/html": [
       "<pre style=\"white-space:pre;overflow-x:auto;line-height:normal;font-family:Menlo,'DejaVu Sans Mono',consolas,'Courier New',monospace\"><span style=\"color: #7fbfbf; text-decoration-color: #7fbfbf\">           </span><span style=\"color: #808000; text-decoration-color: #808000\">WARNING </span> drain_0_0 is already taken, using drain_0_02 instead                            <a href=\"file:///Users/karaferner/opt/anaconda3/envs/openpnm35/lib/python3.10/site-packages/openpnm/utils/_project.py\" target=\"_blank\"><span style=\"color: #7f7f7f; text-decoration-color: #7f7f7f\">_project.py</span></a><span style=\"color: #7f7f7f; text-decoration-color: #7f7f7f\">:</span><a href=\"file:///Users/karaferner/opt/anaconda3/envs/openpnm35/lib/python3.10/site-packages/openpnm/utils/_project.py#154\" target=\"_blank\"><span style=\"color: #7f7f7f; text-decoration-color: #7f7f7f\">154</span></a>\n",
       "</pre>\n"
      ],
      "text/plain": [
       "\u001b[2;36m          \u001b[0m\u001b[2;36m \u001b[0m\u001b[33mWARNING \u001b[0m drain_0_0 is already taken, using drain_0_02 instead                            \u001b]8;id=978386;file:///Users/karaferner/opt/anaconda3/envs/openpnm35/lib/python3.10/site-packages/openpnm/utils/_project.py\u001b\\\u001b[2m_project.py\u001b[0m\u001b]8;;\u001b\\\u001b[2m:\u001b[0m\u001b]8;id=462985;file:///Users/karaferner/opt/anaconda3/envs/openpnm35/lib/python3.10/site-packages/openpnm/utils/_project.py#154\u001b\\\u001b[2m154\u001b[0m\u001b]8;;\u001b\\\n"
      ]
     },
     "metadata": {},
     "output_type": "display_data"
    },
    {
     "data": {
      "application/vnd.jupyter.widget-view+json": {
       "model_id": "e27b5c8460cd45a294d3dfb7c92c1db5",
       "version_major": 2,
       "version_minor": 0
      },
      "text/plain": [
       "Performing drainage simulation:   0%|          | 0/100 [00:00<?, ?it/s]"
      ]
     },
     "metadata": {},
     "output_type": "display_data"
    },
    {
     "data": {
      "text/html": [
       "<pre style=\"white-space:pre;overflow-x:auto;line-height:normal;font-family:Menlo,'DejaVu Sans Mono',consolas,'Courier New',monospace\"><span style=\"color: #7fbfbf; text-decoration-color: #7fbfbf\">           </span><span style=\"color: #808000; text-decoration-color: #808000\">WARNING </span> perc_0_1 is already taken, using perc_0_03 instead                              <a href=\"file:///Users/karaferner/opt/anaconda3/envs/openpnm35/lib/python3.10/site-packages/openpnm/utils/_project.py\" target=\"_blank\"><span style=\"color: #7f7f7f; text-decoration-color: #7f7f7f\">_project.py</span></a><span style=\"color: #7f7f7f; text-decoration-color: #7f7f7f\">:</span><a href=\"file:///Users/karaferner/opt/anaconda3/envs/openpnm35/lib/python3.10/site-packages/openpnm/utils/_project.py#154\" target=\"_blank\"><span style=\"color: #7f7f7f; text-decoration-color: #7f7f7f\">154</span></a>\n",
       "</pre>\n"
      ],
      "text/plain": [
       "\u001b[2;36m          \u001b[0m\u001b[2;36m \u001b[0m\u001b[33mWARNING \u001b[0m perc_0_1 is already taken, using perc_0_03 instead                              \u001b]8;id=173374;file:///Users/karaferner/opt/anaconda3/envs/openpnm35/lib/python3.10/site-packages/openpnm/utils/_project.py\u001b\\\u001b[2m_project.py\u001b[0m\u001b]8;;\u001b\\\u001b[2m:\u001b[0m\u001b]8;id=751594;file:///Users/karaferner/opt/anaconda3/envs/openpnm35/lib/python3.10/site-packages/openpnm/utils/_project.py#154\u001b\\\u001b[2m154\u001b[0m\u001b]8;;\u001b\\\n"
      ]
     },
     "metadata": {},
     "output_type": "display_data"
    },
    {
     "data": {
      "text/html": [
       "<pre style=\"white-space:pre;overflow-x:auto;line-height:normal;font-family:Menlo,'DejaVu Sans Mono',consolas,'Courier New',monospace\"><span style=\"color: #7fbfbf; text-decoration-color: #7fbfbf\">           </span><span style=\"color: #808000; text-decoration-color: #808000\">WARNING </span> drain_0_1 is already taken, using drain_0_03 instead                            <a href=\"file:///Users/karaferner/opt/anaconda3/envs/openpnm35/lib/python3.10/site-packages/openpnm/utils/_project.py\" target=\"_blank\"><span style=\"color: #7f7f7f; text-decoration-color: #7f7f7f\">_project.py</span></a><span style=\"color: #7f7f7f; text-decoration-color: #7f7f7f\">:</span><a href=\"file:///Users/karaferner/opt/anaconda3/envs/openpnm35/lib/python3.10/site-packages/openpnm/utils/_project.py#154\" target=\"_blank\"><span style=\"color: #7f7f7f; text-decoration-color: #7f7f7f\">154</span></a>\n",
       "</pre>\n"
      ],
      "text/plain": [
       "\u001b[2;36m          \u001b[0m\u001b[2;36m \u001b[0m\u001b[33mWARNING \u001b[0m drain_0_1 is already taken, using drain_0_03 instead                            \u001b]8;id=419614;file:///Users/karaferner/opt/anaconda3/envs/openpnm35/lib/python3.10/site-packages/openpnm/utils/_project.py\u001b\\\u001b[2m_project.py\u001b[0m\u001b]8;;\u001b\\\u001b[2m:\u001b[0m\u001b]8;id=639568;file:///Users/karaferner/opt/anaconda3/envs/openpnm35/lib/python3.10/site-packages/openpnm/utils/_project.py#154\u001b\\\u001b[2m154\u001b[0m\u001b]8;;\u001b\\\n"
      ]
     },
     "metadata": {},
     "output_type": "display_data"
    },
    {
     "data": {
      "application/vnd.jupyter.widget-view+json": {
       "model_id": "7083bc200f5c4aea9a15b180b9dfd983",
       "version_major": 2,
       "version_minor": 0
      },
      "text/plain": [
       "Performing drainage simulation:   0%|          | 0/100 [00:00<?, ?it/s]"
      ]
     },
     "metadata": {},
     "output_type": "display_data"
    },
    {
     "data": {
      "text/html": [
       "<pre style=\"white-space:pre;overflow-x:auto;line-height:normal;font-family:Menlo,'DejaVu Sans Mono',consolas,'Courier New',monospace\"><span style=\"color: #7fbfbf; text-decoration-color: #7fbfbf\">           </span><span style=\"color: #808000; text-decoration-color: #808000\">WARNING </span> perc_0_2 is already taken, using perc_0_04 instead                              <a href=\"file:///Users/karaferner/opt/anaconda3/envs/openpnm35/lib/python3.10/site-packages/openpnm/utils/_project.py\" target=\"_blank\"><span style=\"color: #7f7f7f; text-decoration-color: #7f7f7f\">_project.py</span></a><span style=\"color: #7f7f7f; text-decoration-color: #7f7f7f\">:</span><a href=\"file:///Users/karaferner/opt/anaconda3/envs/openpnm35/lib/python3.10/site-packages/openpnm/utils/_project.py#154\" target=\"_blank\"><span style=\"color: #7f7f7f; text-decoration-color: #7f7f7f\">154</span></a>\n",
       "</pre>\n"
      ],
      "text/plain": [
       "\u001b[2;36m          \u001b[0m\u001b[2;36m \u001b[0m\u001b[33mWARNING \u001b[0m perc_0_2 is already taken, using perc_0_04 instead                              \u001b]8;id=204130;file:///Users/karaferner/opt/anaconda3/envs/openpnm35/lib/python3.10/site-packages/openpnm/utils/_project.py\u001b\\\u001b[2m_project.py\u001b[0m\u001b]8;;\u001b\\\u001b[2m:\u001b[0m\u001b]8;id=424669;file:///Users/karaferner/opt/anaconda3/envs/openpnm35/lib/python3.10/site-packages/openpnm/utils/_project.py#154\u001b\\\u001b[2m154\u001b[0m\u001b]8;;\u001b\\\n"
      ]
     },
     "metadata": {},
     "output_type": "display_data"
    },
    {
     "data": {
      "text/html": [
       "<pre style=\"white-space:pre;overflow-x:auto;line-height:normal;font-family:Menlo,'DejaVu Sans Mono',consolas,'Courier New',monospace\"><span style=\"color: #7fbfbf; text-decoration-color: #7fbfbf\">           </span><span style=\"color: #808000; text-decoration-color: #808000\">WARNING </span> drain_0_2 is already taken, using drain_0_04 instead                            <a href=\"file:///Users/karaferner/opt/anaconda3/envs/openpnm35/lib/python3.10/site-packages/openpnm/utils/_project.py\" target=\"_blank\"><span style=\"color: #7f7f7f; text-decoration-color: #7f7f7f\">_project.py</span></a><span style=\"color: #7f7f7f; text-decoration-color: #7f7f7f\">:</span><a href=\"file:///Users/karaferner/opt/anaconda3/envs/openpnm35/lib/python3.10/site-packages/openpnm/utils/_project.py#154\" target=\"_blank\"><span style=\"color: #7f7f7f; text-decoration-color: #7f7f7f\">154</span></a>\n",
       "</pre>\n"
      ],
      "text/plain": [
       "\u001b[2;36m          \u001b[0m\u001b[2;36m \u001b[0m\u001b[33mWARNING \u001b[0m drain_0_2 is already taken, using drain_0_04 instead                            \u001b]8;id=20093;file:///Users/karaferner/opt/anaconda3/envs/openpnm35/lib/python3.10/site-packages/openpnm/utils/_project.py\u001b\\\u001b[2m_project.py\u001b[0m\u001b]8;;\u001b\\\u001b[2m:\u001b[0m\u001b]8;id=326749;file:///Users/karaferner/opt/anaconda3/envs/openpnm35/lib/python3.10/site-packages/openpnm/utils/_project.py#154\u001b\\\u001b[2m154\u001b[0m\u001b]8;;\u001b\\\n"
      ]
     },
     "metadata": {},
     "output_type": "display_data"
    },
    {
     "data": {
      "application/vnd.jupyter.widget-view+json": {
       "model_id": "627f302ba77745a3a6f864d9f32fe4a3",
       "version_major": 2,
       "version_minor": 0
      },
      "text/plain": [
       "Performing drainage simulation:   0%|          | 0/100 [00:00<?, ?it/s]"
      ]
     },
     "metadata": {},
     "output_type": "display_data"
    },
    {
     "data": {
      "text/html": [
       "<pre style=\"white-space:pre;overflow-x:auto;line-height:normal;font-family:Menlo,'DejaVu Sans Mono',consolas,'Courier New',monospace\"><span style=\"color: #7fbfbf; text-decoration-color: #7fbfbf\">           </span><span style=\"color: #808000; text-decoration-color: #808000\">WARNING </span> perc_0_3 is already taken, using perc_0_05 instead                              <a href=\"file:///Users/karaferner/opt/anaconda3/envs/openpnm35/lib/python3.10/site-packages/openpnm/utils/_project.py\" target=\"_blank\"><span style=\"color: #7f7f7f; text-decoration-color: #7f7f7f\">_project.py</span></a><span style=\"color: #7f7f7f; text-decoration-color: #7f7f7f\">:</span><a href=\"file:///Users/karaferner/opt/anaconda3/envs/openpnm35/lib/python3.10/site-packages/openpnm/utils/_project.py#154\" target=\"_blank\"><span style=\"color: #7f7f7f; text-decoration-color: #7f7f7f\">154</span></a>\n",
       "</pre>\n"
      ],
      "text/plain": [
       "\u001b[2;36m          \u001b[0m\u001b[2;36m \u001b[0m\u001b[33mWARNING \u001b[0m perc_0_3 is already taken, using perc_0_05 instead                              \u001b]8;id=822716;file:///Users/karaferner/opt/anaconda3/envs/openpnm35/lib/python3.10/site-packages/openpnm/utils/_project.py\u001b\\\u001b[2m_project.py\u001b[0m\u001b]8;;\u001b\\\u001b[2m:\u001b[0m\u001b]8;id=332654;file:///Users/karaferner/opt/anaconda3/envs/openpnm35/lib/python3.10/site-packages/openpnm/utils/_project.py#154\u001b\\\u001b[2m154\u001b[0m\u001b]8;;\u001b\\\n"
      ]
     },
     "metadata": {},
     "output_type": "display_data"
    },
    {
     "data": {
      "text/html": [
       "<pre style=\"white-space:pre;overflow-x:auto;line-height:normal;font-family:Menlo,'DejaVu Sans Mono',consolas,'Courier New',monospace\"><span style=\"color: #7fbfbf; text-decoration-color: #7fbfbf\">           </span><span style=\"color: #808000; text-decoration-color: #808000\">WARNING </span> drain_0_3 is already taken, using drain_0_05 instead                            <a href=\"file:///Users/karaferner/opt/anaconda3/envs/openpnm35/lib/python3.10/site-packages/openpnm/utils/_project.py\" target=\"_blank\"><span style=\"color: #7f7f7f; text-decoration-color: #7f7f7f\">_project.py</span></a><span style=\"color: #7f7f7f; text-decoration-color: #7f7f7f\">:</span><a href=\"file:///Users/karaferner/opt/anaconda3/envs/openpnm35/lib/python3.10/site-packages/openpnm/utils/_project.py#154\" target=\"_blank\"><span style=\"color: #7f7f7f; text-decoration-color: #7f7f7f\">154</span></a>\n",
       "</pre>\n"
      ],
      "text/plain": [
       "\u001b[2;36m          \u001b[0m\u001b[2;36m \u001b[0m\u001b[33mWARNING \u001b[0m drain_0_3 is already taken, using drain_0_05 instead                            \u001b]8;id=196188;file:///Users/karaferner/opt/anaconda3/envs/openpnm35/lib/python3.10/site-packages/openpnm/utils/_project.py\u001b\\\u001b[2m_project.py\u001b[0m\u001b]8;;\u001b\\\u001b[2m:\u001b[0m\u001b]8;id=812099;file:///Users/karaferner/opt/anaconda3/envs/openpnm35/lib/python3.10/site-packages/openpnm/utils/_project.py#154\u001b\\\u001b[2m154\u001b[0m\u001b]8;;\u001b\\\n"
      ]
     },
     "metadata": {},
     "output_type": "display_data"
    },
    {
     "data": {
      "application/vnd.jupyter.widget-view+json": {
       "model_id": "b7af3f0a6bc3404b8bdcc4b41467bfc3",
       "version_major": 2,
       "version_minor": 0
      },
      "text/plain": [
       "Performing drainage simulation:   0%|          | 0/100 [00:00<?, ?it/s]"
      ]
     },
     "metadata": {},
     "output_type": "display_data"
    },
    {
     "data": {
      "text/html": [
       "<pre style=\"white-space:pre;overflow-x:auto;line-height:normal;font-family:Menlo,'DejaVu Sans Mono',consolas,'Courier New',monospace\"><span style=\"color: #7fbfbf; text-decoration-color: #7fbfbf\">           </span><span style=\"color: #808000; text-decoration-color: #808000\">WARNING </span> perc_0_4 is already taken, using perc_0_06 instead                              <a href=\"file:///Users/karaferner/opt/anaconda3/envs/openpnm35/lib/python3.10/site-packages/openpnm/utils/_project.py\" target=\"_blank\"><span style=\"color: #7f7f7f; text-decoration-color: #7f7f7f\">_project.py</span></a><span style=\"color: #7f7f7f; text-decoration-color: #7f7f7f\">:</span><a href=\"file:///Users/karaferner/opt/anaconda3/envs/openpnm35/lib/python3.10/site-packages/openpnm/utils/_project.py#154\" target=\"_blank\"><span style=\"color: #7f7f7f; text-decoration-color: #7f7f7f\">154</span></a>\n",
       "</pre>\n"
      ],
      "text/plain": [
       "\u001b[2;36m          \u001b[0m\u001b[2;36m \u001b[0m\u001b[33mWARNING \u001b[0m perc_0_4 is already taken, using perc_0_06 instead                              \u001b]8;id=134530;file:///Users/karaferner/opt/anaconda3/envs/openpnm35/lib/python3.10/site-packages/openpnm/utils/_project.py\u001b\\\u001b[2m_project.py\u001b[0m\u001b]8;;\u001b\\\u001b[2m:\u001b[0m\u001b]8;id=865725;file:///Users/karaferner/opt/anaconda3/envs/openpnm35/lib/python3.10/site-packages/openpnm/utils/_project.py#154\u001b\\\u001b[2m154\u001b[0m\u001b]8;;\u001b\\\n"
      ]
     },
     "metadata": {},
     "output_type": "display_data"
    },
    {
     "data": {
      "text/html": [
       "<pre style=\"white-space:pre;overflow-x:auto;line-height:normal;font-family:Menlo,'DejaVu Sans Mono',consolas,'Courier New',monospace\"><span style=\"color: #7fbfbf; text-decoration-color: #7fbfbf\">           </span><span style=\"color: #808000; text-decoration-color: #808000\">WARNING </span> drain_0_4 is already taken, using drain_0_06 instead                            <a href=\"file:///Users/karaferner/opt/anaconda3/envs/openpnm35/lib/python3.10/site-packages/openpnm/utils/_project.py\" target=\"_blank\"><span style=\"color: #7f7f7f; text-decoration-color: #7f7f7f\">_project.py</span></a><span style=\"color: #7f7f7f; text-decoration-color: #7f7f7f\">:</span><a href=\"file:///Users/karaferner/opt/anaconda3/envs/openpnm35/lib/python3.10/site-packages/openpnm/utils/_project.py#154\" target=\"_blank\"><span style=\"color: #7f7f7f; text-decoration-color: #7f7f7f\">154</span></a>\n",
       "</pre>\n"
      ],
      "text/plain": [
       "\u001b[2;36m          \u001b[0m\u001b[2;36m \u001b[0m\u001b[33mWARNING \u001b[0m drain_0_4 is already taken, using drain_0_06 instead                            \u001b]8;id=214955;file:///Users/karaferner/opt/anaconda3/envs/openpnm35/lib/python3.10/site-packages/openpnm/utils/_project.py\u001b\\\u001b[2m_project.py\u001b[0m\u001b]8;;\u001b\\\u001b[2m:\u001b[0m\u001b]8;id=388858;file:///Users/karaferner/opt/anaconda3/envs/openpnm35/lib/python3.10/site-packages/openpnm/utils/_project.py#154\u001b\\\u001b[2m154\u001b[0m\u001b]8;;\u001b\\\n"
      ]
     },
     "metadata": {},
     "output_type": "display_data"
    },
    {
     "data": {
      "application/vnd.jupyter.widget-view+json": {
       "model_id": "ecd5c091dda44ae2be9bdc2e755b9161",
       "version_major": 2,
       "version_minor": 0
      },
      "text/plain": [
       "Performing drainage simulation:   0%|          | 0/100 [00:00<?, ?it/s]"
      ]
     },
     "metadata": {},
     "output_type": "display_data"
    },
    {
     "data": {
      "text/html": [
       "<pre style=\"white-space:pre;overflow-x:auto;line-height:normal;font-family:Menlo,'DejaVu Sans Mono',consolas,'Courier New',monospace\"><span style=\"color: #7fbfbf; text-decoration-color: #7fbfbf\">           </span><span style=\"color: #808000; text-decoration-color: #808000\">WARNING </span> perc_0_5 is already taken, using perc_0_07 instead                              <a href=\"file:///Users/karaferner/opt/anaconda3/envs/openpnm35/lib/python3.10/site-packages/openpnm/utils/_project.py\" target=\"_blank\"><span style=\"color: #7f7f7f; text-decoration-color: #7f7f7f\">_project.py</span></a><span style=\"color: #7f7f7f; text-decoration-color: #7f7f7f\">:</span><a href=\"file:///Users/karaferner/opt/anaconda3/envs/openpnm35/lib/python3.10/site-packages/openpnm/utils/_project.py#154\" target=\"_blank\"><span style=\"color: #7f7f7f; text-decoration-color: #7f7f7f\">154</span></a>\n",
       "</pre>\n"
      ],
      "text/plain": [
       "\u001b[2;36m          \u001b[0m\u001b[2;36m \u001b[0m\u001b[33mWARNING \u001b[0m perc_0_5 is already taken, using perc_0_07 instead                              \u001b]8;id=963169;file:///Users/karaferner/opt/anaconda3/envs/openpnm35/lib/python3.10/site-packages/openpnm/utils/_project.py\u001b\\\u001b[2m_project.py\u001b[0m\u001b]8;;\u001b\\\u001b[2m:\u001b[0m\u001b]8;id=275932;file:///Users/karaferner/opt/anaconda3/envs/openpnm35/lib/python3.10/site-packages/openpnm/utils/_project.py#154\u001b\\\u001b[2m154\u001b[0m\u001b]8;;\u001b\\\n"
      ]
     },
     "metadata": {},
     "output_type": "display_data"
    },
    {
     "data": {
      "text/html": [
       "<pre style=\"white-space:pre;overflow-x:auto;line-height:normal;font-family:Menlo,'DejaVu Sans Mono',consolas,'Courier New',monospace\"><span style=\"color: #7fbfbf; text-decoration-color: #7fbfbf\">           </span><span style=\"color: #808000; text-decoration-color: #808000\">WARNING </span> drain_0_5 is already taken, using drain_0_07 instead                            <a href=\"file:///Users/karaferner/opt/anaconda3/envs/openpnm35/lib/python3.10/site-packages/openpnm/utils/_project.py\" target=\"_blank\"><span style=\"color: #7f7f7f; text-decoration-color: #7f7f7f\">_project.py</span></a><span style=\"color: #7f7f7f; text-decoration-color: #7f7f7f\">:</span><a href=\"file:///Users/karaferner/opt/anaconda3/envs/openpnm35/lib/python3.10/site-packages/openpnm/utils/_project.py#154\" target=\"_blank\"><span style=\"color: #7f7f7f; text-decoration-color: #7f7f7f\">154</span></a>\n",
       "</pre>\n"
      ],
      "text/plain": [
       "\u001b[2;36m          \u001b[0m\u001b[2;36m \u001b[0m\u001b[33mWARNING \u001b[0m drain_0_5 is already taken, using drain_0_07 instead                            \u001b]8;id=590597;file:///Users/karaferner/opt/anaconda3/envs/openpnm35/lib/python3.10/site-packages/openpnm/utils/_project.py\u001b\\\u001b[2m_project.py\u001b[0m\u001b]8;;\u001b\\\u001b[2m:\u001b[0m\u001b]8;id=420771;file:///Users/karaferner/opt/anaconda3/envs/openpnm35/lib/python3.10/site-packages/openpnm/utils/_project.py#154\u001b\\\u001b[2m154\u001b[0m\u001b]8;;\u001b\\\n"
      ]
     },
     "metadata": {},
     "output_type": "display_data"
    },
    {
     "data": {
      "application/vnd.jupyter.widget-view+json": {
       "model_id": "5d1d325639934c6d9cb91d3a3d0889b6",
       "version_major": 2,
       "version_minor": 0
      },
      "text/plain": [
       "Performing drainage simulation:   0%|          | 0/100 [00:00<?, ?it/s]"
      ]
     },
     "metadata": {},
     "output_type": "display_data"
    },
    {
     "data": {
      "text/html": [
       "<pre style=\"white-space:pre;overflow-x:auto;line-height:normal;font-family:Menlo,'DejaVu Sans Mono',consolas,'Courier New',monospace\"><span style=\"color: #7fbfbf; text-decoration-color: #7fbfbf\">[16:50:35] </span><span style=\"color: #808000; text-decoration-color: #808000\">WARNING </span> perc_1_0 is already taken, using perc_1_02 instead                              <a href=\"file:///Users/karaferner/opt/anaconda3/envs/openpnm35/lib/python3.10/site-packages/openpnm/utils/_project.py\" target=\"_blank\"><span style=\"color: #7f7f7f; text-decoration-color: #7f7f7f\">_project.py</span></a><span style=\"color: #7f7f7f; text-decoration-color: #7f7f7f\">:</span><a href=\"file:///Users/karaferner/opt/anaconda3/envs/openpnm35/lib/python3.10/site-packages/openpnm/utils/_project.py#154\" target=\"_blank\"><span style=\"color: #7f7f7f; text-decoration-color: #7f7f7f\">154</span></a>\n",
       "</pre>\n"
      ],
      "text/plain": [
       "\u001b[2;36m[16:50:35]\u001b[0m\u001b[2;36m \u001b[0m\u001b[33mWARNING \u001b[0m perc_1_0 is already taken, using perc_1_02 instead                              \u001b]8;id=661499;file:///Users/karaferner/opt/anaconda3/envs/openpnm35/lib/python3.10/site-packages/openpnm/utils/_project.py\u001b\\\u001b[2m_project.py\u001b[0m\u001b]8;;\u001b\\\u001b[2m:\u001b[0m\u001b]8;id=653739;file:///Users/karaferner/opt/anaconda3/envs/openpnm35/lib/python3.10/site-packages/openpnm/utils/_project.py#154\u001b\\\u001b[2m154\u001b[0m\u001b]8;;\u001b\\\n"
      ]
     },
     "metadata": {},
     "output_type": "display_data"
    },
    {
     "data": {
      "text/html": [
       "<pre style=\"white-space:pre;overflow-x:auto;line-height:normal;font-family:Menlo,'DejaVu Sans Mono',consolas,'Courier New',monospace\"><span style=\"color: #7fbfbf; text-decoration-color: #7fbfbf\">           </span><span style=\"color: #808000; text-decoration-color: #808000\">WARNING </span> drain_1_0 is already taken, using drain_1_02 instead                            <a href=\"file:///Users/karaferner/opt/anaconda3/envs/openpnm35/lib/python3.10/site-packages/openpnm/utils/_project.py\" target=\"_blank\"><span style=\"color: #7f7f7f; text-decoration-color: #7f7f7f\">_project.py</span></a><span style=\"color: #7f7f7f; text-decoration-color: #7f7f7f\">:</span><a href=\"file:///Users/karaferner/opt/anaconda3/envs/openpnm35/lib/python3.10/site-packages/openpnm/utils/_project.py#154\" target=\"_blank\"><span style=\"color: #7f7f7f; text-decoration-color: #7f7f7f\">154</span></a>\n",
       "</pre>\n"
      ],
      "text/plain": [
       "\u001b[2;36m          \u001b[0m\u001b[2;36m \u001b[0m\u001b[33mWARNING \u001b[0m drain_1_0 is already taken, using drain_1_02 instead                            \u001b]8;id=358295;file:///Users/karaferner/opt/anaconda3/envs/openpnm35/lib/python3.10/site-packages/openpnm/utils/_project.py\u001b\\\u001b[2m_project.py\u001b[0m\u001b]8;;\u001b\\\u001b[2m:\u001b[0m\u001b]8;id=595316;file:///Users/karaferner/opt/anaconda3/envs/openpnm35/lib/python3.10/site-packages/openpnm/utils/_project.py#154\u001b\\\u001b[2m154\u001b[0m\u001b]8;;\u001b\\\n"
      ]
     },
     "metadata": {},
     "output_type": "display_data"
    },
    {
     "data": {
      "application/vnd.jupyter.widget-view+json": {
       "model_id": "6e545df15d914797808e0932cc81b55b",
       "version_major": 2,
       "version_minor": 0
      },
      "text/plain": [
       "Performing drainage simulation:   0%|          | 0/100 [00:00<?, ?it/s]"
      ]
     },
     "metadata": {},
     "output_type": "display_data"
    },
    {
     "data": {
      "text/html": [
       "<pre style=\"white-space:pre;overflow-x:auto;line-height:normal;font-family:Menlo,'DejaVu Sans Mono',consolas,'Courier New',monospace\"><span style=\"color: #7fbfbf; text-decoration-color: #7fbfbf\">           </span><span style=\"color: #808000; text-decoration-color: #808000\">WARNING </span> perc_1_1 is already taken, using perc_1_03 instead                              <a href=\"file:///Users/karaferner/opt/anaconda3/envs/openpnm35/lib/python3.10/site-packages/openpnm/utils/_project.py\" target=\"_blank\"><span style=\"color: #7f7f7f; text-decoration-color: #7f7f7f\">_project.py</span></a><span style=\"color: #7f7f7f; text-decoration-color: #7f7f7f\">:</span><a href=\"file:///Users/karaferner/opt/anaconda3/envs/openpnm35/lib/python3.10/site-packages/openpnm/utils/_project.py#154\" target=\"_blank\"><span style=\"color: #7f7f7f; text-decoration-color: #7f7f7f\">154</span></a>\n",
       "</pre>\n"
      ],
      "text/plain": [
       "\u001b[2;36m          \u001b[0m\u001b[2;36m \u001b[0m\u001b[33mWARNING \u001b[0m perc_1_1 is already taken, using perc_1_03 instead                              \u001b]8;id=2629;file:///Users/karaferner/opt/anaconda3/envs/openpnm35/lib/python3.10/site-packages/openpnm/utils/_project.py\u001b\\\u001b[2m_project.py\u001b[0m\u001b]8;;\u001b\\\u001b[2m:\u001b[0m\u001b]8;id=624748;file:///Users/karaferner/opt/anaconda3/envs/openpnm35/lib/python3.10/site-packages/openpnm/utils/_project.py#154\u001b\\\u001b[2m154\u001b[0m\u001b]8;;\u001b\\\n"
      ]
     },
     "metadata": {},
     "output_type": "display_data"
    },
    {
     "data": {
      "text/html": [
       "<pre style=\"white-space:pre;overflow-x:auto;line-height:normal;font-family:Menlo,'DejaVu Sans Mono',consolas,'Courier New',monospace\"><span style=\"color: #7fbfbf; text-decoration-color: #7fbfbf\">           </span><span style=\"color: #808000; text-decoration-color: #808000\">WARNING </span> drain_1_1 is already taken, using drain_1_03 instead                            <a href=\"file:///Users/karaferner/opt/anaconda3/envs/openpnm35/lib/python3.10/site-packages/openpnm/utils/_project.py\" target=\"_blank\"><span style=\"color: #7f7f7f; text-decoration-color: #7f7f7f\">_project.py</span></a><span style=\"color: #7f7f7f; text-decoration-color: #7f7f7f\">:</span><a href=\"file:///Users/karaferner/opt/anaconda3/envs/openpnm35/lib/python3.10/site-packages/openpnm/utils/_project.py#154\" target=\"_blank\"><span style=\"color: #7f7f7f; text-decoration-color: #7f7f7f\">154</span></a>\n",
       "</pre>\n"
      ],
      "text/plain": [
       "\u001b[2;36m          \u001b[0m\u001b[2;36m \u001b[0m\u001b[33mWARNING \u001b[0m drain_1_1 is already taken, using drain_1_03 instead                            \u001b]8;id=373579;file:///Users/karaferner/opt/anaconda3/envs/openpnm35/lib/python3.10/site-packages/openpnm/utils/_project.py\u001b\\\u001b[2m_project.py\u001b[0m\u001b]8;;\u001b\\\u001b[2m:\u001b[0m\u001b]8;id=283602;file:///Users/karaferner/opt/anaconda3/envs/openpnm35/lib/python3.10/site-packages/openpnm/utils/_project.py#154\u001b\\\u001b[2m154\u001b[0m\u001b]8;;\u001b\\\n"
      ]
     },
     "metadata": {},
     "output_type": "display_data"
    },
    {
     "data": {
      "application/vnd.jupyter.widget-view+json": {
       "model_id": "80ccb722c6554c31927810f2e900a188",
       "version_major": 2,
       "version_minor": 0
      },
      "text/plain": [
       "Performing drainage simulation:   0%|          | 0/100 [00:00<?, ?it/s]"
      ]
     },
     "metadata": {},
     "output_type": "display_data"
    },
    {
     "data": {
      "text/html": [
       "<pre style=\"white-space:pre;overflow-x:auto;line-height:normal;font-family:Menlo,'DejaVu Sans Mono',consolas,'Courier New',monospace\"><span style=\"color: #7fbfbf; text-decoration-color: #7fbfbf\">           </span><span style=\"color: #808000; text-decoration-color: #808000\">WARNING </span> perc_1_2 is already taken, using perc_1_04 instead                              <a href=\"file:///Users/karaferner/opt/anaconda3/envs/openpnm35/lib/python3.10/site-packages/openpnm/utils/_project.py\" target=\"_blank\"><span style=\"color: #7f7f7f; text-decoration-color: #7f7f7f\">_project.py</span></a><span style=\"color: #7f7f7f; text-decoration-color: #7f7f7f\">:</span><a href=\"file:///Users/karaferner/opt/anaconda3/envs/openpnm35/lib/python3.10/site-packages/openpnm/utils/_project.py#154\" target=\"_blank\"><span style=\"color: #7f7f7f; text-decoration-color: #7f7f7f\">154</span></a>\n",
       "</pre>\n"
      ],
      "text/plain": [
       "\u001b[2;36m          \u001b[0m\u001b[2;36m \u001b[0m\u001b[33mWARNING \u001b[0m perc_1_2 is already taken, using perc_1_04 instead                              \u001b]8;id=952511;file:///Users/karaferner/opt/anaconda3/envs/openpnm35/lib/python3.10/site-packages/openpnm/utils/_project.py\u001b\\\u001b[2m_project.py\u001b[0m\u001b]8;;\u001b\\\u001b[2m:\u001b[0m\u001b]8;id=529468;file:///Users/karaferner/opt/anaconda3/envs/openpnm35/lib/python3.10/site-packages/openpnm/utils/_project.py#154\u001b\\\u001b[2m154\u001b[0m\u001b]8;;\u001b\\\n"
      ]
     },
     "metadata": {},
     "output_type": "display_data"
    },
    {
     "data": {
      "text/html": [
       "<pre style=\"white-space:pre;overflow-x:auto;line-height:normal;font-family:Menlo,'DejaVu Sans Mono',consolas,'Courier New',monospace\"><span style=\"color: #7fbfbf; text-decoration-color: #7fbfbf\">           </span><span style=\"color: #808000; text-decoration-color: #808000\">WARNING </span> drain_1_2 is already taken, using drain_1_04 instead                            <a href=\"file:///Users/karaferner/opt/anaconda3/envs/openpnm35/lib/python3.10/site-packages/openpnm/utils/_project.py\" target=\"_blank\"><span style=\"color: #7f7f7f; text-decoration-color: #7f7f7f\">_project.py</span></a><span style=\"color: #7f7f7f; text-decoration-color: #7f7f7f\">:</span><a href=\"file:///Users/karaferner/opt/anaconda3/envs/openpnm35/lib/python3.10/site-packages/openpnm/utils/_project.py#154\" target=\"_blank\"><span style=\"color: #7f7f7f; text-decoration-color: #7f7f7f\">154</span></a>\n",
       "</pre>\n"
      ],
      "text/plain": [
       "\u001b[2;36m          \u001b[0m\u001b[2;36m \u001b[0m\u001b[33mWARNING \u001b[0m drain_1_2 is already taken, using drain_1_04 instead                            \u001b]8;id=168384;file:///Users/karaferner/opt/anaconda3/envs/openpnm35/lib/python3.10/site-packages/openpnm/utils/_project.py\u001b\\\u001b[2m_project.py\u001b[0m\u001b]8;;\u001b\\\u001b[2m:\u001b[0m\u001b]8;id=921707;file:///Users/karaferner/opt/anaconda3/envs/openpnm35/lib/python3.10/site-packages/openpnm/utils/_project.py#154\u001b\\\u001b[2m154\u001b[0m\u001b]8;;\u001b\\\n"
      ]
     },
     "metadata": {},
     "output_type": "display_data"
    },
    {
     "data": {
      "application/vnd.jupyter.widget-view+json": {
       "model_id": "a575886d574d488ea576d61e126d002c",
       "version_major": 2,
       "version_minor": 0
      },
      "text/plain": [
       "Performing drainage simulation:   0%|          | 0/100 [00:00<?, ?it/s]"
      ]
     },
     "metadata": {},
     "output_type": "display_data"
    },
    {
     "data": {
      "text/html": [
       "<pre style=\"white-space:pre;overflow-x:auto;line-height:normal;font-family:Menlo,'DejaVu Sans Mono',consolas,'Courier New',monospace\"><span style=\"color: #7fbfbf; text-decoration-color: #7fbfbf\">           </span><span style=\"color: #808000; text-decoration-color: #808000\">WARNING </span> perc_1_3 is already taken, using perc_1_05 instead                              <a href=\"file:///Users/karaferner/opt/anaconda3/envs/openpnm35/lib/python3.10/site-packages/openpnm/utils/_project.py\" target=\"_blank\"><span style=\"color: #7f7f7f; text-decoration-color: #7f7f7f\">_project.py</span></a><span style=\"color: #7f7f7f; text-decoration-color: #7f7f7f\">:</span><a href=\"file:///Users/karaferner/opt/anaconda3/envs/openpnm35/lib/python3.10/site-packages/openpnm/utils/_project.py#154\" target=\"_blank\"><span style=\"color: #7f7f7f; text-decoration-color: #7f7f7f\">154</span></a>\n",
       "</pre>\n"
      ],
      "text/plain": [
       "\u001b[2;36m          \u001b[0m\u001b[2;36m \u001b[0m\u001b[33mWARNING \u001b[0m perc_1_3 is already taken, using perc_1_05 instead                              \u001b]8;id=97278;file:///Users/karaferner/opt/anaconda3/envs/openpnm35/lib/python3.10/site-packages/openpnm/utils/_project.py\u001b\\\u001b[2m_project.py\u001b[0m\u001b]8;;\u001b\\\u001b[2m:\u001b[0m\u001b]8;id=163930;file:///Users/karaferner/opt/anaconda3/envs/openpnm35/lib/python3.10/site-packages/openpnm/utils/_project.py#154\u001b\\\u001b[2m154\u001b[0m\u001b]8;;\u001b\\\n"
      ]
     },
     "metadata": {},
     "output_type": "display_data"
    },
    {
     "data": {
      "text/html": [
       "<pre style=\"white-space:pre;overflow-x:auto;line-height:normal;font-family:Menlo,'DejaVu Sans Mono',consolas,'Courier New',monospace\"><span style=\"color: #7fbfbf; text-decoration-color: #7fbfbf\">           </span><span style=\"color: #808000; text-decoration-color: #808000\">WARNING </span> drain_1_3 is already taken, using drain_1_05 instead                            <a href=\"file:///Users/karaferner/opt/anaconda3/envs/openpnm35/lib/python3.10/site-packages/openpnm/utils/_project.py\" target=\"_blank\"><span style=\"color: #7f7f7f; text-decoration-color: #7f7f7f\">_project.py</span></a><span style=\"color: #7f7f7f; text-decoration-color: #7f7f7f\">:</span><a href=\"file:///Users/karaferner/opt/anaconda3/envs/openpnm35/lib/python3.10/site-packages/openpnm/utils/_project.py#154\" target=\"_blank\"><span style=\"color: #7f7f7f; text-decoration-color: #7f7f7f\">154</span></a>\n",
       "</pre>\n"
      ],
      "text/plain": [
       "\u001b[2;36m          \u001b[0m\u001b[2;36m \u001b[0m\u001b[33mWARNING \u001b[0m drain_1_3 is already taken, using drain_1_05 instead                            \u001b]8;id=159362;file:///Users/karaferner/opt/anaconda3/envs/openpnm35/lib/python3.10/site-packages/openpnm/utils/_project.py\u001b\\\u001b[2m_project.py\u001b[0m\u001b]8;;\u001b\\\u001b[2m:\u001b[0m\u001b]8;id=618994;file:///Users/karaferner/opt/anaconda3/envs/openpnm35/lib/python3.10/site-packages/openpnm/utils/_project.py#154\u001b\\\u001b[2m154\u001b[0m\u001b]8;;\u001b\\\n"
      ]
     },
     "metadata": {},
     "output_type": "display_data"
    },
    {
     "data": {
      "application/vnd.jupyter.widget-view+json": {
       "model_id": "77dfad4d73044d49a6eb2b150a2ba67e",
       "version_major": 2,
       "version_minor": 0
      },
      "text/plain": [
       "Performing drainage simulation:   0%|          | 0/100 [00:00<?, ?it/s]"
      ]
     },
     "metadata": {},
     "output_type": "display_data"
    },
    {
     "data": {
      "text/html": [
       "<pre style=\"white-space:pre;overflow-x:auto;line-height:normal;font-family:Menlo,'DejaVu Sans Mono',consolas,'Courier New',monospace\"><span style=\"color: #7fbfbf; text-decoration-color: #7fbfbf\">           </span><span style=\"color: #808000; text-decoration-color: #808000\">WARNING </span> perc_1_4 is already taken, using perc_1_06 instead                              <a href=\"file:///Users/karaferner/opt/anaconda3/envs/openpnm35/lib/python3.10/site-packages/openpnm/utils/_project.py\" target=\"_blank\"><span style=\"color: #7f7f7f; text-decoration-color: #7f7f7f\">_project.py</span></a><span style=\"color: #7f7f7f; text-decoration-color: #7f7f7f\">:</span><a href=\"file:///Users/karaferner/opt/anaconda3/envs/openpnm35/lib/python3.10/site-packages/openpnm/utils/_project.py#154\" target=\"_blank\"><span style=\"color: #7f7f7f; text-decoration-color: #7f7f7f\">154</span></a>\n",
       "</pre>\n"
      ],
      "text/plain": [
       "\u001b[2;36m          \u001b[0m\u001b[2;36m \u001b[0m\u001b[33mWARNING \u001b[0m perc_1_4 is already taken, using perc_1_06 instead                              \u001b]8;id=366067;file:///Users/karaferner/opt/anaconda3/envs/openpnm35/lib/python3.10/site-packages/openpnm/utils/_project.py\u001b\\\u001b[2m_project.py\u001b[0m\u001b]8;;\u001b\\\u001b[2m:\u001b[0m\u001b]8;id=58547;file:///Users/karaferner/opt/anaconda3/envs/openpnm35/lib/python3.10/site-packages/openpnm/utils/_project.py#154\u001b\\\u001b[2m154\u001b[0m\u001b]8;;\u001b\\\n"
      ]
     },
     "metadata": {},
     "output_type": "display_data"
    },
    {
     "data": {
      "text/html": [
       "<pre style=\"white-space:pre;overflow-x:auto;line-height:normal;font-family:Menlo,'DejaVu Sans Mono',consolas,'Courier New',monospace\"><span style=\"color: #7fbfbf; text-decoration-color: #7fbfbf\">           </span><span style=\"color: #808000; text-decoration-color: #808000\">WARNING </span> drain_1_4 is already taken, using drain_1_06 instead                            <a href=\"file:///Users/karaferner/opt/anaconda3/envs/openpnm35/lib/python3.10/site-packages/openpnm/utils/_project.py\" target=\"_blank\"><span style=\"color: #7f7f7f; text-decoration-color: #7f7f7f\">_project.py</span></a><span style=\"color: #7f7f7f; text-decoration-color: #7f7f7f\">:</span><a href=\"file:///Users/karaferner/opt/anaconda3/envs/openpnm35/lib/python3.10/site-packages/openpnm/utils/_project.py#154\" target=\"_blank\"><span style=\"color: #7f7f7f; text-decoration-color: #7f7f7f\">154</span></a>\n",
       "</pre>\n"
      ],
      "text/plain": [
       "\u001b[2;36m          \u001b[0m\u001b[2;36m \u001b[0m\u001b[33mWARNING \u001b[0m drain_1_4 is already taken, using drain_1_06 instead                            \u001b]8;id=406369;file:///Users/karaferner/opt/anaconda3/envs/openpnm35/lib/python3.10/site-packages/openpnm/utils/_project.py\u001b\\\u001b[2m_project.py\u001b[0m\u001b]8;;\u001b\\\u001b[2m:\u001b[0m\u001b]8;id=742848;file:///Users/karaferner/opt/anaconda3/envs/openpnm35/lib/python3.10/site-packages/openpnm/utils/_project.py#154\u001b\\\u001b[2m154\u001b[0m\u001b]8;;\u001b\\\n"
      ]
     },
     "metadata": {},
     "output_type": "display_data"
    },
    {
     "data": {
      "application/vnd.jupyter.widget-view+json": {
       "model_id": "d08c4dfb98e4429080af5fbfc24e354f",
       "version_major": 2,
       "version_minor": 0
      },
      "text/plain": [
       "Performing drainage simulation:   0%|          | 0/100 [00:00<?, ?it/s]"
      ]
     },
     "metadata": {},
     "output_type": "display_data"
    },
    {
     "data": {
      "text/html": [
       "<pre style=\"white-space:pre;overflow-x:auto;line-height:normal;font-family:Menlo,'DejaVu Sans Mono',consolas,'Courier New',monospace\"><span style=\"color: #7fbfbf; text-decoration-color: #7fbfbf\">           </span><span style=\"color: #808000; text-decoration-color: #808000\">WARNING </span> perc_1_5 is already taken, using perc_1_07 instead                              <a href=\"file:///Users/karaferner/opt/anaconda3/envs/openpnm35/lib/python3.10/site-packages/openpnm/utils/_project.py\" target=\"_blank\"><span style=\"color: #7f7f7f; text-decoration-color: #7f7f7f\">_project.py</span></a><span style=\"color: #7f7f7f; text-decoration-color: #7f7f7f\">:</span><a href=\"file:///Users/karaferner/opt/anaconda3/envs/openpnm35/lib/python3.10/site-packages/openpnm/utils/_project.py#154\" target=\"_blank\"><span style=\"color: #7f7f7f; text-decoration-color: #7f7f7f\">154</span></a>\n",
       "</pre>\n"
      ],
      "text/plain": [
       "\u001b[2;36m          \u001b[0m\u001b[2;36m \u001b[0m\u001b[33mWARNING \u001b[0m perc_1_5 is already taken, using perc_1_07 instead                              \u001b]8;id=803797;file:///Users/karaferner/opt/anaconda3/envs/openpnm35/lib/python3.10/site-packages/openpnm/utils/_project.py\u001b\\\u001b[2m_project.py\u001b[0m\u001b]8;;\u001b\\\u001b[2m:\u001b[0m\u001b]8;id=936517;file:///Users/karaferner/opt/anaconda3/envs/openpnm35/lib/python3.10/site-packages/openpnm/utils/_project.py#154\u001b\\\u001b[2m154\u001b[0m\u001b]8;;\u001b\\\n"
      ]
     },
     "metadata": {},
     "output_type": "display_data"
    },
    {
     "data": {
      "text/html": [
       "<pre style=\"white-space:pre;overflow-x:auto;line-height:normal;font-family:Menlo,'DejaVu Sans Mono',consolas,'Courier New',monospace\"><span style=\"color: #7fbfbf; text-decoration-color: #7fbfbf\">           </span><span style=\"color: #808000; text-decoration-color: #808000\">WARNING </span> drain_1_5 is already taken, using drain_1_07 instead                            <a href=\"file:///Users/karaferner/opt/anaconda3/envs/openpnm35/lib/python3.10/site-packages/openpnm/utils/_project.py\" target=\"_blank\"><span style=\"color: #7f7f7f; text-decoration-color: #7f7f7f\">_project.py</span></a><span style=\"color: #7f7f7f; text-decoration-color: #7f7f7f\">:</span><a href=\"file:///Users/karaferner/opt/anaconda3/envs/openpnm35/lib/python3.10/site-packages/openpnm/utils/_project.py#154\" target=\"_blank\"><span style=\"color: #7f7f7f; text-decoration-color: #7f7f7f\">154</span></a>\n",
       "</pre>\n"
      ],
      "text/plain": [
       "\u001b[2;36m          \u001b[0m\u001b[2;36m \u001b[0m\u001b[33mWARNING \u001b[0m drain_1_5 is already taken, using drain_1_07 instead                            \u001b]8;id=5029;file:///Users/karaferner/opt/anaconda3/envs/openpnm35/lib/python3.10/site-packages/openpnm/utils/_project.py\u001b\\\u001b[2m_project.py\u001b[0m\u001b]8;;\u001b\\\u001b[2m:\u001b[0m\u001b]8;id=47277;file:///Users/karaferner/opt/anaconda3/envs/openpnm35/lib/python3.10/site-packages/openpnm/utils/_project.py#154\u001b\\\u001b[2m154\u001b[0m\u001b]8;;\u001b\\\n"
      ]
     },
     "metadata": {},
     "output_type": "display_data"
    },
    {
     "data": {
      "application/vnd.jupyter.widget-view+json": {
       "model_id": "179e018e6ed3496c8ae845277442b75b",
       "version_major": 2,
       "version_minor": 0
      },
      "text/plain": [
       "Performing drainage simulation:   0%|          | 0/100 [00:00<?, ?it/s]"
      ]
     },
     "metadata": {},
     "output_type": "display_data"
    },
    {
     "data": {
      "text/html": [
       "<pre style=\"white-space:pre;overflow-x:auto;line-height:normal;font-family:Menlo,'DejaVu Sans Mono',consolas,'Courier New',monospace\"><span style=\"color: #7fbfbf; text-decoration-color: #7fbfbf\">           </span><span style=\"color: #808000; text-decoration-color: #808000\">WARNING </span> perc_2_0 is already taken, using perc_2_02 instead                              <a href=\"file:///Users/karaferner/opt/anaconda3/envs/openpnm35/lib/python3.10/site-packages/openpnm/utils/_project.py\" target=\"_blank\"><span style=\"color: #7f7f7f; text-decoration-color: #7f7f7f\">_project.py</span></a><span style=\"color: #7f7f7f; text-decoration-color: #7f7f7f\">:</span><a href=\"file:///Users/karaferner/opt/anaconda3/envs/openpnm35/lib/python3.10/site-packages/openpnm/utils/_project.py#154\" target=\"_blank\"><span style=\"color: #7f7f7f; text-decoration-color: #7f7f7f\">154</span></a>\n",
       "</pre>\n"
      ],
      "text/plain": [
       "\u001b[2;36m          \u001b[0m\u001b[2;36m \u001b[0m\u001b[33mWARNING \u001b[0m perc_2_0 is already taken, using perc_2_02 instead                              \u001b]8;id=558730;file:///Users/karaferner/opt/anaconda3/envs/openpnm35/lib/python3.10/site-packages/openpnm/utils/_project.py\u001b\\\u001b[2m_project.py\u001b[0m\u001b]8;;\u001b\\\u001b[2m:\u001b[0m\u001b]8;id=602825;file:///Users/karaferner/opt/anaconda3/envs/openpnm35/lib/python3.10/site-packages/openpnm/utils/_project.py#154\u001b\\\u001b[2m154\u001b[0m\u001b]8;;\u001b\\\n"
      ]
     },
     "metadata": {},
     "output_type": "display_data"
    },
    {
     "data": {
      "text/html": [
       "<pre style=\"white-space:pre;overflow-x:auto;line-height:normal;font-family:Menlo,'DejaVu Sans Mono',consolas,'Courier New',monospace\"><span style=\"color: #7fbfbf; text-decoration-color: #7fbfbf\">           </span><span style=\"color: #808000; text-decoration-color: #808000\">WARNING </span> drain_2_0 is already taken, using drain_2_02 instead                            <a href=\"file:///Users/karaferner/opt/anaconda3/envs/openpnm35/lib/python3.10/site-packages/openpnm/utils/_project.py\" target=\"_blank\"><span style=\"color: #7f7f7f; text-decoration-color: #7f7f7f\">_project.py</span></a><span style=\"color: #7f7f7f; text-decoration-color: #7f7f7f\">:</span><a href=\"file:///Users/karaferner/opt/anaconda3/envs/openpnm35/lib/python3.10/site-packages/openpnm/utils/_project.py#154\" target=\"_blank\"><span style=\"color: #7f7f7f; text-decoration-color: #7f7f7f\">154</span></a>\n",
       "</pre>\n"
      ],
      "text/plain": [
       "\u001b[2;36m          \u001b[0m\u001b[2;36m \u001b[0m\u001b[33mWARNING \u001b[0m drain_2_0 is already taken, using drain_2_02 instead                            \u001b]8;id=814859;file:///Users/karaferner/opt/anaconda3/envs/openpnm35/lib/python3.10/site-packages/openpnm/utils/_project.py\u001b\\\u001b[2m_project.py\u001b[0m\u001b]8;;\u001b\\\u001b[2m:\u001b[0m\u001b]8;id=594296;file:///Users/karaferner/opt/anaconda3/envs/openpnm35/lib/python3.10/site-packages/openpnm/utils/_project.py#154\u001b\\\u001b[2m154\u001b[0m\u001b]8;;\u001b\\\n"
      ]
     },
     "metadata": {},
     "output_type": "display_data"
    },
    {
     "data": {
      "application/vnd.jupyter.widget-view+json": {
       "model_id": "06cf63f3021942f8bf74d8c6bfb7c0e8",
       "version_major": 2,
       "version_minor": 0
      },
      "text/plain": [
       "Performing drainage simulation:   0%|          | 0/100 [00:00<?, ?it/s]"
      ]
     },
     "metadata": {},
     "output_type": "display_data"
    },
    {
     "data": {
      "text/html": [
       "<pre style=\"white-space:pre;overflow-x:auto;line-height:normal;font-family:Menlo,'DejaVu Sans Mono',consolas,'Courier New',monospace\"><span style=\"color: #7fbfbf; text-decoration-color: #7fbfbf\">           </span><span style=\"color: #808000; text-decoration-color: #808000\">WARNING </span> perc_2_1 is already taken, using perc_2_03 instead                              <a href=\"file:///Users/karaferner/opt/anaconda3/envs/openpnm35/lib/python3.10/site-packages/openpnm/utils/_project.py\" target=\"_blank\"><span style=\"color: #7f7f7f; text-decoration-color: #7f7f7f\">_project.py</span></a><span style=\"color: #7f7f7f; text-decoration-color: #7f7f7f\">:</span><a href=\"file:///Users/karaferner/opt/anaconda3/envs/openpnm35/lib/python3.10/site-packages/openpnm/utils/_project.py#154\" target=\"_blank\"><span style=\"color: #7f7f7f; text-decoration-color: #7f7f7f\">154</span></a>\n",
       "</pre>\n"
      ],
      "text/plain": [
       "\u001b[2;36m          \u001b[0m\u001b[2;36m \u001b[0m\u001b[33mWARNING \u001b[0m perc_2_1 is already taken, using perc_2_03 instead                              \u001b]8;id=761464;file:///Users/karaferner/opt/anaconda3/envs/openpnm35/lib/python3.10/site-packages/openpnm/utils/_project.py\u001b\\\u001b[2m_project.py\u001b[0m\u001b]8;;\u001b\\\u001b[2m:\u001b[0m\u001b]8;id=371416;file:///Users/karaferner/opt/anaconda3/envs/openpnm35/lib/python3.10/site-packages/openpnm/utils/_project.py#154\u001b\\\u001b[2m154\u001b[0m\u001b]8;;\u001b\\\n"
      ]
     },
     "metadata": {},
     "output_type": "display_data"
    },
    {
     "data": {
      "text/html": [
       "<pre style=\"white-space:pre;overflow-x:auto;line-height:normal;font-family:Menlo,'DejaVu Sans Mono',consolas,'Courier New',monospace\"><span style=\"color: #7fbfbf; text-decoration-color: #7fbfbf\">           </span><span style=\"color: #808000; text-decoration-color: #808000\">WARNING </span> drain_2_1 is already taken, using drain_2_03 instead                            <a href=\"file:///Users/karaferner/opt/anaconda3/envs/openpnm35/lib/python3.10/site-packages/openpnm/utils/_project.py\" target=\"_blank\"><span style=\"color: #7f7f7f; text-decoration-color: #7f7f7f\">_project.py</span></a><span style=\"color: #7f7f7f; text-decoration-color: #7f7f7f\">:</span><a href=\"file:///Users/karaferner/opt/anaconda3/envs/openpnm35/lib/python3.10/site-packages/openpnm/utils/_project.py#154\" target=\"_blank\"><span style=\"color: #7f7f7f; text-decoration-color: #7f7f7f\">154</span></a>\n",
       "</pre>\n"
      ],
      "text/plain": [
       "\u001b[2;36m          \u001b[0m\u001b[2;36m \u001b[0m\u001b[33mWARNING \u001b[0m drain_2_1 is already taken, using drain_2_03 instead                            \u001b]8;id=942286;file:///Users/karaferner/opt/anaconda3/envs/openpnm35/lib/python3.10/site-packages/openpnm/utils/_project.py\u001b\\\u001b[2m_project.py\u001b[0m\u001b]8;;\u001b\\\u001b[2m:\u001b[0m\u001b]8;id=743009;file:///Users/karaferner/opt/anaconda3/envs/openpnm35/lib/python3.10/site-packages/openpnm/utils/_project.py#154\u001b\\\u001b[2m154\u001b[0m\u001b]8;;\u001b\\\n"
      ]
     },
     "metadata": {},
     "output_type": "display_data"
    },
    {
     "data": {
      "application/vnd.jupyter.widget-view+json": {
       "model_id": "3fe63544459a4173903be3b5b158e418",
       "version_major": 2,
       "version_minor": 0
      },
      "text/plain": [
       "Performing drainage simulation:   0%|          | 0/100 [00:00<?, ?it/s]"
      ]
     },
     "metadata": {},
     "output_type": "display_data"
    },
    {
     "data": {
      "text/html": [
       "<pre style=\"white-space:pre;overflow-x:auto;line-height:normal;font-family:Menlo,'DejaVu Sans Mono',consolas,'Courier New',monospace\"><span style=\"color: #7fbfbf; text-decoration-color: #7fbfbf\">           </span><span style=\"color: #808000; text-decoration-color: #808000\">WARNING </span> perc_2_2 is already taken, using perc_2_04 instead                              <a href=\"file:///Users/karaferner/opt/anaconda3/envs/openpnm35/lib/python3.10/site-packages/openpnm/utils/_project.py\" target=\"_blank\"><span style=\"color: #7f7f7f; text-decoration-color: #7f7f7f\">_project.py</span></a><span style=\"color: #7f7f7f; text-decoration-color: #7f7f7f\">:</span><a href=\"file:///Users/karaferner/opt/anaconda3/envs/openpnm35/lib/python3.10/site-packages/openpnm/utils/_project.py#154\" target=\"_blank\"><span style=\"color: #7f7f7f; text-decoration-color: #7f7f7f\">154</span></a>\n",
       "</pre>\n"
      ],
      "text/plain": [
       "\u001b[2;36m          \u001b[0m\u001b[2;36m \u001b[0m\u001b[33mWARNING \u001b[0m perc_2_2 is already taken, using perc_2_04 instead                              \u001b]8;id=613996;file:///Users/karaferner/opt/anaconda3/envs/openpnm35/lib/python3.10/site-packages/openpnm/utils/_project.py\u001b\\\u001b[2m_project.py\u001b[0m\u001b]8;;\u001b\\\u001b[2m:\u001b[0m\u001b]8;id=149046;file:///Users/karaferner/opt/anaconda3/envs/openpnm35/lib/python3.10/site-packages/openpnm/utils/_project.py#154\u001b\\\u001b[2m154\u001b[0m\u001b]8;;\u001b\\\n"
      ]
     },
     "metadata": {},
     "output_type": "display_data"
    },
    {
     "data": {
      "text/html": [
       "<pre style=\"white-space:pre;overflow-x:auto;line-height:normal;font-family:Menlo,'DejaVu Sans Mono',consolas,'Courier New',monospace\"><span style=\"color: #7fbfbf; text-decoration-color: #7fbfbf\">           </span><span style=\"color: #808000; text-decoration-color: #808000\">WARNING </span> drain_2_2 is already taken, using drain_2_04 instead                            <a href=\"file:///Users/karaferner/opt/anaconda3/envs/openpnm35/lib/python3.10/site-packages/openpnm/utils/_project.py\" target=\"_blank\"><span style=\"color: #7f7f7f; text-decoration-color: #7f7f7f\">_project.py</span></a><span style=\"color: #7f7f7f; text-decoration-color: #7f7f7f\">:</span><a href=\"file:///Users/karaferner/opt/anaconda3/envs/openpnm35/lib/python3.10/site-packages/openpnm/utils/_project.py#154\" target=\"_blank\"><span style=\"color: #7f7f7f; text-decoration-color: #7f7f7f\">154</span></a>\n",
       "</pre>\n"
      ],
      "text/plain": [
       "\u001b[2;36m          \u001b[0m\u001b[2;36m \u001b[0m\u001b[33mWARNING \u001b[0m drain_2_2 is already taken, using drain_2_04 instead                            \u001b]8;id=224767;file:///Users/karaferner/opt/anaconda3/envs/openpnm35/lib/python3.10/site-packages/openpnm/utils/_project.py\u001b\\\u001b[2m_project.py\u001b[0m\u001b]8;;\u001b\\\u001b[2m:\u001b[0m\u001b]8;id=271228;file:///Users/karaferner/opt/anaconda3/envs/openpnm35/lib/python3.10/site-packages/openpnm/utils/_project.py#154\u001b\\\u001b[2m154\u001b[0m\u001b]8;;\u001b\\\n"
      ]
     },
     "metadata": {},
     "output_type": "display_data"
    },
    {
     "data": {
      "application/vnd.jupyter.widget-view+json": {
       "model_id": "bae09641967c4794afd6a03194ee04c4",
       "version_major": 2,
       "version_minor": 0
      },
      "text/plain": [
       "Performing drainage simulation:   0%|          | 0/100 [00:00<?, ?it/s]"
      ]
     },
     "metadata": {},
     "output_type": "display_data"
    },
    {
     "data": {
      "text/html": [
       "<pre style=\"white-space:pre;overflow-x:auto;line-height:normal;font-family:Menlo,'DejaVu Sans Mono',consolas,'Courier New',monospace\"><span style=\"color: #7fbfbf; text-decoration-color: #7fbfbf\">[16:50:36] </span><span style=\"color: #808000; text-decoration-color: #808000\">WARNING </span> perc_2_3 is already taken, using perc_2_05 instead                              <a href=\"file:///Users/karaferner/opt/anaconda3/envs/openpnm35/lib/python3.10/site-packages/openpnm/utils/_project.py\" target=\"_blank\"><span style=\"color: #7f7f7f; text-decoration-color: #7f7f7f\">_project.py</span></a><span style=\"color: #7f7f7f; text-decoration-color: #7f7f7f\">:</span><a href=\"file:///Users/karaferner/opt/anaconda3/envs/openpnm35/lib/python3.10/site-packages/openpnm/utils/_project.py#154\" target=\"_blank\"><span style=\"color: #7f7f7f; text-decoration-color: #7f7f7f\">154</span></a>\n",
       "</pre>\n"
      ],
      "text/plain": [
       "\u001b[2;36m[16:50:36]\u001b[0m\u001b[2;36m \u001b[0m\u001b[33mWARNING \u001b[0m perc_2_3 is already taken, using perc_2_05 instead                              \u001b]8;id=327351;file:///Users/karaferner/opt/anaconda3/envs/openpnm35/lib/python3.10/site-packages/openpnm/utils/_project.py\u001b\\\u001b[2m_project.py\u001b[0m\u001b]8;;\u001b\\\u001b[2m:\u001b[0m\u001b]8;id=513475;file:///Users/karaferner/opt/anaconda3/envs/openpnm35/lib/python3.10/site-packages/openpnm/utils/_project.py#154\u001b\\\u001b[2m154\u001b[0m\u001b]8;;\u001b\\\n"
      ]
     },
     "metadata": {},
     "output_type": "display_data"
    },
    {
     "data": {
      "text/html": [
       "<pre style=\"white-space:pre;overflow-x:auto;line-height:normal;font-family:Menlo,'DejaVu Sans Mono',consolas,'Courier New',monospace\"><span style=\"color: #7fbfbf; text-decoration-color: #7fbfbf\">           </span><span style=\"color: #808000; text-decoration-color: #808000\">WARNING </span> drain_2_3 is already taken, using drain_2_05 instead                            <a href=\"file:///Users/karaferner/opt/anaconda3/envs/openpnm35/lib/python3.10/site-packages/openpnm/utils/_project.py\" target=\"_blank\"><span style=\"color: #7f7f7f; text-decoration-color: #7f7f7f\">_project.py</span></a><span style=\"color: #7f7f7f; text-decoration-color: #7f7f7f\">:</span><a href=\"file:///Users/karaferner/opt/anaconda3/envs/openpnm35/lib/python3.10/site-packages/openpnm/utils/_project.py#154\" target=\"_blank\"><span style=\"color: #7f7f7f; text-decoration-color: #7f7f7f\">154</span></a>\n",
       "</pre>\n"
      ],
      "text/plain": [
       "\u001b[2;36m          \u001b[0m\u001b[2;36m \u001b[0m\u001b[33mWARNING \u001b[0m drain_2_3 is already taken, using drain_2_05 instead                            \u001b]8;id=565322;file:///Users/karaferner/opt/anaconda3/envs/openpnm35/lib/python3.10/site-packages/openpnm/utils/_project.py\u001b\\\u001b[2m_project.py\u001b[0m\u001b]8;;\u001b\\\u001b[2m:\u001b[0m\u001b]8;id=634225;file:///Users/karaferner/opt/anaconda3/envs/openpnm35/lib/python3.10/site-packages/openpnm/utils/_project.py#154\u001b\\\u001b[2m154\u001b[0m\u001b]8;;\u001b\\\n"
      ]
     },
     "metadata": {},
     "output_type": "display_data"
    },
    {
     "data": {
      "application/vnd.jupyter.widget-view+json": {
       "model_id": "8548e4656dc74e518763efc74e859961",
       "version_major": 2,
       "version_minor": 0
      },
      "text/plain": [
       "Performing drainage simulation:   0%|          | 0/100 [00:00<?, ?it/s]"
      ]
     },
     "metadata": {},
     "output_type": "display_data"
    },
    {
     "data": {
      "text/html": [
       "<pre style=\"white-space:pre;overflow-x:auto;line-height:normal;font-family:Menlo,'DejaVu Sans Mono',consolas,'Courier New',monospace\"><span style=\"color: #7fbfbf; text-decoration-color: #7fbfbf\">           </span><span style=\"color: #808000; text-decoration-color: #808000\">WARNING </span> perc_2_4 is already taken, using perc_2_06 instead                              <a href=\"file:///Users/karaferner/opt/anaconda3/envs/openpnm35/lib/python3.10/site-packages/openpnm/utils/_project.py\" target=\"_blank\"><span style=\"color: #7f7f7f; text-decoration-color: #7f7f7f\">_project.py</span></a><span style=\"color: #7f7f7f; text-decoration-color: #7f7f7f\">:</span><a href=\"file:///Users/karaferner/opt/anaconda3/envs/openpnm35/lib/python3.10/site-packages/openpnm/utils/_project.py#154\" target=\"_blank\"><span style=\"color: #7f7f7f; text-decoration-color: #7f7f7f\">154</span></a>\n",
       "</pre>\n"
      ],
      "text/plain": [
       "\u001b[2;36m          \u001b[0m\u001b[2;36m \u001b[0m\u001b[33mWARNING \u001b[0m perc_2_4 is already taken, using perc_2_06 instead                              \u001b]8;id=475291;file:///Users/karaferner/opt/anaconda3/envs/openpnm35/lib/python3.10/site-packages/openpnm/utils/_project.py\u001b\\\u001b[2m_project.py\u001b[0m\u001b]8;;\u001b\\\u001b[2m:\u001b[0m\u001b]8;id=350414;file:///Users/karaferner/opt/anaconda3/envs/openpnm35/lib/python3.10/site-packages/openpnm/utils/_project.py#154\u001b\\\u001b[2m154\u001b[0m\u001b]8;;\u001b\\\n"
      ]
     },
     "metadata": {},
     "output_type": "display_data"
    },
    {
     "data": {
      "text/html": [
       "<pre style=\"white-space:pre;overflow-x:auto;line-height:normal;font-family:Menlo,'DejaVu Sans Mono',consolas,'Courier New',monospace\"><span style=\"color: #7fbfbf; text-decoration-color: #7fbfbf\">           </span><span style=\"color: #808000; text-decoration-color: #808000\">WARNING </span> drain_2_4 is already taken, using drain_2_06 instead                            <a href=\"file:///Users/karaferner/opt/anaconda3/envs/openpnm35/lib/python3.10/site-packages/openpnm/utils/_project.py\" target=\"_blank\"><span style=\"color: #7f7f7f; text-decoration-color: #7f7f7f\">_project.py</span></a><span style=\"color: #7f7f7f; text-decoration-color: #7f7f7f\">:</span><a href=\"file:///Users/karaferner/opt/anaconda3/envs/openpnm35/lib/python3.10/site-packages/openpnm/utils/_project.py#154\" target=\"_blank\"><span style=\"color: #7f7f7f; text-decoration-color: #7f7f7f\">154</span></a>\n",
       "</pre>\n"
      ],
      "text/plain": [
       "\u001b[2;36m          \u001b[0m\u001b[2;36m \u001b[0m\u001b[33mWARNING \u001b[0m drain_2_4 is already taken, using drain_2_06 instead                            \u001b]8;id=386455;file:///Users/karaferner/opt/anaconda3/envs/openpnm35/lib/python3.10/site-packages/openpnm/utils/_project.py\u001b\\\u001b[2m_project.py\u001b[0m\u001b]8;;\u001b\\\u001b[2m:\u001b[0m\u001b]8;id=718796;file:///Users/karaferner/opt/anaconda3/envs/openpnm35/lib/python3.10/site-packages/openpnm/utils/_project.py#154\u001b\\\u001b[2m154\u001b[0m\u001b]8;;\u001b\\\n"
      ]
     },
     "metadata": {},
     "output_type": "display_data"
    },
    {
     "data": {
      "application/vnd.jupyter.widget-view+json": {
       "model_id": "5dcf88d0adcb4765ac37040d55d8bef4",
       "version_major": 2,
       "version_minor": 0
      },
      "text/plain": [
       "Performing drainage simulation:   0%|          | 0/100 [00:00<?, ?it/s]"
      ]
     },
     "metadata": {},
     "output_type": "display_data"
    },
    {
     "data": {
      "text/html": [
       "<pre style=\"white-space:pre;overflow-x:auto;line-height:normal;font-family:Menlo,'DejaVu Sans Mono',consolas,'Courier New',monospace\"><span style=\"color: #7fbfbf; text-decoration-color: #7fbfbf\">           </span><span style=\"color: #808000; text-decoration-color: #808000\">WARNING </span> perc_2_5 is already taken, using perc_2_07 instead                              <a href=\"file:///Users/karaferner/opt/anaconda3/envs/openpnm35/lib/python3.10/site-packages/openpnm/utils/_project.py\" target=\"_blank\"><span style=\"color: #7f7f7f; text-decoration-color: #7f7f7f\">_project.py</span></a><span style=\"color: #7f7f7f; text-decoration-color: #7f7f7f\">:</span><a href=\"file:///Users/karaferner/opt/anaconda3/envs/openpnm35/lib/python3.10/site-packages/openpnm/utils/_project.py#154\" target=\"_blank\"><span style=\"color: #7f7f7f; text-decoration-color: #7f7f7f\">154</span></a>\n",
       "</pre>\n"
      ],
      "text/plain": [
       "\u001b[2;36m          \u001b[0m\u001b[2;36m \u001b[0m\u001b[33mWARNING \u001b[0m perc_2_5 is already taken, using perc_2_07 instead                              \u001b]8;id=121985;file:///Users/karaferner/opt/anaconda3/envs/openpnm35/lib/python3.10/site-packages/openpnm/utils/_project.py\u001b\\\u001b[2m_project.py\u001b[0m\u001b]8;;\u001b\\\u001b[2m:\u001b[0m\u001b]8;id=61501;file:///Users/karaferner/opt/anaconda3/envs/openpnm35/lib/python3.10/site-packages/openpnm/utils/_project.py#154\u001b\\\u001b[2m154\u001b[0m\u001b]8;;\u001b\\\n"
      ]
     },
     "metadata": {},
     "output_type": "display_data"
    },
    {
     "data": {
      "text/html": [
       "<pre style=\"white-space:pre;overflow-x:auto;line-height:normal;font-family:Menlo,'DejaVu Sans Mono',consolas,'Courier New',monospace\"><span style=\"color: #7fbfbf; text-decoration-color: #7fbfbf\">           </span><span style=\"color: #808000; text-decoration-color: #808000\">WARNING </span> drain_2_5 is already taken, using drain_2_07 instead                            <a href=\"file:///Users/karaferner/opt/anaconda3/envs/openpnm35/lib/python3.10/site-packages/openpnm/utils/_project.py\" target=\"_blank\"><span style=\"color: #7f7f7f; text-decoration-color: #7f7f7f\">_project.py</span></a><span style=\"color: #7f7f7f; text-decoration-color: #7f7f7f\">:</span><a href=\"file:///Users/karaferner/opt/anaconda3/envs/openpnm35/lib/python3.10/site-packages/openpnm/utils/_project.py#154\" target=\"_blank\"><span style=\"color: #7f7f7f; text-decoration-color: #7f7f7f\">154</span></a>\n",
       "</pre>\n"
      ],
      "text/plain": [
       "\u001b[2;36m          \u001b[0m\u001b[2;36m \u001b[0m\u001b[33mWARNING \u001b[0m drain_2_5 is already taken, using drain_2_07 instead                            \u001b]8;id=912508;file:///Users/karaferner/opt/anaconda3/envs/openpnm35/lib/python3.10/site-packages/openpnm/utils/_project.py\u001b\\\u001b[2m_project.py\u001b[0m\u001b]8;;\u001b\\\u001b[2m:\u001b[0m\u001b]8;id=269020;file:///Users/karaferner/opt/anaconda3/envs/openpnm35/lib/python3.10/site-packages/openpnm/utils/_project.py#154\u001b\\\u001b[2m154\u001b[0m\u001b]8;;\u001b\\\n"
      ]
     },
     "metadata": {},
     "output_type": "display_data"
    },
    {
     "data": {
      "application/vnd.jupyter.widget-view+json": {
       "model_id": "646e4894749a4832b6ac8c6f6d1844eb",
       "version_major": 2,
       "version_minor": 0
      },
      "text/plain": [
       "Performing drainage simulation:   0%|          | 0/100 [00:00<?, ?it/s]"
      ]
     },
     "metadata": {},
     "output_type": "display_data"
    }
   ],
   "source": [
    "percs = []\n",
    "drains = []\n",
    "pressures = np.logspace(4,7,100)\n",
    "\n",
    "for s,sample in enumerate(pn_total[1]):\n",
    "    sample_percs = []\n",
    "    sample_drains = []\n",
    "    for r,region in enumerate(sample):\n",
    "\n",
    "        inlets = region.pores('ymax')\n",
    "        used_inlets = [inlets[y] for y in range(0, len(inlets), 1)]\n",
    "        op.algorithms.InvasionPercolation(network=region,phase=phases[s][r]).reset()\n",
    "        perc = op.algorithms.InvasionPercolation(network=region,phase=phases[s][r],name='perc_{}_{}'.format(s,r))\n",
    "        perc.set_inlet_BC(pores = used_inlets)\n",
    "        perc.run()\n",
    "\n",
    "\n",
    "        inlets = region.pores('ymax')\n",
    "        used_inlets = [inlets[y] for y in range(0, len(inlets), 1)]\n",
    "        op.algorithms.Drainage(network=region,phase=phases[s][r]).reset()\n",
    "        drain = op.algorithms.Drainage(network=region,phase=phases[s][r],name='drain_{}_{}'.format(s,r))\n",
    "        drain.set_inlet_BC(pores = used_inlets)\n",
    "        drain.run(pressures=pressures)\n",
    "\n",
    "        sample_percs.append(perc)\n",
    "        sample_drains.append(drain)\n",
    "    percs.append(sample_percs)\n",
    "    drains.append(sample_drains)"
   ]
  },
  {
   "cell_type": "code",
   "execution_count": 74,
   "id": "e2fd1887",
   "metadata": {},
   "outputs": [
    {
     "name": "stdout",
     "output_type": "stream",
     "text": [
      "\n",
      "══════════════════════════════════════════════════════════════════════════════\n",
      "drain_0_02 : <openpnm.algorithms.Drainage at 0x17db41b20>\n",
      "――――――――――――――――――――――――――――――――――――――――――――――――――――――――――――――――――――――――――――――\n",
      "  #  Properties                                                   Valid Values\n",
      "――――――――――――――――――――――――――――――――――――――――――――――――――――――――――――――――――――――――――――――\n",
      "  2  pore.invasion_pressure                                        1669 / 1669\n",
      "  3  throat.invasion_pressure                                      3281 / 3281\n",
      "  4  pore.invasion_sequence                                        1669 / 1669\n",
      "  5  throat.invasion_sequence                                      3281 / 3281\n",
      "――――――――――――――――――――――――――――――――――――――――――――――――――――――――――――――――――――――――――――――\n",
      "  #  Labels                                                 Assigned Locations\n",
      "――――――――――――――――――――――――――――――――――――――――――――――――――――――――――――――――――――――――――――――\n",
      "  2  pore.all                                                             1669\n",
      "  3  throat.all                                                           3281\n",
      "  4  pore.bc.inlet                                                          95\n",
      "  5  pore.bc.outlet                                                          0\n",
      "  6  pore.invaded                                                         1669\n",
      "  7  throat.invaded                                                       3281\n",
      "  8  pore.trapped                                                            0\n",
      "  9  throat.trapped                                                          0\n",
      "――――――――――――――――――――――――――――――――――――――――――――――――――――――――――――――――――――――――――――――\n"
     ]
    }
   ],
   "source": [
    "print(drains[0][0])"
   ]
  },
  {
   "cell_type": "code",
   "execution_count": 75,
   "id": "db585d79",
   "metadata": {},
   "outputs": [],
   "source": [
    "perc_pcs = []\n",
    "perc_sats = []\n",
    "for s,sample in enumerate(percs):\n",
    "    sample_pcs = []\n",
    "    sample_sats = []\n",
    "    for r,region in enumerate(sample):\n",
    "        region_pc = []\n",
    "        region_sat_tot = []\n",
    "\n",
    "        pc = region.pc_curve().pc\n",
    "        sat = region.pc_curve().snwp\n",
    "\n",
    "        region_sat_tot.append(sat[0]) \n",
    "        region_pc.append(pc[0])\n",
    "        for i,x in enumerate(sat):\n",
    "            if  sat[i] - region_sat_tot[-1] > 0.0:\n",
    "                region_pc.append(pc[i])\n",
    "                region_sat_tot.append(sat[i])\n",
    "        sample_pcs.append(region_pc)\n",
    "        sample_sats.append(region_sat_tot)\n",
    "    perc_pcs.append(sample_pcs)\n",
    "    perc_sats.append(sample_sats)"
   ]
  },
  {
   "cell_type": "code",
   "execution_count": 76,
   "id": "afb1532a",
   "metadata": {},
   "outputs": [],
   "source": [
    "drain_pcs = []\n",
    "drain_sats = []\n",
    "for s,sample in enumerate(drains):\n",
    "    sample_pcs = []\n",
    "    sample_sats = []\n",
    "    for r,region in enumerate(sample):\n",
    "        region_pc = []\n",
    "        region_sat_tot = []\n",
    "\n",
    "        pc = region.pc_curve().pc\n",
    "        sat = region.pc_curve().snwp\n",
    "\n",
    "        region_sat_tot.append(sat[0]) \n",
    "        region_pc.append(pc[0])\n",
    "        for i,x in enumerate(sat):\n",
    "            if  sat[i] - region_sat_tot[-1] > 0.0:\n",
    "                region_pc.append(pc[i])\n",
    "                region_sat_tot.append(sat[i])\n",
    "        sample_pcs.append(region_pc)\n",
    "        sample_sats.append(region_sat_tot)\n",
    "    drain_pcs.append(sample_pcs)\n",
    "    drain_sats.append(sample_sats)"
   ]
  },
  {
   "cell_type": "code",
   "execution_count": 77,
   "id": "a5bf46ee",
   "metadata": {},
   "outputs": [
    {
     "name": "stdout",
     "output_type": "stream",
     "text": [
      "[284803.5868435805, 351119.17342151277, 376493.58067924716, 403701.72585965577, 432876.12810830615, 464158.8833612782, 497702.35643321136, 533669.9231206313, 572236.765935022, 613590.7273413176, 657933.2246575683, 705480.2310718645, 756463.3275546291, 811130.8307896872, 869749.0026177834, 932603.3468832199, 1000000.0, 1072267.222010323, 1149756.9953977356, 1232846.7394420658, 1321941.1484660287, 1417474.1629268047, 1519911.0829529332, 1629750.834620647, 1747528.4000076829, 1873817.4228603868, 2009233.0025650458, 2154434.6900318866, 2310129.700083158, 2477076.355991714, 2656087.782946684, 2848035.8684358047, 3053855.5088334125, 3274549.1628777315, 3511191.7342151273, 3764935.806792471, 4037017.2585965497, 4328761.281083061, 4977023.564332114, 5722367.65935022, 7054802.310718645, 10000000.0]\n",
      "42\n"
     ]
    }
   ],
   "source": [
    "print(drain_pcs[0][0])\n",
    "print(len(drain_pcs[0][0]))"
   ]
  },
  {
   "cell_type": "code",
   "execution_count": 30,
   "id": "99d60480",
   "metadata": {},
   "outputs": [
    {
     "name": "stdout",
     "output_type": "stream",
     "text": [
      "ln_mu_rad:  [3.9634 4.2324 3.8784]\n",
      "Rm:  [6.4399e-08 9.0546e-08 5.8326e-08]\n"
     ]
    }
   ],
   "source": [
    "#log normal mean (diam [nm])\n",
    "ln_mu_diam = np.array([4.6565,4.9255,4.5715])\n",
    "#log normal std (same for diam or radius)\n",
    "ln_sigma = np.array([0.6352,0.7396,0.6127])\n",
    "\n",
    "ln_mu_rad = np.log(np.exp(ln_mu_diam)/2)\n",
    "print('ln_mu_rad: ',ln_mu_rad)\n",
    "\n",
    "rm = np.exp(ln_mu_rad + (ln_sigma**2/2))*10**-9\n",
    "print('Rm: ',rm)\n",
    "\n",
    "pcap = np.logspace(4,7,100)*1\n",
    "gamma = 0.0626\n",
    "theta = 105\n",
    "\n",
    "rcap = -2*gamma*np.cos(np.deg2rad(theta))/pcap\n"
   ]
  },
  {
   "cell_type": "code",
   "execution_count": 79,
   "id": "c8ae2fc3",
   "metadata": {},
   "outputs": [
    {
     "data": {
      "image/png": "[encoded data removed]",
      "text/plain": [
       "<Figure size 600x500 with 1 Axes>"
      ]
     },
     "metadata": {},
     "output_type": "display_data"
    }
   ],
   "source": [
    "fig, ax = plt.subplots()\n",
    "\n",
    "line_colors =['k','b','r']\n",
    "shapes = ['^','o','s','v','>','<']\n",
    "zorders = [100,99,98]\n",
    "\n",
    "for s,sample in enumerate(perc_pcs):\n",
    "    for r,region in enumerate(sample):\n",
    "        # if s==1 and r==4:\n",
    "        if True:\n",
    "            # ax.plot(region,1-np.array(perc_sats[s][r]),color = line_colors[s], marker = shapes[r], \n",
    "            #         markeredgewidth=0.5, markerfacecolor='white',zorder=zorders[s])\n",
    "            ax.plot(drain_pcs[s][r],1-np.array(drain_sats[s][r]),linewidth=4,color = line_colors[s], marker = shapes[r], \n",
    "                    markeredgewidth=1,markersize=8, markerfacecolor='white',zorder=zorders[s])\n",
    "            \n",
    "\n",
    "\n",
    "for i,sample in enumerate(rm):\n",
    "    rk = rm[i]\n",
    "    sk = ln_sigma[i]/2\n",
    "    x = np.log(rcap/rk)/(sk*np.sqrt(2))\n",
    "    s = 0.5*(1+sp.special.erf(x))\n",
    "    ax.plot(pcap*1,s,color=line_colors[i], linewidth=4,zorder=200)\n",
    "\n",
    "ax.set_xlabel(\"Negative Capillary Pressure [Pa]\")\n",
    "ax.set_ylabel(\"Saturation (Water)\")\n",
    "ax.set_xscale('log')\n",
    "ax.set_xlim([10**7, 10**4])\n",
    "ax.invert_xaxis()\n",
    "plt.tick_params(axis='x', which='minor')\n",
    "\n"
   ]
  },
  {
   "cell_type": "code",
   "execution_count": 80,
   "id": "958e12da",
   "metadata": {},
   "outputs": [],
   "source": [
    "#interpolation to average water retention curves for each sample across regions\n",
    "\n",
    "x_interp = []\n",
    "y_interp = []\n",
    "\n",
    "x_all = []\n",
    "f_avg = []\n",
    "\n",
    "drain_pcs_cut = drain_pcs.copy()\n",
    "drain_sats_cut = drain_sats.copy()\n",
    "\n",
    "for s,sample in enumerate(drain_pcs_cut):\n",
    "    sample_x_data = []\n",
    "    sample_y_data = []\n",
    "    sample_x_min_vals = []\n",
    "    sample_x_max_vals = []\n",
    "    sample_interp_funcs = []\n",
    "    for r,region in enumerate(sample):\n",
    "        sample_x_data.append(region)\n",
    "        sample_y_data.append(drain_sats_cut[s][r])\n",
    "        sample_x_max_vals.append(max(region))\n",
    "        sample_x_min_vals.append(min(region))\n",
    "        sample_interp_funcs.append(interp1d(region, drain_sats_cut[s][r]))\n",
    "        \n",
    "    x_max = math.floor(min(sample_x_max_vals))\n",
    "    x_min = math.ceil(max(sample_x_min_vals))\n",
    "    \n",
    "    # define common carrier for calculation of average curve\n",
    "    sample_x_all   = np.geomspace(x_min, x_max, num=50)\n",
    "    \n",
    "    sample_f_int = []\n",
    "    for r,region in enumerate(sample):\n",
    "        # evaluation of fits on common carrier\n",
    "        sample_f_int.append(sample_interp_funcs[r](sample_x_all))\n",
    "        \n",
    "    # put all fits to one matrix for fast mean calculation\n",
    "    data_collection = np.vstack(sample_f_int)\n",
    "\n",
    "    # calculating mean value\n",
    "    sample_f_avg = np.average(data_collection, axis=0)\n",
    "\n",
    "    x_interp.append(sample_x_data)\n",
    "    y_interp.append(sample_y_data)\n",
    "    x_all.append(sample_x_all)\n",
    "    f_avg.append(sample_f_avg)\n"
   ]
  },
  {
   "cell_type": "code",
   "execution_count": 81,
   "id": "7d3a1d43",
   "metadata": {},
   "outputs": [
    {
     "data": {
      "text/plain": [
       "Text(0.5, 1.0, '')"
      ]
     },
     "execution_count": 81,
     "metadata": {},
     "output_type": "execute_result"
    },
    {
     "data": {
      "image/png": "[encoded data removed]",
      "text/plain": [
       "<Figure size 600x500 with 1 Axes>"
      ]
     },
     "metadata": {},
     "output_type": "display_data"
    }
   ],
   "source": [
    "fig, ax = plt.subplots()\n",
    "\n",
    "colors =['k','b','r']\n",
    "shapes = ['^','o', 's']\n",
    "\n",
    "for s,sample in enumerate(f_avg):\n",
    "    ax.plot(x_all[s],1-np.array(f_avg[s]),' ',color=colors[s], marker=shapes[s], markerfacecolor='none')\n",
    "\n",
    "\n",
    "for i,sample in enumerate(rm):\n",
    "    rk = rm[i]\n",
    "    sk = ln_sigma[i]/2\n",
    "    x = np.log(rcap/rk)/(sk*np.sqrt(2))\n",
    "    s = 0.5*(1+sp.special.erf(x))\n",
    "    ax.plot(pcap*1,s,color=line_colors[i], linewidth=4,zorder=200)\n",
    "\n",
    "ax.set_xlabel(\"Negative Capillary Pressure [Pa]\")\n",
    "ax.set_ylabel(\"Saturation (Water)\")\n",
    "ax.set_xscale('log')\n",
    "ax.set_xlim([10**7, 10**4])\n",
    "ax.invert_xaxis()\n",
    "plt.tick_params(axis='x', which='minor')\n",
    "plt.title('')\n"
   ]
  },
  {
   "cell_type": "code",
   "execution_count": 82,
   "id": "201a68df",
   "metadata": {},
   "outputs": [],
   "source": [
    "def average_curves(x_list, y_list, num_points=200):\n",
    "    \"\"\"\n",
    "    Average multiple x,y datasets with mismatched x-values.\n",
    "\n",
    "    Parameters\n",
    "    ----------\n",
    "    x_list : list of 1D arrays\n",
    "        List of x-data arrays (each curve).\n",
    "    y_list : list of 1D arrays\n",
    "        List of y-data arrays (same length as x_list).\n",
    "    num_points : int\n",
    "        Number of points in the common x-grid.\n",
    "\n",
    "    Returns\n",
    "    -------\n",
    "    x_common : 1D array\n",
    "        Common x-grid.\n",
    "    y_mean : 1D array\n",
    "        Mean of interpolated curves.\n",
    "    y_std : 1D array\n",
    "        Standard deviation of interpolated curves.\n",
    "    \"\"\"\n",
    "\n",
    "    # Determine global x-range across all curves\n",
    "    xmin = max(min(x) for x in x_list)  # restrict to overlap region\n",
    "    xmax = min(max(x) for x in x_list)\n",
    "\n",
    "    # Create common x-grid\n",
    "    x_common = np.linspace(xmin, xmax, num_points)\n",
    "\n",
    "    # Interpolate each curve\n",
    "    interpolated = []\n",
    "    for x, y in zip(x_list, y_list):\n",
    "        f = interp1d(x, y, kind=\"linear\", bounds_error=False, fill_value=np.nan)\n",
    "        interpolated.append(f(x_common))\n",
    "\n",
    "    interpolated = np.vstack(interpolated)\n",
    "\n",
    "    # Compute mean and std, ignoring NaNs\n",
    "    y_mean = np.nanmean(interpolated, axis=0)\n",
    "    y_std = np.nanstd(interpolated, axis=0)\n",
    "\n",
    "    return x_common, y_mean, y_std"
   ]
  },
  {
   "cell_type": "code",
   "execution_count": 83,
   "id": "4cd13456",
   "metadata": {},
   "outputs": [],
   "source": [
    "def average_curves_union(x_list, y_list, num_points=200):\n",
    "    \"\"\"\n",
    "    Average multiple x,y datasets with mismatched x-values.\n",
    "    Uses the full union of x-ranges.\n",
    "\n",
    "    Parameters\n",
    "    ----------\n",
    "    x_list : list of 1D arrays\n",
    "        List of x-data arrays (each curve).\n",
    "    y_list : list of 1D arrays\n",
    "        List of y-data arrays (same length as x_list).\n",
    "    num_points : int\n",
    "        Number of points in the common x-grid.\n",
    "\n",
    "    Returns\n",
    "    -------\n",
    "    x_common : 1D array\n",
    "        Common x-grid (union of ranges).\n",
    "    y_mean : 1D array\n",
    "        Mean of interpolated curves (ignores NaNs).\n",
    "    y_std : 1D array\n",
    "        Standard deviation of interpolated curves (ignores NaNs).\n",
    "    \"\"\"\n",
    "\n",
    "    # Full union range\n",
    "    xmin = min(min(x) for x in x_list)\n",
    "    xmax = max(max(x) for x in x_list)\n",
    "\n",
    "    # Common x-grid\n",
    "    x_common = np.linspace(xmin, xmax, num_points)\n",
    "\n",
    "    # Interpolate each curve\n",
    "    interpolated = []\n",
    "    for x, y in zip(x_list, y_list):\n",
    "        f = interp1d(x, y, kind=\"linear\", bounds_error=False, fill_value=np.nan)\n",
    "        interpolated.append(f(x_common))\n",
    "\n",
    "    interpolated = np.vstack(interpolated)\n",
    "\n",
    "    # Compute mean and std across curves (ignoring NaNs where some curves don’t exist)\n",
    "    y_mean = np.nanmean(interpolated, axis=0)\n",
    "    y_std = np.nanstd(interpolated, axis=0)\n",
    "\n",
    "    return x_common, y_mean, y_std"
   ]
  },
  {
   "cell_type": "code",
   "execution_count": null,
   "id": "f1a23fd1",
   "metadata": {},
   "outputs": [
    {
     "data": {
      "text/plain": [
       "Text(0.5, 1.0, '')"
      ]
     },
     "execution_count": 84,
     "metadata": {},
     "output_type": "execute_result"
    },
    {
     "data": {
      "image/png": "[encoded data removed]",
      "text/plain": [
       "<Figure size 600x500 with 1 Axes>"
      ]
     },
     "metadata": {},
     "output_type": "display_data"
    }
   ],
   "source": [
    "fig, ax = plt.subplots()\n",
    "\n",
    "colors =['k','b','r']\n",
    "shapes = ['^','o', 's']\n",
    "\n",
    "secondary_colors = ['gray','g','m']\n",
    "\n",
    "for s,sample in enumerate(drain_pcs):\n",
    "    pc_data,sat_data,_ = average_curves_union(sample,drain_sats[s])\n",
    "    ax.plot(pc_data,1-sat_data,' ',color=colors[s], marker=shapes[s], markerfacecolor='none')\n",
    "\n",
    "for s,sample in enumerate(drain_pcs):\n",
    "    pc_data,sat_data,_ = average_curves(sample,drain_sats[s])\n",
    "    ax.plot(pc_data,1-sat_data,' ',color=secondary_colors[s], marker=shapes[s], markerfacecolor='none')\n",
    "\n",
    "\n",
    "\n",
    "for i,sample in enumerate(rm):\n",
    "    rk = rm[i]\n",
    "    sk = ln_sigma[i]/2\n",
    "    x = np.log(rcap/rk)/(sk*np.sqrt(2))\n",
    "    s = 0.5*(1+sp.special.erf(x))\n",
    "    ax.plot(pcap*1,s,color=line_colors[i], linewidth=4,zorder=200)\n",
    "\n",
    "ax.set_xlabel(\"Negative Capillary Pressure [Pa]\")\n",
    "ax.set_ylabel(\"Saturation (Water)\")\n",
    "ax.set_xscale('log')\n",
    "ax.set_xlim([10**7, 10**4])\n",
    "ax.invert_xaxis()\n",
    "plt.tick_params(axis='x', which='minor')\n",
    "plt.title('')\n"
   ]
  },
  {
   "cell_type": "markdown",
   "id": "58cdb292",
   "metadata": {},
   "source": [
    "# Trying to implement MixedInvasionPercolation"
   ]
  },
  {
   "cell_type": "code",
   "execution_count": 119,
   "id": "7247549e",
   "metadata": {},
   "outputs": [],
   "source": [
    "#Create OpenPNM project objects\n",
    "pn_solid = []\n",
    "pn_void = []\n",
    "\n",
    "for x in snow_solid_networks:\n",
    "    pn_temp = []\n",
    "    for y in x:\n",
    "        pn_temp.append(op.io.network_from_porespy(y))\n",
    "    pn_solid.append(pn_temp)\n",
    "    \n",
    "for x in snow_void_networks:\n",
    "    pn_temp = []\n",
    "    for y in x:\n",
    "        pn_temp.append(op.io.network_from_porespy(y))\n",
    "    pn_void.append(pn_temp)\n",
    "    \n",
    "\n",
    "pn_total = [pn_solid, pn_void]\n"
   ]
  },
  {
   "cell_type": "code",
   "execution_count": 129,
   "id": "9b5051b7",
   "metadata": {},
   "outputs": [
    {
     "name": "stdout",
     "output_type": "stream",
     "text": [
      "[1.2000e-07 1.0933e-07 6.9971e-08 ... 8.4853e-08 1.0392e-07 6.0000e-08]\n"
     ]
    }
   ],
   "source": [
    "print(pn_total[0][0][0]['pore.extended_diameter'])"
   ]
  },
  {
   "cell_type": "code",
   "execution_count": 140,
   "id": "c4853973",
   "metadata": {},
   "outputs": [],
   "source": [
    "for s,sample in enumerate(pn_total[1]):\n",
    "    for r,region in enumerate(sample):\n",
    "\n",
    "        h = op.utils.check_network_health(region)\n",
    "        op.topotools.trim(network=region, pores=h['disconnected_pores'])\n",
    "        region.regenerate_models()\n",
    "\n",
    "\n",
    "        region['pore.diameter'] = region['pore.extended_diameter']\n",
    "        region['throat.diameter'] = region['throat.inscribed_diameter']\n",
    "        region['pore.volume'] = op.models.geometry.pore_volume.sphere(region,pore_diameter='pore.equivalent_diameter')\n",
    "\n",
    "        conduit_lengths = op.models.geometry.conduit_lengths.cones_and_cylinders(region)\n",
    "        region['throat.length'] = conduit_lengths[:,1]\n",
    "        region['throat.volume'] = op.models.geometry.throat_volume.cylinder(region)\n",
    "\n",
    "        # region.add_model(propname='throat.coords',model=op.models.geometry.throat_centroid.pore_coords)\n",
    "       \n",
    "        # region.add_model(propname='throat.length',model=op.models.geometry.throat_length.hybrid_cones_and_cylinders)\n",
    "        # region.add_model(propname='throat.volume',model=op.models.geometry.throat_volume.cylinder)\n",
    "\n",
    "        region.regenerate_models()"
   ]
  },
  {
   "cell_type": "code",
   "execution_count": 141,
   "id": "ce70143c",
   "metadata": {},
   "outputs": [
    {
     "name": "stdout",
     "output_type": "stream",
     "text": [
      "[5.4736e-24 1.4703e-30 2.0358e-30 ... 9.0478e-31 1.0179e-30 9.0478e-31]\n"
     ]
    }
   ],
   "source": [
    "region = pn_total[1][0][0]\n",
    "print(region['throat.volume'])"
   ]
  },
  {
   "cell_type": "code",
   "execution_count": 143,
   "id": "0fb7e69f",
   "metadata": {},
   "outputs": [
    {
     "data": {
      "text/html": [
       "<pre style=\"white-space:pre;overflow-x:auto;line-height:normal;font-family:Menlo,'DejaVu Sans Mono',consolas,'Courier New',monospace\"><span style=\"color: #7fbfbf; text-decoration-color: #7fbfbf\">[19:37:46] </span><span style=\"color: #808000; text-decoration-color: #808000\">WARNING </span> phase_0_0 is already taken, using phase_0_04 instead                            <a href=\"file:///Users/karaferner/opt/anaconda3/envs/openpnm35/lib/python3.10/site-packages/openpnm/utils/_project.py\" target=\"_blank\"><span style=\"color: #7f7f7f; text-decoration-color: #7f7f7f\">_project.py</span></a><span style=\"color: #7f7f7f; text-decoration-color: #7f7f7f\">:</span><a href=\"file:///Users/karaferner/opt/anaconda3/envs/openpnm35/lib/python3.10/site-packages/openpnm/utils/_project.py#154\" target=\"_blank\"><span style=\"color: #7f7f7f; text-decoration-color: #7f7f7f\">154</span></a>\n",
       "</pre>\n"
      ],
      "text/plain": [
       "\u001b[2;36m[19:37:46]\u001b[0m\u001b[2;36m \u001b[0m\u001b[33mWARNING \u001b[0m phase_0_0 is already taken, using phase_0_04 instead                            \u001b]8;id=512093;file:///Users/karaferner/opt/anaconda3/envs/openpnm35/lib/python3.10/site-packages/openpnm/utils/_project.py\u001b\\\u001b[2m_project.py\u001b[0m\u001b]8;;\u001b\\\u001b[2m:\u001b[0m\u001b]8;id=364464;file:///Users/karaferner/opt/anaconda3/envs/openpnm35/lib/python3.10/site-packages/openpnm/utils/_project.py#154\u001b\\\u001b[2m154\u001b[0m\u001b]8;;\u001b\\\n"
      ]
     },
     "metadata": {},
     "output_type": "display_data"
    },
    {
     "data": {
      "text/html": [
       "<pre style=\"white-space:pre;overflow-x:auto;line-height:normal;font-family:Menlo,'DejaVu Sans Mono',consolas,'Courier New',monospace\"><span style=\"color: #7fbfbf; text-decoration-color: #7fbfbf\">           </span><span style=\"color: #808000; text-decoration-color: #808000\">WARNING </span> phase_0_1 is already taken, using phase_0_03 instead                            <a href=\"file:///Users/karaferner/opt/anaconda3/envs/openpnm35/lib/python3.10/site-packages/openpnm/utils/_project.py\" target=\"_blank\"><span style=\"color: #7f7f7f; text-decoration-color: #7f7f7f\">_project.py</span></a><span style=\"color: #7f7f7f; text-decoration-color: #7f7f7f\">:</span><a href=\"file:///Users/karaferner/opt/anaconda3/envs/openpnm35/lib/python3.10/site-packages/openpnm/utils/_project.py#154\" target=\"_blank\"><span style=\"color: #7f7f7f; text-decoration-color: #7f7f7f\">154</span></a>\n",
       "</pre>\n"
      ],
      "text/plain": [
       "\u001b[2;36m          \u001b[0m\u001b[2;36m \u001b[0m\u001b[33mWARNING \u001b[0m phase_0_1 is already taken, using phase_0_03 instead                            \u001b]8;id=951913;file:///Users/karaferner/opt/anaconda3/envs/openpnm35/lib/python3.10/site-packages/openpnm/utils/_project.py\u001b\\\u001b[2m_project.py\u001b[0m\u001b]8;;\u001b\\\u001b[2m:\u001b[0m\u001b]8;id=880662;file:///Users/karaferner/opt/anaconda3/envs/openpnm35/lib/python3.10/site-packages/openpnm/utils/_project.py#154\u001b\\\u001b[2m154\u001b[0m\u001b]8;;\u001b\\\n"
      ]
     },
     "metadata": {},
     "output_type": "display_data"
    },
    {
     "data": {
      "text/html": [
       "<pre style=\"white-space:pre;overflow-x:auto;line-height:normal;font-family:Menlo,'DejaVu Sans Mono',consolas,'Courier New',monospace\"><span style=\"color: #7fbfbf; text-decoration-color: #7fbfbf\">           </span><span style=\"color: #808000; text-decoration-color: #808000\">WARNING </span> phase_0_2 is already taken, using phase_0_04 instead                            <a href=\"file:///Users/karaferner/opt/anaconda3/envs/openpnm35/lib/python3.10/site-packages/openpnm/utils/_project.py\" target=\"_blank\"><span style=\"color: #7f7f7f; text-decoration-color: #7f7f7f\">_project.py</span></a><span style=\"color: #7f7f7f; text-decoration-color: #7f7f7f\">:</span><a href=\"file:///Users/karaferner/opt/anaconda3/envs/openpnm35/lib/python3.10/site-packages/openpnm/utils/_project.py#154\" target=\"_blank\"><span style=\"color: #7f7f7f; text-decoration-color: #7f7f7f\">154</span></a>\n",
       "</pre>\n"
      ],
      "text/plain": [
       "\u001b[2;36m          \u001b[0m\u001b[2;36m \u001b[0m\u001b[33mWARNING \u001b[0m phase_0_2 is already taken, using phase_0_04 instead                            \u001b]8;id=57310;file:///Users/karaferner/opt/anaconda3/envs/openpnm35/lib/python3.10/site-packages/openpnm/utils/_project.py\u001b\\\u001b[2m_project.py\u001b[0m\u001b]8;;\u001b\\\u001b[2m:\u001b[0m\u001b]8;id=109871;file:///Users/karaferner/opt/anaconda3/envs/openpnm35/lib/python3.10/site-packages/openpnm/utils/_project.py#154\u001b\\\u001b[2m154\u001b[0m\u001b]8;;\u001b\\\n"
      ]
     },
     "metadata": {},
     "output_type": "display_data"
    },
    {
     "data": {
      "text/html": [
       "<pre style=\"white-space:pre;overflow-x:auto;line-height:normal;font-family:Menlo,'DejaVu Sans Mono',consolas,'Courier New',monospace\"><span style=\"color: #7fbfbf; text-decoration-color: #7fbfbf\">           </span><span style=\"color: #808000; text-decoration-color: #808000\">WARNING </span> phase_0_3 is already taken, using phase_0_05 instead                            <a href=\"file:///Users/karaferner/opt/anaconda3/envs/openpnm35/lib/python3.10/site-packages/openpnm/utils/_project.py\" target=\"_blank\"><span style=\"color: #7f7f7f; text-decoration-color: #7f7f7f\">_project.py</span></a><span style=\"color: #7f7f7f; text-decoration-color: #7f7f7f\">:</span><a href=\"file:///Users/karaferner/opt/anaconda3/envs/openpnm35/lib/python3.10/site-packages/openpnm/utils/_project.py#154\" target=\"_blank\"><span style=\"color: #7f7f7f; text-decoration-color: #7f7f7f\">154</span></a>\n",
       "</pre>\n"
      ],
      "text/plain": [
       "\u001b[2;36m          \u001b[0m\u001b[2;36m \u001b[0m\u001b[33mWARNING \u001b[0m phase_0_3 is already taken, using phase_0_05 instead                            \u001b]8;id=559392;file:///Users/karaferner/opt/anaconda3/envs/openpnm35/lib/python3.10/site-packages/openpnm/utils/_project.py\u001b\\\u001b[2m_project.py\u001b[0m\u001b]8;;\u001b\\\u001b[2m:\u001b[0m\u001b]8;id=635192;file:///Users/karaferner/opt/anaconda3/envs/openpnm35/lib/python3.10/site-packages/openpnm/utils/_project.py#154\u001b\\\u001b[2m154\u001b[0m\u001b]8;;\u001b\\\n"
      ]
     },
     "metadata": {},
     "output_type": "display_data"
    },
    {
     "data": {
      "text/html": [
       "<pre style=\"white-space:pre;overflow-x:auto;line-height:normal;font-family:Menlo,'DejaVu Sans Mono',consolas,'Courier New',monospace\"><span style=\"color: #7fbfbf; text-decoration-color: #7fbfbf\">           </span><span style=\"color: #808000; text-decoration-color: #808000\">WARNING </span> phase_0_4 is already taken, using phase_0_06 instead                            <a href=\"file:///Users/karaferner/opt/anaconda3/envs/openpnm35/lib/python3.10/site-packages/openpnm/utils/_project.py\" target=\"_blank\"><span style=\"color: #7f7f7f; text-decoration-color: #7f7f7f\">_project.py</span></a><span style=\"color: #7f7f7f; text-decoration-color: #7f7f7f\">:</span><a href=\"file:///Users/karaferner/opt/anaconda3/envs/openpnm35/lib/python3.10/site-packages/openpnm/utils/_project.py#154\" target=\"_blank\"><span style=\"color: #7f7f7f; text-decoration-color: #7f7f7f\">154</span></a>\n",
       "</pre>\n"
      ],
      "text/plain": [
       "\u001b[2;36m          \u001b[0m\u001b[2;36m \u001b[0m\u001b[33mWARNING \u001b[0m phase_0_4 is already taken, using phase_0_06 instead                            \u001b]8;id=304277;file:///Users/karaferner/opt/anaconda3/envs/openpnm35/lib/python3.10/site-packages/openpnm/utils/_project.py\u001b\\\u001b[2m_project.py\u001b[0m\u001b]8;;\u001b\\\u001b[2m:\u001b[0m\u001b]8;id=82863;file:///Users/karaferner/opt/anaconda3/envs/openpnm35/lib/python3.10/site-packages/openpnm/utils/_project.py#154\u001b\\\u001b[2m154\u001b[0m\u001b]8;;\u001b\\\n"
      ]
     },
     "metadata": {},
     "output_type": "display_data"
    },
    {
     "data": {
      "text/html": [
       "<pre style=\"white-space:pre;overflow-x:auto;line-height:normal;font-family:Menlo,'DejaVu Sans Mono',consolas,'Courier New',monospace\"><span style=\"color: #7fbfbf; text-decoration-color: #7fbfbf\">           </span><span style=\"color: #808000; text-decoration-color: #808000\">WARNING </span> phase_0_5 is already taken, using phase_0_07 instead                            <a href=\"file:///Users/karaferner/opt/anaconda3/envs/openpnm35/lib/python3.10/site-packages/openpnm/utils/_project.py\" target=\"_blank\"><span style=\"color: #7f7f7f; text-decoration-color: #7f7f7f\">_project.py</span></a><span style=\"color: #7f7f7f; text-decoration-color: #7f7f7f\">:</span><a href=\"file:///Users/karaferner/opt/anaconda3/envs/openpnm35/lib/python3.10/site-packages/openpnm/utils/_project.py#154\" target=\"_blank\"><span style=\"color: #7f7f7f; text-decoration-color: #7f7f7f\">154</span></a>\n",
       "</pre>\n"
      ],
      "text/plain": [
       "\u001b[2;36m          \u001b[0m\u001b[2;36m \u001b[0m\u001b[33mWARNING \u001b[0m phase_0_5 is already taken, using phase_0_07 instead                            \u001b]8;id=941619;file:///Users/karaferner/opt/anaconda3/envs/openpnm35/lib/python3.10/site-packages/openpnm/utils/_project.py\u001b\\\u001b[2m_project.py\u001b[0m\u001b]8;;\u001b\\\u001b[2m:\u001b[0m\u001b]8;id=373038;file:///Users/karaferner/opt/anaconda3/envs/openpnm35/lib/python3.10/site-packages/openpnm/utils/_project.py#154\u001b\\\u001b[2m154\u001b[0m\u001b]8;;\u001b\\\n"
      ]
     },
     "metadata": {},
     "output_type": "display_data"
    },
    {
     "data": {
      "text/html": [
       "<pre style=\"white-space:pre;overflow-x:auto;line-height:normal;font-family:Menlo,'DejaVu Sans Mono',consolas,'Courier New',monospace\"><span style=\"color: #7fbfbf; text-decoration-color: #7fbfbf\">           </span><span style=\"color: #808000; text-decoration-color: #808000\">WARNING </span> phase_1_0 is already taken, using phase_1_02 instead                            <a href=\"file:///Users/karaferner/opt/anaconda3/envs/openpnm35/lib/python3.10/site-packages/openpnm/utils/_project.py\" target=\"_blank\"><span style=\"color: #7f7f7f; text-decoration-color: #7f7f7f\">_project.py</span></a><span style=\"color: #7f7f7f; text-decoration-color: #7f7f7f\">:</span><a href=\"file:///Users/karaferner/opt/anaconda3/envs/openpnm35/lib/python3.10/site-packages/openpnm/utils/_project.py#154\" target=\"_blank\"><span style=\"color: #7f7f7f; text-decoration-color: #7f7f7f\">154</span></a>\n",
       "</pre>\n"
      ],
      "text/plain": [
       "\u001b[2;36m          \u001b[0m\u001b[2;36m \u001b[0m\u001b[33mWARNING \u001b[0m phase_1_0 is already taken, using phase_1_02 instead                            \u001b]8;id=683047;file:///Users/karaferner/opt/anaconda3/envs/openpnm35/lib/python3.10/site-packages/openpnm/utils/_project.py\u001b\\\u001b[2m_project.py\u001b[0m\u001b]8;;\u001b\\\u001b[2m:\u001b[0m\u001b]8;id=416630;file:///Users/karaferner/opt/anaconda3/envs/openpnm35/lib/python3.10/site-packages/openpnm/utils/_project.py#154\u001b\\\u001b[2m154\u001b[0m\u001b]8;;\u001b\\\n"
      ]
     },
     "metadata": {},
     "output_type": "display_data"
    },
    {
     "data": {
      "text/html": [
       "<pre style=\"white-space:pre;overflow-x:auto;line-height:normal;font-family:Menlo,'DejaVu Sans Mono',consolas,'Courier New',monospace\"><span style=\"color: #7fbfbf; text-decoration-color: #7fbfbf\">           </span><span style=\"color: #808000; text-decoration-color: #808000\">WARNING </span> phase_1_1 is already taken, using phase_1_03 instead                            <a href=\"file:///Users/karaferner/opt/anaconda3/envs/openpnm35/lib/python3.10/site-packages/openpnm/utils/_project.py\" target=\"_blank\"><span style=\"color: #7f7f7f; text-decoration-color: #7f7f7f\">_project.py</span></a><span style=\"color: #7f7f7f; text-decoration-color: #7f7f7f\">:</span><a href=\"file:///Users/karaferner/opt/anaconda3/envs/openpnm35/lib/python3.10/site-packages/openpnm/utils/_project.py#154\" target=\"_blank\"><span style=\"color: #7f7f7f; text-decoration-color: #7f7f7f\">154</span></a>\n",
       "</pre>\n"
      ],
      "text/plain": [
       "\u001b[2;36m          \u001b[0m\u001b[2;36m \u001b[0m\u001b[33mWARNING \u001b[0m phase_1_1 is already taken, using phase_1_03 instead                            \u001b]8;id=139603;file:///Users/karaferner/opt/anaconda3/envs/openpnm35/lib/python3.10/site-packages/openpnm/utils/_project.py\u001b\\\u001b[2m_project.py\u001b[0m\u001b]8;;\u001b\\\u001b[2m:\u001b[0m\u001b]8;id=926934;file:///Users/karaferner/opt/anaconda3/envs/openpnm35/lib/python3.10/site-packages/openpnm/utils/_project.py#154\u001b\\\u001b[2m154\u001b[0m\u001b]8;;\u001b\\\n"
      ]
     },
     "metadata": {},
     "output_type": "display_data"
    },
    {
     "data": {
      "text/html": [
       "<pre style=\"white-space:pre;overflow-x:auto;line-height:normal;font-family:Menlo,'DejaVu Sans Mono',consolas,'Courier New',monospace\"><span style=\"color: #7fbfbf; text-decoration-color: #7fbfbf\">           </span><span style=\"color: #808000; text-decoration-color: #808000\">WARNING </span> phase_1_2 is already taken, using phase_1_04 instead                            <a href=\"file:///Users/karaferner/opt/anaconda3/envs/openpnm35/lib/python3.10/site-packages/openpnm/utils/_project.py\" target=\"_blank\"><span style=\"color: #7f7f7f; text-decoration-color: #7f7f7f\">_project.py</span></a><span style=\"color: #7f7f7f; text-decoration-color: #7f7f7f\">:</span><a href=\"file:///Users/karaferner/opt/anaconda3/envs/openpnm35/lib/python3.10/site-packages/openpnm/utils/_project.py#154\" target=\"_blank\"><span style=\"color: #7f7f7f; text-decoration-color: #7f7f7f\">154</span></a>\n",
       "</pre>\n"
      ],
      "text/plain": [
       "\u001b[2;36m          \u001b[0m\u001b[2;36m \u001b[0m\u001b[33mWARNING \u001b[0m phase_1_2 is already taken, using phase_1_04 instead                            \u001b]8;id=557820;file:///Users/karaferner/opt/anaconda3/envs/openpnm35/lib/python3.10/site-packages/openpnm/utils/_project.py\u001b\\\u001b[2m_project.py\u001b[0m\u001b]8;;\u001b\\\u001b[2m:\u001b[0m\u001b]8;id=937671;file:///Users/karaferner/opt/anaconda3/envs/openpnm35/lib/python3.10/site-packages/openpnm/utils/_project.py#154\u001b\\\u001b[2m154\u001b[0m\u001b]8;;\u001b\\\n"
      ]
     },
     "metadata": {},
     "output_type": "display_data"
    },
    {
     "data": {
      "text/html": [
       "<pre style=\"white-space:pre;overflow-x:auto;line-height:normal;font-family:Menlo,'DejaVu Sans Mono',consolas,'Courier New',monospace\"><span style=\"color: #7fbfbf; text-decoration-color: #7fbfbf\">           </span><span style=\"color: #808000; text-decoration-color: #808000\">WARNING </span> phase_1_3 is already taken, using phase_1_05 instead                            <a href=\"file:///Users/karaferner/opt/anaconda3/envs/openpnm35/lib/python3.10/site-packages/openpnm/utils/_project.py\" target=\"_blank\"><span style=\"color: #7f7f7f; text-decoration-color: #7f7f7f\">_project.py</span></a><span style=\"color: #7f7f7f; text-decoration-color: #7f7f7f\">:</span><a href=\"file:///Users/karaferner/opt/anaconda3/envs/openpnm35/lib/python3.10/site-packages/openpnm/utils/_project.py#154\" target=\"_blank\"><span style=\"color: #7f7f7f; text-decoration-color: #7f7f7f\">154</span></a>\n",
       "</pre>\n"
      ],
      "text/plain": [
       "\u001b[2;36m          \u001b[0m\u001b[2;36m \u001b[0m\u001b[33mWARNING \u001b[0m phase_1_3 is already taken, using phase_1_05 instead                            \u001b]8;id=492081;file:///Users/karaferner/opt/anaconda3/envs/openpnm35/lib/python3.10/site-packages/openpnm/utils/_project.py\u001b\\\u001b[2m_project.py\u001b[0m\u001b]8;;\u001b\\\u001b[2m:\u001b[0m\u001b]8;id=755174;file:///Users/karaferner/opt/anaconda3/envs/openpnm35/lib/python3.10/site-packages/openpnm/utils/_project.py#154\u001b\\\u001b[2m154\u001b[0m\u001b]8;;\u001b\\\n"
      ]
     },
     "metadata": {},
     "output_type": "display_data"
    },
    {
     "data": {
      "text/html": [
       "<pre style=\"white-space:pre;overflow-x:auto;line-height:normal;font-family:Menlo,'DejaVu Sans Mono',consolas,'Courier New',monospace\"><span style=\"color: #7fbfbf; text-decoration-color: #7fbfbf\">           </span><span style=\"color: #808000; text-decoration-color: #808000\">WARNING </span> phase_1_4 is already taken, using phase_1_06 instead                            <a href=\"file:///Users/karaferner/opt/anaconda3/envs/openpnm35/lib/python3.10/site-packages/openpnm/utils/_project.py\" target=\"_blank\"><span style=\"color: #7f7f7f; text-decoration-color: #7f7f7f\">_project.py</span></a><span style=\"color: #7f7f7f; text-decoration-color: #7f7f7f\">:</span><a href=\"file:///Users/karaferner/opt/anaconda3/envs/openpnm35/lib/python3.10/site-packages/openpnm/utils/_project.py#154\" target=\"_blank\"><span style=\"color: #7f7f7f; text-decoration-color: #7f7f7f\">154</span></a>\n",
       "</pre>\n"
      ],
      "text/plain": [
       "\u001b[2;36m          \u001b[0m\u001b[2;36m \u001b[0m\u001b[33mWARNING \u001b[0m phase_1_4 is already taken, using phase_1_06 instead                            \u001b]8;id=388719;file:///Users/karaferner/opt/anaconda3/envs/openpnm35/lib/python3.10/site-packages/openpnm/utils/_project.py\u001b\\\u001b[2m_project.py\u001b[0m\u001b]8;;\u001b\\\u001b[2m:\u001b[0m\u001b]8;id=654602;file:///Users/karaferner/opt/anaconda3/envs/openpnm35/lib/python3.10/site-packages/openpnm/utils/_project.py#154\u001b\\\u001b[2m154\u001b[0m\u001b]8;;\u001b\\\n"
      ]
     },
     "metadata": {},
     "output_type": "display_data"
    },
    {
     "data": {
      "text/html": [
       "<pre style=\"white-space:pre;overflow-x:auto;line-height:normal;font-family:Menlo,'DejaVu Sans Mono',consolas,'Courier New',monospace\"><span style=\"color: #7fbfbf; text-decoration-color: #7fbfbf\">           </span><span style=\"color: #808000; text-decoration-color: #808000\">WARNING </span> phase_1_5 is already taken, using phase_1_07 instead                            <a href=\"file:///Users/karaferner/opt/anaconda3/envs/openpnm35/lib/python3.10/site-packages/openpnm/utils/_project.py\" target=\"_blank\"><span style=\"color: #7f7f7f; text-decoration-color: #7f7f7f\">_project.py</span></a><span style=\"color: #7f7f7f; text-decoration-color: #7f7f7f\">:</span><a href=\"file:///Users/karaferner/opt/anaconda3/envs/openpnm35/lib/python3.10/site-packages/openpnm/utils/_project.py#154\" target=\"_blank\"><span style=\"color: #7f7f7f; text-decoration-color: #7f7f7f\">154</span></a>\n",
       "</pre>\n"
      ],
      "text/plain": [
       "\u001b[2;36m          \u001b[0m\u001b[2;36m \u001b[0m\u001b[33mWARNING \u001b[0m phase_1_5 is already taken, using phase_1_07 instead                            \u001b]8;id=323203;file:///Users/karaferner/opt/anaconda3/envs/openpnm35/lib/python3.10/site-packages/openpnm/utils/_project.py\u001b\\\u001b[2m_project.py\u001b[0m\u001b]8;;\u001b\\\u001b[2m:\u001b[0m\u001b]8;id=470954;file:///Users/karaferner/opt/anaconda3/envs/openpnm35/lib/python3.10/site-packages/openpnm/utils/_project.py#154\u001b\\\u001b[2m154\u001b[0m\u001b]8;;\u001b\\\n"
      ]
     },
     "metadata": {},
     "output_type": "display_data"
    },
    {
     "data": {
      "text/html": [
       "<pre style=\"white-space:pre;overflow-x:auto;line-height:normal;font-family:Menlo,'DejaVu Sans Mono',consolas,'Courier New',monospace\"><span style=\"color: #7fbfbf; text-decoration-color: #7fbfbf\">           </span><span style=\"color: #808000; text-decoration-color: #808000\">WARNING </span> phase_2_0 is already taken, using phase_2_02 instead                            <a href=\"file:///Users/karaferner/opt/anaconda3/envs/openpnm35/lib/python3.10/site-packages/openpnm/utils/_project.py\" target=\"_blank\"><span style=\"color: #7f7f7f; text-decoration-color: #7f7f7f\">_project.py</span></a><span style=\"color: #7f7f7f; text-decoration-color: #7f7f7f\">:</span><a href=\"file:///Users/karaferner/opt/anaconda3/envs/openpnm35/lib/python3.10/site-packages/openpnm/utils/_project.py#154\" target=\"_blank\"><span style=\"color: #7f7f7f; text-decoration-color: #7f7f7f\">154</span></a>\n",
       "</pre>\n"
      ],
      "text/plain": [
       "\u001b[2;36m          \u001b[0m\u001b[2;36m \u001b[0m\u001b[33mWARNING \u001b[0m phase_2_0 is already taken, using phase_2_02 instead                            \u001b]8;id=633766;file:///Users/karaferner/opt/anaconda3/envs/openpnm35/lib/python3.10/site-packages/openpnm/utils/_project.py\u001b\\\u001b[2m_project.py\u001b[0m\u001b]8;;\u001b\\\u001b[2m:\u001b[0m\u001b]8;id=674629;file:///Users/karaferner/opt/anaconda3/envs/openpnm35/lib/python3.10/site-packages/openpnm/utils/_project.py#154\u001b\\\u001b[2m154\u001b[0m\u001b]8;;\u001b\\\n"
      ]
     },
     "metadata": {},
     "output_type": "display_data"
    },
    {
     "data": {
      "text/html": [
       "<pre style=\"white-space:pre;overflow-x:auto;line-height:normal;font-family:Menlo,'DejaVu Sans Mono',consolas,'Courier New',monospace\"><span style=\"color: #7fbfbf; text-decoration-color: #7fbfbf\">           </span><span style=\"color: #808000; text-decoration-color: #808000\">WARNING </span> phase_2_1 is already taken, using phase_2_03 instead                            <a href=\"file:///Users/karaferner/opt/anaconda3/envs/openpnm35/lib/python3.10/site-packages/openpnm/utils/_project.py\" target=\"_blank\"><span style=\"color: #7f7f7f; text-decoration-color: #7f7f7f\">_project.py</span></a><span style=\"color: #7f7f7f; text-decoration-color: #7f7f7f\">:</span><a href=\"file:///Users/karaferner/opt/anaconda3/envs/openpnm35/lib/python3.10/site-packages/openpnm/utils/_project.py#154\" target=\"_blank\"><span style=\"color: #7f7f7f; text-decoration-color: #7f7f7f\">154</span></a>\n",
       "</pre>\n"
      ],
      "text/plain": [
       "\u001b[2;36m          \u001b[0m\u001b[2;36m \u001b[0m\u001b[33mWARNING \u001b[0m phase_2_1 is already taken, using phase_2_03 instead                            \u001b]8;id=225242;file:///Users/karaferner/opt/anaconda3/envs/openpnm35/lib/python3.10/site-packages/openpnm/utils/_project.py\u001b\\\u001b[2m_project.py\u001b[0m\u001b]8;;\u001b\\\u001b[2m:\u001b[0m\u001b]8;id=546146;file:///Users/karaferner/opt/anaconda3/envs/openpnm35/lib/python3.10/site-packages/openpnm/utils/_project.py#154\u001b\\\u001b[2m154\u001b[0m\u001b]8;;\u001b\\\n"
      ]
     },
     "metadata": {},
     "output_type": "display_data"
    },
    {
     "data": {
      "text/html": [
       "<pre style=\"white-space:pre;overflow-x:auto;line-height:normal;font-family:Menlo,'DejaVu Sans Mono',consolas,'Courier New',monospace\"><span style=\"color: #7fbfbf; text-decoration-color: #7fbfbf\">           </span><span style=\"color: #808000; text-decoration-color: #808000\">WARNING </span> phase_2_2 is already taken, using phase_2_04 instead                            <a href=\"file:///Users/karaferner/opt/anaconda3/envs/openpnm35/lib/python3.10/site-packages/openpnm/utils/_project.py\" target=\"_blank\"><span style=\"color: #7f7f7f; text-decoration-color: #7f7f7f\">_project.py</span></a><span style=\"color: #7f7f7f; text-decoration-color: #7f7f7f\">:</span><a href=\"file:///Users/karaferner/opt/anaconda3/envs/openpnm35/lib/python3.10/site-packages/openpnm/utils/_project.py#154\" target=\"_blank\"><span style=\"color: #7f7f7f; text-decoration-color: #7f7f7f\">154</span></a>\n",
       "</pre>\n"
      ],
      "text/plain": [
       "\u001b[2;36m          \u001b[0m\u001b[2;36m \u001b[0m\u001b[33mWARNING \u001b[0m phase_2_2 is already taken, using phase_2_04 instead                            \u001b]8;id=761953;file:///Users/karaferner/opt/anaconda3/envs/openpnm35/lib/python3.10/site-packages/openpnm/utils/_project.py\u001b\\\u001b[2m_project.py\u001b[0m\u001b]8;;\u001b\\\u001b[2m:\u001b[0m\u001b]8;id=250769;file:///Users/karaferner/opt/anaconda3/envs/openpnm35/lib/python3.10/site-packages/openpnm/utils/_project.py#154\u001b\\\u001b[2m154\u001b[0m\u001b]8;;\u001b\\\n"
      ]
     },
     "metadata": {},
     "output_type": "display_data"
    },
    {
     "data": {
      "text/html": [
       "<pre style=\"white-space:pre;overflow-x:auto;line-height:normal;font-family:Menlo,'DejaVu Sans Mono',consolas,'Courier New',monospace\"><span style=\"color: #7fbfbf; text-decoration-color: #7fbfbf\">           </span><span style=\"color: #808000; text-decoration-color: #808000\">WARNING </span> phase_2_3 is already taken, using phase_2_05 instead                            <a href=\"file:///Users/karaferner/opt/anaconda3/envs/openpnm35/lib/python3.10/site-packages/openpnm/utils/_project.py\" target=\"_blank\"><span style=\"color: #7f7f7f; text-decoration-color: #7f7f7f\">_project.py</span></a><span style=\"color: #7f7f7f; text-decoration-color: #7f7f7f\">:</span><a href=\"file:///Users/karaferner/opt/anaconda3/envs/openpnm35/lib/python3.10/site-packages/openpnm/utils/_project.py#154\" target=\"_blank\"><span style=\"color: #7f7f7f; text-decoration-color: #7f7f7f\">154</span></a>\n",
       "</pre>\n"
      ],
      "text/plain": [
       "\u001b[2;36m          \u001b[0m\u001b[2;36m \u001b[0m\u001b[33mWARNING \u001b[0m phase_2_3 is already taken, using phase_2_05 instead                            \u001b]8;id=100314;file:///Users/karaferner/opt/anaconda3/envs/openpnm35/lib/python3.10/site-packages/openpnm/utils/_project.py\u001b\\\u001b[2m_project.py\u001b[0m\u001b]8;;\u001b\\\u001b[2m:\u001b[0m\u001b]8;id=624012;file:///Users/karaferner/opt/anaconda3/envs/openpnm35/lib/python3.10/site-packages/openpnm/utils/_project.py#154\u001b\\\u001b[2m154\u001b[0m\u001b]8;;\u001b\\\n"
      ]
     },
     "metadata": {},
     "output_type": "display_data"
    },
    {
     "data": {
      "text/html": [
       "<pre style=\"white-space:pre;overflow-x:auto;line-height:normal;font-family:Menlo,'DejaVu Sans Mono',consolas,'Courier New',monospace\"><span style=\"color: #7fbfbf; text-decoration-color: #7fbfbf\">           </span><span style=\"color: #808000; text-decoration-color: #808000\">WARNING </span> phase_2_4 is already taken, using phase_2_06 instead                            <a href=\"file:///Users/karaferner/opt/anaconda3/envs/openpnm35/lib/python3.10/site-packages/openpnm/utils/_project.py\" target=\"_blank\"><span style=\"color: #7f7f7f; text-decoration-color: #7f7f7f\">_project.py</span></a><span style=\"color: #7f7f7f; text-decoration-color: #7f7f7f\">:</span><a href=\"file:///Users/karaferner/opt/anaconda3/envs/openpnm35/lib/python3.10/site-packages/openpnm/utils/_project.py#154\" target=\"_blank\"><span style=\"color: #7f7f7f; text-decoration-color: #7f7f7f\">154</span></a>\n",
       "</pre>\n"
      ],
      "text/plain": [
       "\u001b[2;36m          \u001b[0m\u001b[2;36m \u001b[0m\u001b[33mWARNING \u001b[0m phase_2_4 is already taken, using phase_2_06 instead                            \u001b]8;id=280697;file:///Users/karaferner/opt/anaconda3/envs/openpnm35/lib/python3.10/site-packages/openpnm/utils/_project.py\u001b\\\u001b[2m_project.py\u001b[0m\u001b]8;;\u001b\\\u001b[2m:\u001b[0m\u001b]8;id=644224;file:///Users/karaferner/opt/anaconda3/envs/openpnm35/lib/python3.10/site-packages/openpnm/utils/_project.py#154\u001b\\\u001b[2m154\u001b[0m\u001b]8;;\u001b\\\n"
      ]
     },
     "metadata": {},
     "output_type": "display_data"
    },
    {
     "data": {
      "text/html": [
       "<pre style=\"white-space:pre;overflow-x:auto;line-height:normal;font-family:Menlo,'DejaVu Sans Mono',consolas,'Courier New',monospace\"><span style=\"color: #7fbfbf; text-decoration-color: #7fbfbf\">           </span><span style=\"color: #808000; text-decoration-color: #808000\">WARNING </span> phase_2_5 is already taken, using phase_2_07 instead                            <a href=\"file:///Users/karaferner/opt/anaconda3/envs/openpnm35/lib/python3.10/site-packages/openpnm/utils/_project.py\" target=\"_blank\"><span style=\"color: #7f7f7f; text-decoration-color: #7f7f7f\">_project.py</span></a><span style=\"color: #7f7f7f; text-decoration-color: #7f7f7f\">:</span><a href=\"file:///Users/karaferner/opt/anaconda3/envs/openpnm35/lib/python3.10/site-packages/openpnm/utils/_project.py#154\" target=\"_blank\"><span style=\"color: #7f7f7f; text-decoration-color: #7f7f7f\">154</span></a>\n",
       "</pre>\n"
      ],
      "text/plain": [
       "\u001b[2;36m          \u001b[0m\u001b[2;36m \u001b[0m\u001b[33mWARNING \u001b[0m phase_2_5 is already taken, using phase_2_07 instead                            \u001b]8;id=972799;file:///Users/karaferner/opt/anaconda3/envs/openpnm35/lib/python3.10/site-packages/openpnm/utils/_project.py\u001b\\\u001b[2m_project.py\u001b[0m\u001b]8;;\u001b\\\u001b[2m:\u001b[0m\u001b]8;id=956788;file:///Users/karaferner/opt/anaconda3/envs/openpnm35/lib/python3.10/site-packages/openpnm/utils/_project.py#154\u001b\\\u001b[2m154\u001b[0m\u001b]8;;\u001b\\\n"
      ]
     },
     "metadata": {},
     "output_type": "display_data"
    }
   ],
   "source": [
    "phases = []       \n",
    "for s,sample in enumerate(pn_total[1]):\n",
    "        sample_phases = []\n",
    "        for r,region in enumerate(sample):\n",
    "                phase = op.phase.Phase(network=region, name='phase_{}_{}'.format(s,r))\n",
    "                phase['pore.contact_angle'] =  75  \n",
    "                phase['pore.surface_tension'] = 0.0626 \n",
    "                # phase['throat.contact_angle'] =  75\n",
    "                # phase['throat.surface_tension'] = 0.0626\n",
    "\n",
    "                # phase.add_model_collection(op.models.collections.phase.water)\n",
    "                # phase.add_model_collection(op.models.collections.physics.basic)\n",
    "\n",
    "\n",
    "                phase.add_model(propname='throat.entry_pressure',model=op.models.physics.capillary_pressure.washburn,\n",
    "                                surface_tension='throat.surface_tension',\n",
    "                                contact_angle='throat.contact_angle',\n",
    "                                diameter='throat.diameter'\n",
    "                                )\n",
    "                phase.add_model(propname='pore.entry_pressure',model=op.models.physics.capillary_pressure.washburn,\n",
    "                                surface_tension='pore.surface_tension',\n",
    "                                contact_angle='pore.contact_angle',\n",
    "                                diameter='pore.diameter'\n",
    "                                )\n",
    "                phase.regenerate_models()\n",
    "\n",
    "                sample_phases.append(phase)\n",
    "        phases.append(sample_phases)\n",
    "\n"
   ]
  },
  {
   "cell_type": "code",
   "execution_count": null,
   "id": "6435ea4f",
   "metadata": {},
   "outputs": [],
   "source": [
    "\n"
   ]
  },
  {
   "cell_type": "code",
   "execution_count": 144,
   "id": "1516fb50",
   "metadata": {},
   "outputs": [],
   "source": [
    "\n",
    "import mixed_invasion_percolation_KF as mip\n",
    "import importlib\n",
    " \n",
    "importlib.reload(mip)\n",
    "from mixed_invasion_percolation_KF import MixedInvasionPercolation\n",
    "\n",
    "MIP = []\n",
    "for s,sample in enumerate(pn_total[1]):\n",
    "    sample_MIP = []\n",
    "    for r, region in enumerate(sample):\n",
    "\n",
    "        inlets = region.pores('ymax')\n",
    "        used_inlets = [inlets[y] for y in range(0, len(inlets), 2)]\n",
    "        MixedInvasionPercolation(network=region,phase=phases[s][r]).reset()\n",
    "        perc = MixedInvasionPercolation(network=region,phase=phases[s][r],\n",
    "                                        # name='mip_{}_{}'.format(s,r)\n",
    "                                        )\n",
    "        perc.setup(phase=phases[s][r])\n",
    "\n",
    "        perc.set_inlet_BC(pores = used_inlets)\n",
    "        perc.run()\n",
    "\n",
    "\n",
    "        sample_MIP.append(perc)\n",
    "    MIP.append(sample_MIP)\n",
    "\n",
    "# region = pn_total[1][0][0]\n",
    "# s=0\n",
    "# r-0\n",
    "\n",
    "# inlets = region.pores('ymax')\n",
    "# used_inlets = [inlets[y] for y in range(0, len(inlets), 1)]\n",
    "# MixedInvasionPercolation(network=region,phase=phases[s][r]).reset()\n",
    "# perc = MixedInvasionPercolation(network=region,phase=phases[s][r],\n",
    "#                                 # name='mip_{}_{}'.format(s,r)\n",
    "#                                 )\n",
    "# perc.setup(phase=phases[s][r])\n",
    "\n",
    "# perc.set_inlet_BC(pores = used_inlets)\n",
    "# perc.run()"
   ]
  },
  {
   "cell_type": "code",
   "execution_count": 145,
   "id": "edeeceea",
   "metadata": {},
   "outputs": [],
   "source": [
    "# pc = perc.pc_curve().pc\n",
    "# sat = perc.pc_curve().S_tot"
   ]
  },
  {
   "cell_type": "code",
   "execution_count": 146,
   "id": "7b57eb70",
   "metadata": {},
   "outputs": [
    {
     "name": "stdout",
     "output_type": "stream",
     "text": [
      "[2759 2757 4892 ...  111 2179   88]\n",
      "[ -619501.6903  -619501.6903  -197468.8124 ...  -926210.8533  -664779.0518\n",
      " -1080138.1482]\n",
      "\n",
      "══════════════════════════════════════════════════════════════════════════════\n",
      "mip_06 : <mixed_invasion_percolation_KF.MixedInvasionPercolation at 0x18225bf60>\n",
      "――――――――――――――――――――――――――――――――――――――――――――――――――――――――――――――――――――――――――――――\n",
      "  #  Properties                                                   Valid Values\n",
      "――――――――――――――――――――――――――――――――――――――――――――――――――――――――――――――――――――――――――――――\n",
      "  2  pore.invasion_pressure                                        1669 / 1669\n",
      "  3  throat.invasion_pressure                                      3281 / 3281\n",
      "  4  pore.invasion_sequence                                        1669 / 1669\n",
      "  5  throat.invasion_sequence                                      3281 / 3281\n",
      "  6  pore.cluster                                                  1669 / 1669\n",
      "  7  throat.cluster                                                3281 / 3281\n",
      "  8  pore.trapped                                                  1669 / 1669\n",
      "  9  throat.trapped                                                3281 / 3281\n",
      " 10  throat.entry_pressure                                         3281 / 3281\n",
      " 11  pore.entry_pressure                                           1669 / 1669\n",
      "――――――――――――――――――――――――――――――――――――――――――――――――――――――――――――――――――――――――――――――\n",
      "  #  Labels                                                 Assigned Locations\n",
      "――――――――――――――――――――――――――――――――――――――――――――――――――――――――――――――――――――――――――――――\n",
      "  2  pore.all                                                             1669\n",
      "  3  throat.all                                                           3281\n",
      "  4  pore.inlets                                                             0\n",
      "  5  pore.outlets                                                            0\n",
      "――――――――――――――――――――――――――――――――――――――――――――――――――――――――――――――――――――――――――――――\n"
     ]
    }
   ],
   "source": [
    "print(MIP[0][0]['pore.invasion_sequence'])\n",
    "print(MIP[0][0]['pore.invasion_pressure'])\n",
    "print(MIP[0][0])"
   ]
  },
  {
   "cell_type": "code",
   "execution_count": 147,
   "id": "20c1ac53",
   "metadata": {},
   "outputs": [],
   "source": [
    "\n",
    "mip_pcs = []\n",
    "mip_sats = []\n",
    "for s,sample in enumerate(MIP):\n",
    "    sample_pcs = []\n",
    "    sample_sats = []\n",
    "    for r,region in enumerate(sample):\n",
    "        region_pc = []\n",
    "        region_sat_tot = []\n",
    "\n",
    "        pc = region.pc_curve().pc\n",
    "        sat = region.pc_curve().S_tot\n",
    "\n",
    "        region_sat_tot.append(sat[0]) \n",
    "        region_pc.append(pc[0])\n",
    "        for i,x in enumerate(sat):\n",
    "            if  sat[i] - region_sat_tot[-1] > 0.0:\n",
    "                region_pc.append(pc[i])\n",
    "                region_sat_tot.append(sat[i])\n",
    "        sample_pcs.append(region_pc)\n",
    "        sample_sats.append(region_sat_tot)\n",
    "    mip_pcs.append(sample_pcs)\n",
    "    mip_sats.append(sample_sats)"
   ]
  },
  {
   "cell_type": "code",
   "execution_count": 148,
   "id": "4eb26b64",
   "metadata": {},
   "outputs": [
    {
     "name": "stdout",
     "output_type": "stream",
     "text": [
      "3\n",
      "[-2700345.3705696333, -2415262.2890668456, -1909432.5557540345, -1800230.2470464222, -1559045.154585441, -1497882.1204889335, -1443395.272719773, -1309859.9361868384, -1272955.0729367202, -1239003.3806186856, -1207631.1445334228, -1178527.3128390945, -1151431.1104249519, -1080138.1482278535, -1059162.5923534555, -1039363.4602352029, -1002883.1064961028, -853924.1736537353, -805087.4583028379, -796288.401234211, -771527.2487341809, -763773.0094253635, -748941.0602444668, -741841.9266210889, -734940.9178971484, -715338.981135257, -709145.427339943, -703110.0534413565, -691487.580508674, -685888.4250080253, -675086.3426424083, -669873.2411447094, -664779.0517795318, -659799.4229709979, -654929.9680934192, -650166.793750268, -645506.0260440477, -636477.5364683601, -632103.0591324545, -627817.5336601314, -623618.018913344, -619501.6903093428, -615465.8339848791, -611507.8413096498, -603815.5722667114, -600076.7490154741, -596406.4906680647, -592802.8226768194, -589263.6564195473, -585787.160466203, -582371.4471066248, -572472.085164567, -569282.8110497134, -566146.194045379, -560025.52729456, -557038.6905491335, -548357.0589747817, -545552.1390783209, -542789.8667111447, -540069.0741139267, -537388.8333676705, -529581.2961767277, -527053.4314784803, -524561.4403834294, -522104.5038434187, -519681.73011760146, -517292.34736117645, -514935.6515856382, -508054.2381656158, -505821.0323241908, -503617.0021570868, -501441.5532480514, -499294.0181522944, -497173.8778895451, -493013.33901366143, -490971.88555811514, -488955.5854031591, -483052.4681143692, -477358.13893850864, -475504.3055908693, -473671.9071020613, -471860.5359930268, -466548.61138838326, -461412.1647138327, -459737.3233531935, -458080.5994130204, -454820.2129587105, -453215.90404181177, -450057.56176160555, -448502.95687649085, -446964.3465110986, -445441.47711837455, -440964.54501551134, -436619.96189724654, -435200.0605096404, -431022.0323428829, -429655.8839795745, -426962.08682686766, -421723.08866376465, -420443.1913737471, -416672.34645654436, -415437.7493184051, -414214.0823865408, -410606.91249426815, -404798.8777054433, -403666.57121533883, -402543.72915141896, -401430.18957559933, -400325.8216971765, -394937.62489613844, -391807.27867198753, -387746.98911349295, -383810.3831479638, -380935.34185732977, -378123.9820131368, -376283.9502875566, -373573.5994246123, -371798.88860065205, -370049.22967963835, -367470.4589485742, -365780.93457721215, -363289.77076965495, -356111.0107856924, -353811.0138813803, -353054.2084564941, -351555.02672067826, -347889.0729394055, -345037.4646110802, -342254.87313323846, -338869.4858173755, -337543.17132120416, -333655.774612271, -331761.8063584955, -325673.9012975951, -322178.2125903975, -301907.7861333557, -297749.7186080419, -291185.7235533124, -230286.23613180895, -197468.81244806922]\n"
     ]
    }
   ],
   "source": [
    "print(len(MIP))\n",
    "print(mip_pcs[0][0])"
   ]
  },
  {
   "cell_type": "code",
   "execution_count": 149,
   "id": "83ef32ad",
   "metadata": {},
   "outputs": [
    {
     "data": {
      "image/png": "[encoded data removed]",
      "text/plain": [
       "<Figure size 600x500 with 1 Axes>"
      ]
     },
     "metadata": {},
     "output_type": "display_data"
    }
   ],
   "source": [
    "fig, ax = plt.subplots()\n",
    "\n",
    "line_colors =['k','b','r']\n",
    "shapes = ['^','o','s','v','>','<']\n",
    "zorders = [100,99,98]\n",
    "\n",
    "for s,sample in enumerate(mip_pcs):\n",
    "    for r,region in enumerate(sample):\n",
    "        # if s==1 and r==4:\n",
    "        if True:\n",
    "            # ax.plot(region,1-np.array(perc_sats[s][r]),color = line_colors[s], marker = shapes[r], \n",
    "            #         markeredgewidth=0.5, markerfacecolor='white',zorder=zorders[s])\n",
    "            ax.plot(np.array(mip_pcs[s][r])*-1,np.array(mip_sats[s][r]),linewidth=4,color = line_colors[s], marker = shapes[r], \n",
    "                    markeredgewidth=1,markersize=8, markerfacecolor='white',zorder=zorders[s])\n",
    "            \n",
    "for i,sample in enumerate(rm):\n",
    "    rk = rm[i]\n",
    "    sk = ln_sigma[i]/2\n",
    "    x = np.log(rcap/rk)/(sk*np.sqrt(2))\n",
    "    s = 0.5*(1+sp.special.erf(x))\n",
    "    ax.plot(pcap*1,s,color=line_colors[i], linewidth=4,zorder=200)\n",
    "\n",
    "ax.set_xlabel(\"Negative Capillary Pressure [Pa]\")\n",
    "ax.set_ylabel(\"Saturation (Water)\")\n",
    "ax.set_xscale('log')\n",
    "ax.set_xlim([10**7, 10**4])\n",
    "ax.invert_xaxis()\n",
    "plt.tick_params(axis='x', which='minor')\n",
    "\n"
   ]
  },
  {
   "cell_type": "code",
   "execution_count": null,
   "id": "861b1250",
   "metadata": {},
   "outputs": [],
   "source": []
  }
 ],
 "metadata": {
  "kernelspec": {
   "display_name": "openpnm35",
   "language": "python",
   "name": "python3"
  },
  "language_info": {
   "codemirror_mode": {
    "name": "ipython",
    "version": 3
   },
   "file_extension": ".py",
   "mimetype": "text/x-python",
   "name": "python",
   "nbconvert_exporter": "python",
   "pygments_lexer": "ipython3",
   "version": "3.10.18"
  }
 },
 "nbformat": 4,
 "nbformat_minor": 5
}
